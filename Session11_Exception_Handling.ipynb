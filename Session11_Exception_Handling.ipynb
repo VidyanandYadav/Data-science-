{
 "cells": [
  {
   "cell_type": "markdown",
   "id": "c45cc192-98f7-4eb1-8332-54b81e57cdb3",
   "metadata": {},
   "source": [
    "### There are 2 stages where error may happen in a program\n",
    "##### .During compilation -> Syntax Error\n",
    "##### .During execution -> Exceptions"
   ]
  },
  {
   "cell_type": "markdown",
   "id": "7c50050f-8e76-4c63-9d37-3785980fb5f0",
   "metadata": {},
   "source": [
    "### Syntax Error\n",
    "##### .Something in the program is not written according to the program grammar.\n",
    "##### .Error is raised by the interpreter/compiler\n",
    "##### .You can solve it by rectifying the program"
   ]
  },
  {
   "cell_type": "code",
   "execution_count": 1,
   "id": "285f1699-9535-484e-8ee3-d6c9670fecaf",
   "metadata": {},
   "outputs": [
    {
     "ename": "SyntaxError",
     "evalue": "Missing parentheses in call to 'print'. Did you mean print(...)? (2227285899.py, line 2)",
     "output_type": "error",
     "traceback": [
      "\u001b[1;36m  Cell \u001b[1;32mIn[1], line 2\u001b[1;36m\u001b[0m\n\u001b[1;33m    print \"helllo world\"\u001b[0m\n\u001b[1;37m    ^\u001b[0m\n\u001b[1;31mSyntaxError\u001b[0m\u001b[1;31m:\u001b[0m Missing parentheses in call to 'print'. Did you mean print(...)?\n"
     ]
    }
   ],
   "source": [
    "# Example of syntax error\n",
    "print \"helllo world\""
   ]
  },
  {
   "cell_type": "markdown",
   "id": "6f555165-7a67-40d3-b731-74605c2fd4b3",
   "metadata": {},
   "source": [
    "#### Other examples of syntax error\n",
    "###### .Leaving symbols like colon,brackets\n",
    "###### .Misspelling a keyword\n",
    "###### .Incorrect indentation\n",
    "###### .empty if/else/loops/class/functions"
   ]
  },
  {
   "cell_type": "code",
   "execution_count": 5,
   "id": "cae168b9-5610-4f79-b34d-c832b6cbb18d",
   "metadata": {},
   "outputs": [
    {
     "ename": "SyntaxError",
     "evalue": "expected ':' (3877831027.py, line 2)",
     "output_type": "error",
     "traceback": [
      "\u001b[1;36m  Cell \u001b[1;32mIn[5], line 2\u001b[1;36m\u001b[0m\n\u001b[1;33m    if a == 3\u001b[0m\n\u001b[1;37m             ^\u001b[0m\n\u001b[1;31mSyntaxError\u001b[0m\u001b[1;31m:\u001b[0m expected ':'\n"
     ]
    }
   ],
   "source": [
    "a = 5\n",
    "if a == 3\n",
    " print(\"Hello\")"
   ]
  },
  {
   "cell_type": "code",
   "execution_count": 6,
   "id": "65ba29ea-ece2-4a17-8ae1-b9cb382bb0ae",
   "metadata": {},
   "outputs": [
    {
     "ename": "SyntaxError",
     "evalue": "invalid syntax (1355277957.py, line 2)",
     "output_type": "error",
     "traceback": [
      "\u001b[1;36m  Cell \u001b[1;32mIn[6], line 2\u001b[1;36m\u001b[0m\n\u001b[1;33m    iff a == 3\u001b[0m\n\u001b[1;37m        ^\u001b[0m\n\u001b[1;31mSyntaxError\u001b[0m\u001b[1;31m:\u001b[0m invalid syntax\n"
     ]
    }
   ],
   "source": [
    "a = 5\n",
    "iff a == 3\n",
    " print(\"Hello\")"
   ]
  },
  {
   "cell_type": "code",
   "execution_count": 7,
   "id": "aef371be-67f3-4b51-85f8-beeac0d03ade",
   "metadata": {},
   "outputs": [
    {
     "ename": "IndentationError",
     "evalue": "expected an indented block after 'if' statement on line 2 (3350465489.py, line 3)",
     "output_type": "error",
     "traceback": [
      "\u001b[1;36m  Cell \u001b[1;32mIn[7], line 3\u001b[1;36m\u001b[0m\n\u001b[1;33m    print(\"Hello\")\u001b[0m\n\u001b[1;37m    ^\u001b[0m\n\u001b[1;31mIndentationError\u001b[0m\u001b[1;31m:\u001b[0m expected an indented block after 'if' statement on line 2\n"
     ]
    }
   ],
   "source": [
    "a = 5\n",
    "if a == 3:\n",
    "print(\"Hello\")"
   ]
  },
  {
   "cell_type": "code",
   "execution_count": 13,
   "id": "97d525d8-50e3-4b1c-ad9f-9406f25c291c",
   "metadata": {},
   "outputs": [
    {
     "ename": "IndexError",
     "evalue": "list index out of range",
     "output_type": "error",
     "traceback": [
      "\u001b[1;31m---------------------------------------------------------------------------\u001b[0m",
      "\u001b[1;31mIndexError\u001b[0m                                Traceback (most recent call last)",
      "Cell \u001b[1;32mIn[13], line 4\u001b[0m\n\u001b[0;32m      1\u001b[0m \u001b[38;5;66;03m#IndexError\u001b[39;00m\n\u001b[0;32m      2\u001b[0m \u001b[38;5;66;03m# The index error is thrown when trying to access an item at an invalid index\u001b[39;00m\n\u001b[0;32m      3\u001b[0m L \u001b[38;5;241m=\u001b[39m [\u001b[38;5;241m1\u001b[39m,\u001b[38;5;241m2\u001b[39m,\u001b[38;5;241m3\u001b[39m]\n\u001b[1;32m----> 4\u001b[0m L[\u001b[38;5;241m100\u001b[39m]\n",
      "\u001b[1;31mIndexError\u001b[0m: list index out of range"
     ]
    }
   ],
   "source": [
    "#IndexError\n",
    "# The index error is thrown when trying to access an item at an invalid index\n",
    "L = [1,2,3]\n",
    "L[100]"
   ]
  },
  {
   "cell_type": "code",
   "execution_count": 14,
   "id": "bacef606-b3b8-4c29-8dd4-ee469af9423b",
   "metadata": {},
   "outputs": [
    {
     "ename": "ModuleNotFoundError",
     "evalue": "No module named 'mathiiii'",
     "output_type": "error",
     "traceback": [
      "\u001b[1;31m---------------------------------------------------------------------------\u001b[0m",
      "\u001b[1;31mModuleNotFoundError\u001b[0m                       Traceback (most recent call last)",
      "Cell \u001b[1;32mIn[14], line 3\u001b[0m\n\u001b[0;32m      1\u001b[0m \u001b[38;5;66;03m# ModuleNotFoundError\u001b[39;00m\n\u001b[0;32m      2\u001b[0m \u001b[38;5;66;03m# The ModuleNotFoundError is thrown when a module could not be found\u001b[39;00m\n\u001b[1;32m----> 3\u001b[0m \u001b[38;5;28;01mimport\u001b[39;00m \u001b[38;5;21;01mmathiiii\u001b[39;00m\n\u001b[0;32m      4\u001b[0m math\u001b[38;5;241m.\u001b[39mfloor(\u001b[38;5;241m5.3\u001b[39m)\n",
      "\u001b[1;31mModuleNotFoundError\u001b[0m: No module named 'mathiiii'"
     ]
    }
   ],
   "source": [
    "# ModuleNotFoundError\n",
    "# The ModuleNotFoundError is thrown when a module could not be found\n",
    "import mathiiii\n",
    "math.floor(5.3)"
   ]
  },
  {
   "cell_type": "code",
   "execution_count": 15,
   "id": "1251659d-d947-4a2b-b71b-fd7b66edb973",
   "metadata": {},
   "outputs": [
    {
     "ename": "KeyError",
     "evalue": "'age'",
     "output_type": "error",
     "traceback": [
      "\u001b[1;31m---------------------------------------------------------------------------\u001b[0m",
      "\u001b[1;31mKeyError\u001b[0m                                  Traceback (most recent call last)",
      "Cell \u001b[1;32mIn[15], line 4\u001b[0m\n\u001b[0;32m      1\u001b[0m \u001b[38;5;66;03m# KeyError\u001b[39;00m\n\u001b[0;32m      2\u001b[0m \u001b[38;5;66;03m# The KeyError is thrown when a key is not found\u001b[39;00m\n\u001b[0;32m      3\u001b[0m d \u001b[38;5;241m=\u001b[39m {\u001b[38;5;124m\"\u001b[39m\u001b[38;5;124mName\u001b[39m\u001b[38;5;124m\"\u001b[39m: \u001b[38;5;124m\"\u001b[39m\u001b[38;5;124mNitish\u001b[39m\u001b[38;5;124m\"\u001b[39m}\n\u001b[1;32m----> 4\u001b[0m d[\u001b[38;5;124m\"\u001b[39m\u001b[38;5;124mage\u001b[39m\u001b[38;5;124m\"\u001b[39m]\n",
      "\u001b[1;31mKeyError\u001b[0m: 'age'"
     ]
    }
   ],
   "source": [
    "# KeyError\n",
    "# The KeyError is thrown when a key is not found\n",
    "d = {\"Name\": \"Nitish\"}\n",
    "d[\"age\"]"
   ]
  },
  {
   "cell_type": "code",
   "execution_count": 16,
   "id": "8d5cdd7d-dde9-4798-bd90-54cc2df68258",
   "metadata": {},
   "outputs": [
    {
     "ename": "TypeError",
     "evalue": "unsupported operand type(s) for +: 'int' and 'str'",
     "output_type": "error",
     "traceback": [
      "\u001b[1;31m---------------------------------------------------------------------------\u001b[0m",
      "\u001b[1;31mTypeError\u001b[0m                                 Traceback (most recent call last)",
      "Cell \u001b[1;32mIn[16], line 3\u001b[0m\n\u001b[0;32m      1\u001b[0m \u001b[38;5;66;03m# TypeError\u001b[39;00m\n\u001b[0;32m      2\u001b[0m \u001b[38;5;66;03m# The TypeError is thrown when an operation or function is applied to an object of an inappropriate type\u001b[39;00m\n\u001b[1;32m----> 3\u001b[0m \u001b[38;5;241m1\u001b[39m \u001b[38;5;241m+\u001b[39m \u001b[38;5;124m\"\u001b[39m\u001b[38;5;124ma\u001b[39m\u001b[38;5;124m\"\u001b[39m\n",
      "\u001b[1;31mTypeError\u001b[0m: unsupported operand type(s) for +: 'int' and 'str'"
     ]
    }
   ],
   "source": [
    "# TypeError\n",
    "# The TypeError is thrown when an operation or function is applied to an object of an inappropriate type\n",
    "1 + \"a\"\n"
   ]
  },
  {
   "cell_type": "code",
   "execution_count": 17,
   "id": "9d6e0836-1b87-4a7f-8083-4d03ad030e85",
   "metadata": {},
   "outputs": [
    {
     "ename": "ValueError",
     "evalue": "invalid literal for int() with base 10: 'a'",
     "output_type": "error",
     "traceback": [
      "\u001b[1;31m---------------------------------------------------------------------------\u001b[0m",
      "\u001b[1;31mValueError\u001b[0m                                Traceback (most recent call last)",
      "Cell \u001b[1;32mIn[17], line 3\u001b[0m\n\u001b[0;32m      1\u001b[0m \u001b[38;5;66;03m# ValueError\u001b[39;00m\n\u001b[0;32m      2\u001b[0m \u001b[38;5;66;03m# The VAlueError isthrown when a function's argument is of an inappropriate type\u001b[39;00m\n\u001b[1;32m----> 3\u001b[0m \u001b[38;5;28mint\u001b[39m(\u001b[38;5;124m\"\u001b[39m\u001b[38;5;124ma\u001b[39m\u001b[38;5;124m\"\u001b[39m)\n",
      "\u001b[1;31mValueError\u001b[0m: invalid literal for int() with base 10: 'a'"
     ]
    }
   ],
   "source": [
    "# ValueError\n",
    "# The VAlueError isthrown when a function's argument is of an inappropriate type\n",
    "int(\"a\")"
   ]
  },
  {
   "cell_type": "code",
   "execution_count": 18,
   "id": "d3074241-22b8-4591-b545-c215a8be39f4",
   "metadata": {},
   "outputs": [
    {
     "ename": "NameError",
     "evalue": "name 'k' is not defined",
     "output_type": "error",
     "traceback": [
      "\u001b[1;31m---------------------------------------------------------------------------\u001b[0m",
      "\u001b[1;31mNameError\u001b[0m                                 Traceback (most recent call last)",
      "Cell \u001b[1;32mIn[18], line 3\u001b[0m\n\u001b[0;32m      1\u001b[0m \u001b[38;5;66;03m#NameError\u001b[39;00m\n\u001b[0;32m      2\u001b[0m \u001b[38;5;66;03m# The NameError is thrown when an object could not be found\u001b[39;00m\n\u001b[1;32m----> 3\u001b[0m \u001b[38;5;28mprint\u001b[39m(k)\n",
      "\u001b[1;31mNameError\u001b[0m: name 'k' is not defined"
     ]
    }
   ],
   "source": [
    "#NameError\n",
    "# The NameError is thrown when an object could not be found\n",
    "print(k)"
   ]
  },
  {
   "cell_type": "code",
   "execution_count": 19,
   "id": "ffdd31e0-e98c-4d46-ae0a-5ef89fad40dc",
   "metadata": {},
   "outputs": [
    {
     "ename": "AttributeError",
     "evalue": "'list' object has no attribute 'upper'",
     "output_type": "error",
     "traceback": [
      "\u001b[1;31m---------------------------------------------------------------------------\u001b[0m",
      "\u001b[1;31mAttributeError\u001b[0m                            Traceback (most recent call last)",
      "Cell \u001b[1;32mIn[19], line 3\u001b[0m\n\u001b[0;32m      1\u001b[0m \u001b[38;5;66;03m# AttributeError\u001b[39;00m\n\u001b[0;32m      2\u001b[0m L \u001b[38;5;241m=\u001b[39m [\u001b[38;5;241m1\u001b[39m,\u001b[38;5;241m2\u001b[39m,\u001b[38;5;241m3\u001b[39m,\u001b[38;5;241m4\u001b[39m,\u001b[38;5;241m5\u001b[39m]\n\u001b[1;32m----> 3\u001b[0m L\u001b[38;5;241m.\u001b[39mupper()\n",
      "\u001b[1;31mAttributeError\u001b[0m: 'list' object has no attribute 'upper'"
     ]
    }
   ],
   "source": [
    "# AttributeError\n",
    "L = [1,2,3,4,5]\n",
    "L.upper()"
   ]
  },
  {
   "cell_type": "markdown",
   "id": "f8c55748-9191-4f5b-939a-5b4ea24ac134",
   "metadata": {},
   "source": [
    "### Exceptions\n",
    "##### If things go wrong during the execution of the program(runtime). It generally happens when something unforeseen has happened.\n",
    "##### .Exceptions are raised by python runtime\n",
    "##### .You have to takle is on the fly"
   ]
  },
  {
   "cell_type": "markdown",
   "id": "6474bcbb-b1b8-488d-97bc-a3c02a0a59f7",
   "metadata": {},
   "source": [
    "#### Examples\n",
    "###### .Memory overflow\n",
    "###### .Divide by 0 -> logical error\n",
    "###### .Database error"
   ]
  },
  {
   "cell_type": "raw",
   "id": "14e7cdf1-508a-4d91-9f47-cab7c4d79976",
   "metadata": {},
   "source": [
    "Why is it important to handle exceptions ? Reasons are below\n",
    "User Experience\n",
    "Security"
   ]
  },
  {
   "cell_type": "raw",
   "id": "5afdb74e-14ea-4638-a35d-8a5ddd38bd68",
   "metadata": {},
   "source": [
    "How to handle exceptions -->> try except block"
   ]
  },
  {
   "cell_type": "code",
   "execution_count": 20,
   "id": "43887fa7-cb38-4492-a25c-6538727c989e",
   "metadata": {},
   "outputs": [],
   "source": [
    "# let create a file\n",
    "with open(\"sample.txt\",\"w\") as f:\n",
    "    f.write(\"Hello World\")"
   ]
  },
  {
   "cell_type": "code",
   "execution_count": 21,
   "id": "f7ec6446-c92c-42ab-85ab-131744d2cc8e",
   "metadata": {},
   "outputs": [
    {
     "ename": "FileNotFoundError",
     "evalue": "[Errno 2] No such file or directory: 'sampleee.txt'",
     "output_type": "error",
     "traceback": [
      "\u001b[1;31m---------------------------------------------------------------------------\u001b[0m",
      "\u001b[1;31mFileNotFoundError\u001b[0m                         Traceback (most recent call last)",
      "Cell \u001b[1;32mIn[21], line 2\u001b[0m\n\u001b[0;32m      1\u001b[0m \u001b[38;5;66;03m# try catch demo\u001b[39;00m\n\u001b[1;32m----> 2\u001b[0m \u001b[38;5;28;01mwith\u001b[39;00m \u001b[38;5;28mopen\u001b[39m(\u001b[38;5;124m\"\u001b[39m\u001b[38;5;124msampleee.txt\u001b[39m\u001b[38;5;124m\"\u001b[39m,\u001b[38;5;124m\"\u001b[39m\u001b[38;5;124mr\u001b[39m\u001b[38;5;124m\"\u001b[39m) \u001b[38;5;28;01mas\u001b[39;00m f:\n\u001b[0;32m      3\u001b[0m     \u001b[38;5;28mprint\u001b[39m(f\u001b[38;5;241m.\u001b[39mread())\n",
      "File \u001b[1;32mC:\\ProgramData\\anaconda3\\Lib\\site-packages\\IPython\\core\\interactiveshell.py:324\u001b[0m, in \u001b[0;36m_modified_open\u001b[1;34m(file, *args, **kwargs)\u001b[0m\n\u001b[0;32m    317\u001b[0m \u001b[38;5;28;01mif\u001b[39;00m file \u001b[38;5;129;01min\u001b[39;00m {\u001b[38;5;241m0\u001b[39m, \u001b[38;5;241m1\u001b[39m, \u001b[38;5;241m2\u001b[39m}:\n\u001b[0;32m    318\u001b[0m     \u001b[38;5;28;01mraise\u001b[39;00m \u001b[38;5;167;01mValueError\u001b[39;00m(\n\u001b[0;32m    319\u001b[0m         \u001b[38;5;124mf\u001b[39m\u001b[38;5;124m\"\u001b[39m\u001b[38;5;124mIPython won\u001b[39m\u001b[38;5;124m'\u001b[39m\u001b[38;5;124mt let you open fd=\u001b[39m\u001b[38;5;132;01m{\u001b[39;00mfile\u001b[38;5;132;01m}\u001b[39;00m\u001b[38;5;124m by default \u001b[39m\u001b[38;5;124m\"\u001b[39m\n\u001b[0;32m    320\u001b[0m         \u001b[38;5;124m\"\u001b[39m\u001b[38;5;124mas it is likely to crash IPython. If you know what you are doing, \u001b[39m\u001b[38;5;124m\"\u001b[39m\n\u001b[0;32m    321\u001b[0m         \u001b[38;5;124m\"\u001b[39m\u001b[38;5;124myou can use builtins\u001b[39m\u001b[38;5;124m'\u001b[39m\u001b[38;5;124m open.\u001b[39m\u001b[38;5;124m\"\u001b[39m\n\u001b[0;32m    322\u001b[0m     )\n\u001b[1;32m--> 324\u001b[0m \u001b[38;5;28;01mreturn\u001b[39;00m io_open(file, \u001b[38;5;241m*\u001b[39margs, \u001b[38;5;241m*\u001b[39m\u001b[38;5;241m*\u001b[39mkwargs)\n",
      "\u001b[1;31mFileNotFoundError\u001b[0m: [Errno 2] No such file or directory: 'sampleee.txt'"
     ]
    }
   ],
   "source": [
    "# try catch demo\n",
    "with open(\"sampleee.txt\",\"r\") as f:\n",
    "    print(f.read())\n",
    "\n",
    "# As it is showing error -->> now use try catch to handle this"
   ]
  },
  {
   "cell_type": "code",
   "execution_count": 23,
   "id": "05d65d5b-5468-4107-a00d-efa63c3002cc",
   "metadata": {},
   "outputs": [
    {
     "name": "stdout",
     "output_type": "stream",
     "text": [
      "Sorry file not found\n"
     ]
    }
   ],
   "source": [
    "# try catch demo\n",
    "try:\n",
    "    with open(\"sampleee.txt\",\"r\") as f:\n",
    "     print(f.read())\n",
    "except:\n",
    "    print(\"Sorry file not found\")"
   ]
  },
  {
   "cell_type": "code",
   "execution_count": 29,
   "id": "2041871e-54c2-43f9-b8f6-d2f475e658ef",
   "metadata": {},
   "outputs": [
    {
     "name": "stdout",
     "output_type": "stream",
     "text": [
      "{'Name': 'Nitish', 'Age': 32, 'Gender': 'Male'}\n",
      "0\n",
      "2.5\n",
      "list index out of range\n"
     ]
    }
   ],
   "source": [
    "# catching specific exception\n",
    "try:\n",
    "    m = 0\n",
    "    f = open(\"Sample1.txt\",\"r\")\n",
    "    print(f.read())\n",
    "    print(m)\n",
    "    print(5/2)\n",
    "    L = [1,2,3,4,5]\n",
    "    L[100]\n",
    "except FileNotFoundError:\n",
    "    print(\"File not found\")\n",
    "except NameError:\n",
    "    print(\"Variable not defined\")\n",
    "except ZeroDivisionError:\n",
    "    print(\"Can't divide by zero\")\n",
    "except Exception as e:\n",
    "    print(e) "
   ]
  },
  {
   "cell_type": "markdown",
   "id": "78b72dc6-09f1-4b39-b0ca-fcc12017c6ec",
   "metadata": {},
   "source": [
    "##### except Exception as e: -->> it is generic exception handling which handles all the types of error and note that it is always defined or introduce at the last "
   ]
  },
  {
   "cell_type": "code",
   "execution_count": 30,
   "id": "4f8fc533-0462-46eb-9a67-fa44bb0970ab",
   "metadata": {},
   "outputs": [
    {
     "name": "stdout",
     "output_type": "stream",
     "text": [
      "Hello World\n"
     ]
    }
   ],
   "source": [
    "# else -->> It is used for when there is not exception to be handled then what you wantr to do\n",
    "try:\n",
    "    f = open(\"sample.txt\",\"r\")\n",
    "except FileNotFoundError:\n",
    "    print(\"File Nai Milli yrr\")\n",
    "except Exception:\n",
    "    print(\"Kuchh to lafda hai\")\n",
    "else:\n",
    "    print(f.read())"
   ]
  },
  {
   "cell_type": "raw",
   "id": "2d1dfd84-b653-438b-aadb-8348d7dbf4df",
   "metadata": {},
   "source": [
    "finally -->> It will execute at any cost no matter that there is error or not   "
   ]
  },
  {
   "cell_type": "code",
   "execution_count": 33,
   "id": "f78940a7-8eb4-4552-92f8-a266915fd63d",
   "metadata": {},
   "outputs": [
    {
     "name": "stdout",
     "output_type": "stream",
     "text": [
      "Hello World\n",
      "Ye to print hoga hi\n"
     ]
    }
   ],
   "source": [
    "# There is no any error and after else .. finally block is executed\n",
    "try:\n",
    "    f = open(\"sample.txt\",\"r\")\n",
    "except FileNotFoundError:\n",
    "    print(\"File Nai Milli yrr\")\n",
    "except Exception:\n",
    "    print(\"Kuchh to lafda hai\")\n",
    "else:\n",
    "    print(f.read())\n",
    "finally:\n",
    "    print(\"Ye to print hoga hi\")"
   ]
  },
  {
   "cell_type": "code",
   "execution_count": 34,
   "id": "12a4525b-2926-4ae9-bb00-3e23e57d6803",
   "metadata": {},
   "outputs": [
    {
     "name": "stdout",
     "output_type": "stream",
     "text": [
      "File Nai Milli yrr\n",
      "Ye to print hoga hi\n"
     ]
    }
   ],
   "source": [
    "# Look that here is error and exception is handled then also finally block is executed \n",
    "try:\n",
    "    f = open(\"sample11.txt\",\"r\")\n",
    "except FileNotFoundError:\n",
    "    print(\"File Nai Milli yrr\")\n",
    "except Exception:\n",
    "    print(\"Kuchh to lafda hai\")\n",
    "else:\n",
    "    print(f.read())\n",
    "finally:\n",
    "    print(\"Ye to print hoga hi\")"
   ]
  },
  {
   "cell_type": "code",
   "execution_count": null,
   "id": "29afc168-1597-48f6-b9ad-fdea6946f946",
   "metadata": {},
   "outputs": [],
   "source": [
    "# raise exception\n",
    "# In python programming, exceptions are raised when errors occured at runtime.\n",
    "# We can also manually raise exceptions using the raise keyword.\n",
    "\n",
    "# We can optionally pass values to the exception to clarify why that exception was raised"
   ]
  },
  {
   "cell_type": "raw",
   "id": "05c202eb-4f39-4445-9019-86afd734b9ef",
   "metadata": {},
   "source": [
    "Python gave you a power to raise error by yourself using a keywoord--->>> raise"
   ]
  },
  {
   "cell_type": "code",
   "execution_count": 37,
   "id": "64e777f8-3ac8-42a4-849b-015a2ac7a183",
   "metadata": {},
   "outputs": [
    {
     "ename": "FileNotFoundError",
     "evalue": "Bss try kar raha hu",
     "output_type": "error",
     "traceback": [
      "\u001b[1;31m---------------------------------------------------------------------------\u001b[0m",
      "\u001b[1;31mFileNotFoundError\u001b[0m                         Traceback (most recent call last)",
      "Cell \u001b[1;32mIn[37], line 1\u001b[0m\n\u001b[1;32m----> 1\u001b[0m \u001b[38;5;28;01mraise\u001b[39;00m \u001b[38;5;167;01mFileNotFoundError\u001b[39;00m(\u001b[38;5;124m\"\u001b[39m\u001b[38;5;124mBss try kar raha hu\u001b[39m\u001b[38;5;124m\"\u001b[39m)\n",
      "\u001b[1;31mFileNotFoundError\u001b[0m: Bss try kar raha hu"
     ]
    }
   ],
   "source": [
    "raise FileNotFoundError(\"Bss try kar raha hu\")"
   ]
  },
  {
   "cell_type": "code",
   "execution_count": 38,
   "id": "6a63d420-546a-4696-96c0-f67145f2f70c",
   "metadata": {},
   "outputs": [
    {
     "ename": "ZeroDivisionError",
     "evalue": "Aise hi try kar raha",
     "output_type": "error",
     "traceback": [
      "\u001b[1;31m---------------------------------------------------------------------------\u001b[0m",
      "\u001b[1;31mZeroDivisionError\u001b[0m                         Traceback (most recent call last)",
      "Cell \u001b[1;32mIn[38], line 1\u001b[0m\n\u001b[1;32m----> 1\u001b[0m \u001b[38;5;28;01mraise\u001b[39;00m \u001b[38;5;167;01mZeroDivisionError\u001b[39;00m(\u001b[38;5;124m\"\u001b[39m\u001b[38;5;124mAise hi try kar raha\u001b[39m\u001b[38;5;124m\"\u001b[39m)\n",
      "\u001b[1;31mZeroDivisionError\u001b[0m: Aise hi try kar raha"
     ]
    }
   ],
   "source": [
    "raise ZeroDivisionError(\"Aise hi try kar raha\")"
   ]
  },
  {
   "cell_type": "raw",
   "id": "392ce412-3273-4f18-8276-5c5117bec109",
   "metadata": {},
   "source": [
    "NOTE\n",
    "In Java \n",
    "try-->> try hi likhte hain\n",
    "except-->> catch likhte hain\n",
    "raise-->> throw likhte hain"
   ]
  },
  {
   "cell_type": "raw",
   "id": "30db58dc-8454-446f-bacc-54dbb8b4ac95",
   "metadata": {},
   "source": [
    "Let's see what is the benefit of using/raising an user defined error"
   ]
  },
  {
   "cell_type": "code",
   "execution_count": 42,
   "id": "50cc2b64-afd4-48f5-a4ec-db5d521912e0",
   "metadata": {},
   "outputs": [
    {
     "name": "stdout",
     "output_type": "stream",
     "text": [
      "Amount cannot be negative\n"
     ]
    }
   ],
   "source": [
    "class Bank:\n",
    "    def __init__(self,balance):\n",
    "        self.balance = balance\n",
    "    def withdraw(self,amount):\n",
    "        if amount < 0:\n",
    "            raise Exception(\"Amount cannot be negative\")\n",
    "        if self.balance < amount:\n",
    "            raise Exception(\"Paise nahi hain tere pass\")\n",
    "        self.balance = self.balance - amount\n",
    "\n",
    "obj = Bank(10000)\n",
    "try:\n",
    "    obj.withdraw(-5000)\n",
    "except Exception as e:\n",
    "    print(e)\n",
    "else:\n",
    "    print(obj.balance)\n",
    "    "
   ]
  },
  {
   "cell_type": "raw",
   "id": "cda4a0b6-b803-4076-8f08-1f239430e459",
   "metadata": {},
   "source": [
    "creating custom exceptions"
   ]
  },
  {
   "cell_type": "code",
   "execution_count": 43,
   "id": "e4031bb0-d506-45ea-af1d-48ee74695963",
   "metadata": {},
   "outputs": [
    {
     "name": "stdout",
     "output_type": "stream",
     "text": [
      "Amount cannot be negative\n"
     ]
    }
   ],
   "source": [
    "class MyException(Exception):\n",
    "    def __init__(self,message):\n",
    "        print(message)\n",
    "class Bank:\n",
    "    def __init__(self,balance):\n",
    "        self.balance = balance\n",
    "    def withdraw(self,amount):\n",
    "        if amount < 0:\n",
    "            raise MyException(\"Amount cannot be negative\")\n",
    "        if self.balance < amount:\n",
    "            raise MyException(\"Paise nahi hain tere pass\")\n",
    "        self.balance = self.balance - amount\n",
    "\n",
    "obj = Bank(10000)\n",
    "try:\n",
    "    obj.withdraw(-5000)\n",
    "except Exception as e:\n",
    "    pass #Here we haven't printed the type of exception bcz it's already mentioned in MyException constructor\n",
    "else:\n",
    "    print(obj.balance)"
   ]
  },
  {
   "cell_type": "raw",
   "id": "8303f1fb-8d31-41e2-a412-13f7ae35ce1e",
   "metadata": {},
   "source": [
    "What is the use of creating my own class of Exception -->> Full contraol in your hand"
   ]
  },
  {
   "cell_type": "code",
   "execution_count": 45,
   "id": "6126b492-4c47-4e69-a469-44bd4e7601dc",
   "metadata": {},
   "outputs": [],
   "source": [
    "# Let's see an example"
   ]
  },
  {
   "cell_type": "code",
   "execution_count": 51,
   "id": "b59bc51f-c94b-440b-8944-e8d69b8a1d59",
   "metadata": {},
   "outputs": [
    {
     "name": "stdout",
     "output_type": "stream",
     "text": [
      "Bhai teri to lag gayi\n",
      "logout\n",
      "Database connection closed successfully\n"
     ]
    }
   ],
   "source": [
    "class SecurityError(Exception):\n",
    "    def __init__(self,message):\n",
    "        print(message)\n",
    "    def logout(self):\n",
    "        print(\"logout\")\n",
    "class Google:\n",
    "    def __init__(self,name,email,password,device):\n",
    "        self.name = name\n",
    "        self.email = email\n",
    "        self.password = password\n",
    "        self.device = device\n",
    "    def login(self,email,password,device):\n",
    "        if device != self.device:\n",
    "            raise SecurityError(\"Bhai teri to lag gayi\")\n",
    "        if email == self.email and password == self.password:\n",
    "            print(\"Welcome\")\n",
    "        else:\n",
    "            print(\"Login Error\")\n",
    "\n",
    "\n",
    "obj = Google(\"Nitish\",\"nitish@gmail.com\",\"1234\",\"android\")\n",
    "try:\n",
    "    obj.login(\"nitish@gmail.com\",\"1234\",\"windows\")\n",
    "except SecurityError as e:\n",
    "    e.logout()\n",
    "else:\n",
    "    print(obj.name)\n",
    "finally:\n",
    "    print(\"Database connection closed successfully\")"
   ]
  },
  {
   "cell_type": "code",
   "execution_count": null,
   "id": "f537d3d1-ef78-46ac-9aa2-cb7a1a45e88e",
   "metadata": {},
   "outputs": [],
   "source": []
  },
  {
   "cell_type": "code",
   "execution_count": null,
   "id": "629e9639-58e2-4c28-b645-411e6c9b0bc9",
   "metadata": {},
   "outputs": [],
   "source": []
  },
  {
   "cell_type": "code",
   "execution_count": null,
   "id": "38a93475-308e-49f6-8a3f-5966f1ad149f",
   "metadata": {},
   "outputs": [],
   "source": [
    "\n"
   ]
  },
  {
   "cell_type": "code",
   "execution_count": null,
   "id": "d601515c-e54a-41f2-985e-bdfec83a2f35",
   "metadata": {},
   "outputs": [],
   "source": []
  },
  {
   "cell_type": "raw",
   "id": "48ac23a3-ad73-4ea2-a619-727c394fe3a8",
   "metadata": {},
   "source": [
    "\n"
   ]
  }
 ],
 "metadata": {
  "kernelspec": {
   "display_name": "Python 3 (ipykernel)",
   "language": "python",
   "name": "python3"
  },
  "language_info": {
   "codemirror_mode": {
    "name": "ipython",
    "version": 3
   },
   "file_extension": ".py",
   "mimetype": "text/x-python",
   "name": "python",
   "nbconvert_exporter": "python",
   "pygments_lexer": "ipython3",
   "version": "3.12.7"
  }
 },
 "nbformat": 4,
 "nbformat_minor": 5
}
