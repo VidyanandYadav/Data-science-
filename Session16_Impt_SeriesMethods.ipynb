{
 "cells": [
  {
   "cell_type": "markdown",
   "id": "b9f5ec0e-2087-4963-930d-abaafba7f4ea",
   "metadata": {},
   "source": [
    "#### Some Important Series Method"
   ]
  },
  {
   "cell_type": "code",
   "execution_count": null,
   "id": "d6f28948-3c05-4702-89ee-a7914ddbd36f",
   "metadata": {},
   "outputs": [],
   "source": []
  },
  {
   "cell_type": "code",
   "execution_count": 1,
   "id": "8990aaad-0034-4de5-8e39-8149012e6596",
   "metadata": {},
   "outputs": [],
   "source": [
    "import numpy as np\n",
    "import pandas as pd"
   ]
  },
  {
   "cell_type": "code",
   "execution_count": 92,
   "id": "0a797059-4b2a-4878-a1b7-a81ca102a6d1",
   "metadata": {},
   "outputs": [
    {
     "data": {
      "text/plain": [
       "0       48\n",
       "1       57\n",
       "2       40\n",
       "3       43\n",
       "4       44\n",
       "      ... \n",
       "360    231\n",
       "361    226\n",
       "362    155\n",
       "363    144\n",
       "364    172\n",
       "Name: Subscribers gained, Length: 365, dtype: int64"
      ]
     },
     "execution_count": 92,
     "metadata": {},
     "output_type": "execute_result"
    }
   ],
   "source": [
    "subs = pd.read_csv(r\"C:\\Users\\deepu\\OneDrive\\Desktop\\Python\\subs.csv\")\n",
    "subs = subs.squeeze()\n",
    "subs\n"
   ]
  },
  {
   "cell_type": "code",
   "execution_count": 93,
   "id": "e96b0837-84d7-4fc1-8e9c-1a93e8d3774a",
   "metadata": {},
   "outputs": [
    {
     "data": {
      "text/plain": [
       "match_no\n",
       "1       1\n",
       "2      23\n",
       "3      13\n",
       "4      12\n",
       "5       1\n",
       "       ..\n",
       "211     0\n",
       "212    20\n",
       "213    73\n",
       "214    25\n",
       "215     7\n",
       "Name: runs, Length: 215, dtype: int64"
      ]
     },
     "execution_count": 93,
     "metadata": {},
     "output_type": "execute_result"
    }
   ],
   "source": [
    "vk = pd.read_csv(r\"C:\\Users\\deepu\\OneDrive\\Desktop\\Python\\kohli_ipl.csv\",index_col=\"match_no\")\n",
    "vk = vk.squeeze()\n",
    "vk"
   ]
  },
  {
   "cell_type": "code",
   "execution_count": 94,
   "id": "76393760-1b22-414e-9068-dcdec77007d8",
   "metadata": {},
   "outputs": [
    {
     "data": {
      "text/plain": [
       "movie\n",
       "Uri: The Surgical Strike                   Vicky Kaushal\n",
       "Battalion 609                                Vicky Ahuja\n",
       "The Accidental Prime Minister (film)         Anupam Kher\n",
       "Why Cheat India                            Emraan Hashmi\n",
       "Evening Shadows                         Mona Ambegaonkar\n",
       "                                              ...       \n",
       "Hum Tumhare Hain Sanam                    Shah Rukh Khan\n",
       "Aankhen (2002 film)                     Amitabh Bachchan\n",
       "Saathiya (film)                             Vivek Oberoi\n",
       "Company (film)                                Ajay Devgn\n",
       "Awara Paagal Deewana                        Akshay Kumar\n",
       "Name: lead, Length: 1500, dtype: object"
      ]
     },
     "execution_count": 94,
     "metadata": {},
     "output_type": "execute_result"
    }
   ],
   "source": [
    "movies = pd.read_csv(r\"C:\\Users\\deepu\\OneDrive\\Desktop\\Python\\bollywood.csv\",index_col=\"movie\")\n",
    "movies = movies.squeeze()\n",
    "movies"
   ]
  },
  {
   "cell_type": "markdown",
   "id": "daefb086-3778-47df-9760-dc1777f48e89",
   "metadata": {},
   "source": [
    "##### 1.astype"
   ]
  },
  {
   "cell_type": "code",
   "execution_count": 95,
   "id": "5e66af97-619b-410d-acc9-a21ebfb559f6",
   "metadata": {},
   "outputs": [
    {
     "data": {
      "text/plain": [
       "3472"
      ]
     },
     "execution_count": 95,
     "metadata": {},
     "output_type": "execute_result"
    }
   ],
   "source": [
    "import sys\n",
    "sys.getsizeof(vk)"
   ]
  },
  {
   "cell_type": "code",
   "execution_count": 96,
   "id": "aef6af7d-6a83-4549-a90f-e68ec3c5fa22",
   "metadata": {},
   "outputs": [
    {
     "data": {
      "text/plain": [
       "2182"
      ]
     },
     "execution_count": 96,
     "metadata": {},
     "output_type": "execute_result"
    }
   ],
   "source": [
    "# Now change the data type by astype\n",
    "vk.astype('int16')\n",
    "# And now check the size\n",
    "sys.getsizeof(vk.astype('int16'))"
   ]
  },
  {
   "cell_type": "code",
   "execution_count": 97,
   "id": "f1db4f4c-df8e-47b2-9dae-d76dc915c2e2",
   "metadata": {},
   "outputs": [],
   "source": [
    "# It means using datatype by changing dtype we reduced the memory size"
   ]
  },
  {
   "cell_type": "markdown",
   "id": "3d669627-0e9e-4107-8678-2a5df94522e0",
   "metadata": {},
   "source": [
    "##### 2.between"
   ]
  },
  {
   "cell_type": "code",
   "execution_count": 98,
   "id": "9d96528c-8948-4398-a43f-d3b457dfbba7",
   "metadata": {},
   "outputs": [
    {
     "data": {
      "text/plain": [
       "43"
      ]
     },
     "execution_count": 98,
     "metadata": {},
     "output_type": "execute_result"
    }
   ],
   "source": [
    "# Let we have to find that how many innings in which virat kohli score 51 t0 99\n",
    "vk.between(51,99) # This will give you a boolean series if true or false and then\n",
    "vk[vk.between(51,99)] # This will give you match no and runs b/w 51 and 99\n",
    "# HEnce finally to get that number just do\n",
    "vk[vk.between(51,99)].size"
   ]
  },
  {
   "cell_type": "markdown",
   "id": "22b3bca9-203b-4fb8-985d-5f318a4d4728",
   "metadata": {},
   "source": [
    "##### clip -->> convert all the value in provided range(a,b) So a se kam vali valure ko a mein and b se jyade wale value ko b mein and b/w wale as it is"
   ]
  },
  {
   "cell_type": "code",
   "execution_count": 99,
   "id": "6277f337-c6f9-48de-a1f8-b63e93d40857",
   "metadata": {},
   "outputs": [
    {
     "data": {
      "text/plain": [
       "0      100\n",
       "1      100\n",
       "2      100\n",
       "3      100\n",
       "4      100\n",
       "      ... \n",
       "360    200\n",
       "361    200\n",
       "362    155\n",
       "363    144\n",
       "364    172\n",
       "Name: Subscribers gained, Length: 365, dtype: int64"
      ]
     },
     "execution_count": 99,
     "metadata": {},
     "output_type": "execute_result"
    }
   ],
   "source": [
    "subs.clip(100,200)"
   ]
  },
  {
   "cell_type": "markdown",
   "id": "9366ad91-29f2-43de-9477-eec3e4d59a6a",
   "metadata": {},
   "source": [
    "##### 3.drop_duplicates"
   ]
  },
  {
   "cell_type": "code",
   "execution_count": 100,
   "id": "dd42f0f8-f70c-45e0-bace-71de352e3aef",
   "metadata": {},
   "outputs": [
    {
     "data": {
      "text/plain": [
       "0    1\n",
       "1    1\n",
       "2    2\n",
       "3    2\n",
       "4    3\n",
       "5    3\n",
       "6    4\n",
       "7    4\n",
       "dtype: int64"
      ]
     },
     "execution_count": 100,
     "metadata": {},
     "output_type": "execute_result"
    }
   ],
   "source": [
    "temp = pd.Series([1,1,2,2,3,3,4,4])\n",
    "temp"
   ]
  },
  {
   "cell_type": "code",
   "execution_count": 101,
   "id": "224c7bc1-7f05-4227-be74-988fa9e24f3b",
   "metadata": {},
   "outputs": [
    {
     "data": {
      "text/plain": [
       "0    1\n",
       "2    2\n",
       "4    3\n",
       "6    4\n",
       "dtype: int64"
      ]
     },
     "execution_count": 101,
     "metadata": {},
     "output_type": "execute_result"
    }
   ],
   "source": [
    "# Now dropping duplicates item which delete the last one 0f 1,1 2,2 \n",
    "temp.drop_duplicates()"
   ]
  },
  {
   "cell_type": "code",
   "execution_count": 102,
   "id": "70ee6ae5-8895-410a-9ad7-a3c36bebcbef",
   "metadata": {},
   "outputs": [
    {
     "data": {
      "text/plain": [
       "1    1\n",
       "3    2\n",
       "5    3\n",
       "7    4\n",
       "dtype: int64"
      ]
     },
     "execution_count": 102,
     "metadata": {},
     "output_type": "execute_result"
    }
   ],
   "source": [
    "# If you want to delete first one of every duplicates item and print last one then use keep='last'\n",
    "temp.drop_duplicates(keep='last')\n",
    "# The last one of every duplicates  is printed -->> confirm it by index no of both output"
   ]
  },
  {
   "cell_type": "code",
   "execution_count": 103,
   "id": "97e7cfeb-0a53-4418-bc7b-ef0b1e19173c",
   "metadata": {},
   "outputs": [
    {
     "data": {
      "text/plain": [
       "movie\n",
       "Uri: The Surgical Strike                   Vicky Kaushal\n",
       "Battalion 609                                Vicky Ahuja\n",
       "The Accidental Prime Minister (film)         Anupam Kher\n",
       "Why Cheat India                            Emraan Hashmi\n",
       "Evening Shadows                         Mona Ambegaonkar\n",
       "                                              ...       \n",
       "Sssshhh...                              Tanishaa Mukerji\n",
       "Rules: Pyaar Ka Superhit Formula                  Tanuja\n",
       "Right Here Right Now (film)                        Ankit\n",
       "Talaash: The Hunt Begins...                Rakhee Gulzar\n",
       "The Pink Mirror                          Edwin Fernandes\n",
       "Name: lead, Length: 566, dtype: object"
      ]
     },
     "execution_count": 103,
     "metadata": {},
     "output_type": "execute_result"
    }
   ],
   "source": [
    "movies.drop_duplicates()\n",
    "# Now the total data is 566 instead of 1500 -->> So movies with same actor will be removed"
   ]
  },
  {
   "cell_type": "markdown",
   "id": "c3f75f23-9f93-4a1a-8b8e-8152322f9936",
   "metadata": {},
   "source": [
    "##### 4.duplicated() -->> Tells that duplicate value is present or not by giving True or False"
   ]
  },
  {
   "cell_type": "code",
   "execution_count": 104,
   "id": "d1d97b41-d6bb-410c-b433-82df5e62db0f",
   "metadata": {},
   "outputs": [
    {
     "data": {
      "text/plain": [
       "0    False\n",
       "1     True\n",
       "2    False\n",
       "3     True\n",
       "4    False\n",
       "5     True\n",
       "6    False\n",
       "7     True\n",
       "dtype: bool"
      ]
     },
     "execution_count": 104,
     "metadata": {},
     "output_type": "execute_result"
    }
   ],
   "source": [
    "temp.duplicated()"
   ]
  },
  {
   "cell_type": "code",
   "execution_count": 105,
   "id": "63291099-580d-41d2-a0a3-d89bd974dbb6",
   "metadata": {},
   "outputs": [
    {
     "data": {
      "text/plain": [
       "4"
      ]
     },
     "execution_count": 105,
     "metadata": {},
     "output_type": "execute_result"
    }
   ],
   "source": [
    "temp.duplicated().sum()"
   ]
  },
  {
   "cell_type": "code",
   "execution_count": 106,
   "id": "ab55cbb7-a525-43be-9e2c-5a827027be97",
   "metadata": {},
   "outputs": [
    {
     "data": {
      "text/plain": [
       "137"
      ]
     },
     "execution_count": 106,
     "metadata": {},
     "output_type": "execute_result"
    }
   ],
   "source": [
    "vk.duplicated().sum()"
   ]
  },
  {
   "cell_type": "markdown",
   "id": "2db1cc65-0733-4f73-879c-916884c139de",
   "metadata": {},
   "source": [
    "##### 5.isnull -->> deals with missing values"
   ]
  },
  {
   "cell_type": "code",
   "execution_count": 107,
   "id": "08755112-1470-4a84-8fab-e86fe20e6167",
   "metadata": {},
   "outputs": [
    {
     "data": {
      "text/plain": [
       "0     1.0\n",
       "1     2.0\n",
       "2     3.0\n",
       "3     NaN\n",
       "4     5.0\n",
       "5     6.0\n",
       "6     NaN\n",
       "7     8.0\n",
       "8     NaN\n",
       "9    10.0\n",
       "dtype: float64"
      ]
     },
     "execution_count": 107,
     "metadata": {},
     "output_type": "execute_result"
    }
   ],
   "source": [
    "temp = pd.Series([1,2,3,np.nan,5,6,np.nan,8,np.nan,10])\n",
    "temp"
   ]
  },
  {
   "cell_type": "markdown",
   "id": "369ba902-dc54-4add-982d-f22fceb4e566",
   "metadata": {},
   "source": [
    "###### Most important to mind the diff b/w count and size is that count doesn't count missing values while size count it as value"
   ]
  },
  {
   "cell_type": "code",
   "execution_count": 108,
   "id": "25a6717d-412e-46a5-9304-89b83f3319d4",
   "metadata": {},
   "outputs": [
    {
     "data": {
      "text/plain": [
       "10"
      ]
     },
     "execution_count": 108,
     "metadata": {},
     "output_type": "execute_result"
    }
   ],
   "source": [
    "temp.size"
   ]
  },
  {
   "cell_type": "code",
   "execution_count": 109,
   "id": "fc348cf6-526c-41bc-aadf-e5f32940b161",
   "metadata": {},
   "outputs": [
    {
     "data": {
      "text/plain": [
       "7"
      ]
     },
     "execution_count": 109,
     "metadata": {},
     "output_type": "execute_result"
    }
   ],
   "source": [
    "temp.count()"
   ]
  },
  {
   "cell_type": "code",
   "execution_count": 110,
   "id": "6bd59d58-da74-4da2-b837-5b7a37400089",
   "metadata": {},
   "outputs": [
    {
     "data": {
      "text/plain": [
       "3"
      ]
     },
     "execution_count": 110,
     "metadata": {},
     "output_type": "execute_result"
    }
   ],
   "source": [
    "# Now knowing how many null values are there\n",
    "temp.isnull().sum()"
   ]
  },
  {
   "cell_type": "markdown",
   "id": "a472a415-1bdd-466f-a5a9-82ee15707050",
   "metadata": {},
   "source": [
    "###### NOTE : Now handling with missing values"
   ]
  },
  {
   "cell_type": "code",
   "execution_count": 111,
   "id": "097ae751-cf8d-4a2a-80ad-867776f1acde",
   "metadata": {},
   "outputs": [
    {
     "data": {
      "text/plain": [
       "0     1.0\n",
       "1     2.0\n",
       "2     3.0\n",
       "4     5.0\n",
       "5     6.0\n",
       "7     8.0\n",
       "9    10.0\n",
       "dtype: float64"
      ]
     },
     "execution_count": 111,
     "metadata": {},
     "output_type": "execute_result"
    }
   ],
   "source": [
    "# (a).dropna -->> it will remove all the missing values\n",
    "temp.dropna()"
   ]
  },
  {
   "cell_type": "code",
   "execution_count": 112,
   "id": "3a2133df-7fdb-4791-88e5-f9f85b39e097",
   "metadata": {},
   "outputs": [
    {
     "data": {
      "text/plain": [
       "0     1.0\n",
       "1     2.0\n",
       "2     3.0\n",
       "3     0.0\n",
       "4     5.0\n",
       "5     6.0\n",
       "6     0.0\n",
       "7     8.0\n",
       "8     0.0\n",
       "9    10.0\n",
       "dtype: float64"
      ]
     },
     "execution_count": 112,
     "metadata": {},
     "output_type": "execute_result"
    }
   ],
   "source": [
    "# (b).fillna -->> it replaces the missing values with any value you provide means not removes the missing values\n",
    "temp.fillna(0)"
   ]
  },
  {
   "cell_type": "markdown",
   "id": "e1514e82-0b0a-48fc-b432-f4b8ded6cd10",
   "metadata": {},
   "source": [
    "##### 6.isin"
   ]
  },
  {
   "cell_type": "code",
   "execution_count": 113,
   "id": "17683f7a-841d-49a2-860a-b48afa924e95",
   "metadata": {},
   "outputs": [
    {
     "data": {
      "text/plain": [
       "match_no\n",
       "1       1\n",
       "2      23\n",
       "3      13\n",
       "4      12\n",
       "5       1\n",
       "       ..\n",
       "211     0\n",
       "212    20\n",
       "213    73\n",
       "214    25\n",
       "215     7\n",
       "Name: runs, Length: 215, dtype: int64"
      ]
     },
     "execution_count": 113,
     "metadata": {},
     "output_type": "execute_result"
    }
   ],
   "source": [
    "vk"
   ]
  },
  {
   "cell_type": "code",
   "execution_count": 114,
   "id": "2abab1d8-d1fb-4d45-ac97-12aaebc53246",
   "metadata": {},
   "outputs": [
    {
     "data": {
      "text/plain": [
       "match_no\n",
       "82    99\n",
       "86    49\n",
       "Name: runs, dtype: int64"
      ]
     },
     "execution_count": 114,
     "metadata": {},
     "output_type": "execute_result"
    }
   ],
   "source": [
    "# If you want to know Virat Kohli scored 49 or 99 in any matches then\n",
    "vk[vk.isin([49,99])]\n",
    "# Otherwiswe you have to do [(vk==49) | (vk==99)]"
   ]
  },
  {
   "cell_type": "code",
   "execution_count": 115,
   "id": "daeada4a-5211-431d-911c-172bfb30eb52",
   "metadata": {},
   "outputs": [
    {
     "data": {
      "text/plain": [
       "match_no\n",
       "15     50\n",
       "178    90\n",
       "182    50\n",
       "Name: runs, dtype: int64"
      ]
     },
     "execution_count": 115,
     "metadata": {},
     "output_type": "execute_result"
    }
   ],
   "source": [
    "vk[vk.isin([40,50,90,95])]\n",
    "# otherwise you have to do [(vk==40)|(vk==50)|(vk==90)|(vk==95)]"
   ]
  },
  {
   "cell_type": "markdown",
   "id": "796c2a25-f713-4ca2-97fa-c86e7fa0a436",
   "metadata": {},
   "source": [
    "##### 7.apply -->> use to help in applying any custom logic on your series"
   ]
  },
  {
   "cell_type": "code",
   "execution_count": 116,
   "id": "1ab11f64-f051-470c-ba87-41e10146a7c4",
   "metadata": {},
   "outputs": [
    {
     "data": {
      "text/plain": [
       "movie\n",
       "Uri: The Surgical Strike                   Vicky Kaushal\n",
       "Battalion 609                                Vicky Ahuja\n",
       "The Accidental Prime Minister (film)         Anupam Kher\n",
       "Why Cheat India                            Emraan Hashmi\n",
       "Evening Shadows                         Mona Ambegaonkar\n",
       "                                              ...       \n",
       "Hum Tumhare Hain Sanam                    Shah Rukh Khan\n",
       "Aankhen (2002 film)                     Amitabh Bachchan\n",
       "Saathiya (film)                             Vivek Oberoi\n",
       "Company (film)                                Ajay Devgn\n",
       "Awara Paagal Deewana                        Akshay Kumar\n",
       "Name: lead, Length: 1500, dtype: object"
      ]
     },
     "execution_count": 116,
     "metadata": {},
     "output_type": "execute_result"
    }
   ],
   "source": [
    "movies"
   ]
  },
  {
   "cell_type": "code",
   "execution_count": 117,
   "id": "dc809d34-8ad3-4112-9590-9642f6bc94e3",
   "metadata": {},
   "outputs": [],
   "source": [
    "# Let you want actor's only first name but not last name and also all in Capital Letter"
   ]
  },
  {
   "cell_type": "code",
   "execution_count": 118,
   "id": "131023ca-9125-4e2f-8d7b-010dcd6fddbe",
   "metadata": {},
   "outputs": [
    {
     "data": {
      "text/plain": [
       "movie\n",
       "Uri: The Surgical Strike                  VICKY\n",
       "Battalion 609                             VICKY\n",
       "The Accidental Prime Minister (film)     ANUPAM\n",
       "Why Cheat India                          EMRAAN\n",
       "Evening Shadows                            MONA\n",
       "                                         ...   \n",
       "Hum Tumhare Hain Sanam                     SHAH\n",
       "Aankhen (2002 film)                     AMITABH\n",
       "Saathiya (film)                           VIVEK\n",
       "Company (film)                             AJAY\n",
       "Awara Paagal Deewana                     AKSHAY\n",
       "Name: lead, Length: 1500, dtype: object"
      ]
     },
     "execution_count": 118,
     "metadata": {},
     "output_type": "execute_result"
    }
   ],
   "source": [
    "movies.apply(lambda x : x.split()[0].upper())"
   ]
  },
  {
   "cell_type": "code",
   "execution_count": 119,
   "id": "ff8760eb-b87a-4152-bcfe-9fea720a3bba",
   "metadata": {},
   "outputs": [],
   "source": [
    "# Let's make subscribers data a good day when subs are greater than av.subs and badday when subs  are less than avgsubs"
   ]
  },
  {
   "cell_type": "code",
   "execution_count": 120,
   "id": "8fe66529-c0fe-43bc-80df-3f83397893d5",
   "metadata": {},
   "outputs": [
    {
     "data": {
      "text/plain": [
       "135.64383561643837"
      ]
     },
     "execution_count": 120,
     "metadata": {},
     "output_type": "execute_result"
    }
   ],
   "source": [
    "subs.mean()\n",
    "# So average subscribers are 135.64"
   ]
  },
  {
   "cell_type": "code",
   "execution_count": 121,
   "id": "833ef782-28ac-476a-b9da-82bafbc5b95d",
   "metadata": {},
   "outputs": [
    {
     "data": {
      "text/plain": [
       "0       48\n",
       "1       57\n",
       "2       40\n",
       "3       43\n",
       "4       44\n",
       "      ... \n",
       "360    231\n",
       "361    226\n",
       "362    155\n",
       "363    144\n",
       "364    172\n",
       "Name: Subscribers gained, Length: 365, dtype: int64"
      ]
     },
     "execution_count": 121,
     "metadata": {},
     "output_type": "execute_result"
    }
   ],
   "source": [
    "subs"
   ]
  },
  {
   "cell_type": "code",
   "execution_count": 123,
   "id": "18829d75-0e0a-4871-af9f-b696dc739fc5",
   "metadata": {},
   "outputs": [
    {
     "data": {
      "text/plain": [
       "0       Bad Day\n",
       "1       Bad Day\n",
       "2       Bad Day\n",
       "3       Bad Day\n",
       "4       Bad Day\n",
       "         ...   \n",
       "360    Good Day\n",
       "361    Good Day\n",
       "362    Good Day\n",
       "363    Good Day\n",
       "364    Good Day\n",
       "Name: Subscribers gained, Length: 365, dtype: object"
      ]
     },
     "execution_count": 123,
     "metadata": {},
     "output_type": "execute_result"
    }
   ],
   "source": [
    "subs.apply(lambda x:'Good Day' if x > subs.mean() else 'Bad Day')"
   ]
  },
  {
   "cell_type": "markdown",
   "id": "c8dbea6b-ba96-4601-8694-004dc0d69754",
   "metadata": {},
   "source": [
    "##### 8.copy"
   ]
  },
  {
   "cell_type": "code",
   "execution_count": 124,
   "id": "d9318aa5-09d3-499b-89c4-5f5f39bed7ac",
   "metadata": {},
   "outputs": [
    {
     "data": {
      "text/plain": [
       "match_no\n",
       "1       1\n",
       "2      23\n",
       "3      13\n",
       "4      12\n",
       "5       1\n",
       "       ..\n",
       "211     0\n",
       "212    20\n",
       "213    73\n",
       "214    25\n",
       "215     7\n",
       "Name: runs, Length: 215, dtype: int64"
      ]
     },
     "execution_count": 124,
     "metadata": {},
     "output_type": "execute_result"
    }
   ],
   "source": [
    "vk"
   ]
  },
  {
   "cell_type": "code",
   "execution_count": 126,
   "id": "1f91387d-ff20-4a26-b207-2e9fdc3d8d2d",
   "metadata": {},
   "outputs": [
    {
     "data": {
      "text/plain": [
       "match_no\n",
       "1     1\n",
       "2    23\n",
       "3    13\n",
       "4    12\n",
       "5     1\n",
       "Name: runs, dtype: int64"
      ]
     },
     "execution_count": 126,
     "metadata": {},
     "output_type": "execute_result"
    }
   ],
   "source": [
    "new = vk.head()\n",
    "new"
   ]
  },
  {
   "cell_type": "code",
   "execution_count": 127,
   "id": "c5487188-dc16-49ed-a92f-f32826cabf36",
   "metadata": {},
   "outputs": [],
   "source": [
    "new[1] = 50"
   ]
  },
  {
   "cell_type": "code",
   "execution_count": 130,
   "id": "78c99e0d-6d52-44e9-b73c-bed2c3f22bb5",
   "metadata": {},
   "outputs": [
    {
     "data": {
      "text/plain": [
       "match_no\n",
       "1    50\n",
       "2    23\n",
       "3    13\n",
       "4    12\n",
       "5     1\n",
       "Name: runs, dtype: int64"
      ]
     },
     "execution_count": 130,
     "metadata": {},
     "output_type": "execute_result"
    }
   ],
   "source": [
    "new\n",
    "# Match no 1 run is changed"
   ]
  },
  {
   "cell_type": "code",
   "execution_count": 131,
   "id": "958858e3-0637-475f-9d9b-d8c142e4b3a7",
   "metadata": {},
   "outputs": [
    {
     "data": {
      "text/plain": [
       "match_no\n",
       "1      50\n",
       "2      23\n",
       "3      13\n",
       "4      12\n",
       "5       1\n",
       "       ..\n",
       "211     0\n",
       "212    20\n",
       "213    73\n",
       "214    25\n",
       "215     7\n",
       "Name: runs, Length: 215, dtype: int64"
      ]
     },
     "execution_count": 131,
     "metadata": {},
     "output_type": "execute_result"
    }
   ],
   "source": [
    "vk\n",
    "# Match no 1 run is changed"
   ]
  },
  {
   "cell_type": "markdown",
   "id": "b40fbaca-b4cf-4cd6-a257-efba08daf706",
   "metadata": {},
   "source": [
    "###### It means when you take some part of data by .head() or .tail() then it doesn't means that you're taking copy of data from dataset but actually you're taking the original data -->>it means when you make changes in that small portion then that changes aslo made in original data. "
   ]
  },
  {
   "cell_type": "code",
   "execution_count": 132,
   "id": "122e33b3-a7d7-4109-8030-f1f990e3940b",
   "metadata": {},
   "outputs": [],
   "source": [
    "# TO overcome this problem make a copy like that "
   ]
  },
  {
   "cell_type": "code",
   "execution_count": 133,
   "id": "f06e96cf-f133-4a17-bf28-21008607b77d",
   "metadata": {},
   "outputs": [],
   "source": [
    "neww = vk.head().copy()"
   ]
  },
  {
   "cell_type": "code",
   "execution_count": 134,
   "id": "634549e7-643a-46b7-97c3-6189aa1e2745",
   "metadata": {},
   "outputs": [
    {
     "data": {
      "text/plain": [
       "match_no\n",
       "1    123\n",
       "2     23\n",
       "3     13\n",
       "4     12\n",
       "5      1\n",
       "Name: runs, dtype: int64"
      ]
     },
     "execution_count": 134,
     "metadata": {},
     "output_type": "execute_result"
    }
   ],
   "source": [
    "neww[1] = 123\n",
    "neww"
   ]
  },
  {
   "cell_type": "code",
   "execution_count": 136,
   "id": "1a8d0064-c2eb-40f9-942c-e8d207c582f6",
   "metadata": {},
   "outputs": [
    {
     "data": {
      "text/plain": [
       "match_no\n",
       "1      50\n",
       "2      23\n",
       "3      13\n",
       "4      12\n",
       "5       1\n",
       "       ..\n",
       "211     0\n",
       "212    20\n",
       "213    73\n",
       "214    25\n",
       "215     7\n",
       "Name: runs, Length: 215, dtype: int64"
      ]
     },
     "execution_count": 136,
     "metadata": {},
     "output_type": "execute_result"
    }
   ],
   "source": [
    "vk\n",
    "# ere no any changes in run of 1st match even after making changes bcz we now take the copy from dataset but not orgnal data"
   ]
  },
  {
   "cell_type": "code",
   "execution_count": null,
   "id": "ccb6ae3d-309f-4bd7-974b-706511c060db",
   "metadata": {},
   "outputs": [],
   "source": []
  }
 ],
 "metadata": {
  "kernelspec": {
   "display_name": "Python 3 (ipykernel)",
   "language": "python",
   "name": "python3"
  },
  "language_info": {
   "codemirror_mode": {
    "name": "ipython",
    "version": 3
   },
   "file_extension": ".py",
   "mimetype": "text/x-python",
   "name": "python",
   "nbconvert_exporter": "python",
   "pygments_lexer": "ipython3",
   "version": "3.12.7"
  }
 },
 "nbformat": 4,
 "nbformat_minor": 5
}
