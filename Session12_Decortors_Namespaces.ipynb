{
 "cells": [
  {
   "cell_type": "markdown",
   "id": "f2df2faa-fa60-49ed-9e6a-1c39b97573cb",
   "metadata": {},
   "source": [
    "### Namespaces\n",
    "##### A namespace is a space that holds names(identifiers).Programmatically speaking, namespaces are dictionary of identifiers(keys) and their objects(values)\n",
    "\n",
    "#### There are 4 types of namespaces:\n",
    "\n",
    "##### .Builtin Namespace\n",
    "##### .Global Namespace\n",
    "##### .Enclosing Namespace\n",
    "##### .Local Namespace"
   ]
  },
  {
   "cell_type": "markdown",
   "id": "66313462-d925-4aa2-bf9c-fa40bab7c319",
   "metadata": {},
   "source": [
    "#### Scope and LEGB Rule\n",
    "##### Scope -->> A scope is a textual region of a Python program where a namespace is directly accessible.\n",
    "##### LEGB Rule -->> The interpreter searches for a name from the inside out, looking in the local, enclosing, global, and finally the built-in scope. If the interpreter doesn’t find the name in any of these locations, then Python raises a NameError exception."
   ]
  },
  {
   "cell_type": "raw",
   "id": "053b66ff-167a-4218-a4f2-baead50cd024",
   "metadata": {},
   "source": [
    "local and global"
   ]
  },
  {
   "cell_type": "code",
   "execution_count": 6,
   "id": "1c5617ca-92c0-4600-ad7a-b8f94fa57ea4",
   "metadata": {},
   "outputs": [
    {
     "name": "stdout",
     "output_type": "stream",
     "text": [
      "3\n",
      "2\n"
     ]
    }
   ],
   "source": [
    "# global -->> a is global var\n",
    "a = 2\n",
    "def temp():\n",
    "    # local -->> b is local var\n",
    "    b = 3\n",
    "    print(b)\n",
    "\n",
    "temp()\n",
    "print(a)"
   ]
  },
  {
   "cell_type": "raw",
   "id": "0128aa1f-1912-46d8-a319-eb410ee4e876",
   "metadata": {},
   "source": [
    "local and global -->> same name i.e is it possible to have same name of var of global and local -->> Yess"
   ]
  },
  {
   "cell_type": "code",
   "execution_count": 9,
   "id": "387f2ece-9d9f-4015-92d3-273a9bb72fc4",
   "metadata": {},
   "outputs": [
    {
     "name": "stdout",
     "output_type": "stream",
     "text": [
      "3\n",
      "2\n"
     ]
    }
   ],
   "source": [
    "# global var\n",
    "a = 2\n",
    "def temp():\n",
    "    # local var\n",
    "    a = 3\n",
    "    print(a)\n",
    "\n",
    "temp()\n",
    "print(a)"
   ]
  },
  {
   "cell_type": "raw",
   "id": "43832d4c-25bd-44f1-ac3a-e0de6079ca13",
   "metadata": {},
   "source": [
    "local and global -->> local does not have any value of var but global has"
   ]
  },
  {
   "cell_type": "code",
   "execution_count": 11,
   "id": "81798076-7e55-46bc-851d-e6ada7bea7be",
   "metadata": {},
   "outputs": [
    {
     "name": "stdout",
     "output_type": "stream",
     "text": [
      "2\n",
      "2\n"
     ]
    }
   ],
   "source": [
    "# global var\n",
    "a = 2\n",
    "def temp():\n",
    "    # local var\n",
    "    print(a)\n",
    "\n",
    "temp()\n",
    "print(a)\n",
    "# That's why LEGB rule-->> means if there is no any value in local then interpreter will check value in Enclosed then\n",
    "# Global and then Built-in and if not present in all four then it will throw error and say variable does not exist"
   ]
  },
  {
   "cell_type": "raw",
   "id": "f518c2a2-05cb-4d2c-9e45-32639f3d641b",
   "metadata": {},
   "source": [
    "local and global -->> editing global"
   ]
  },
  {
   "cell_type": "code",
   "execution_count": 12,
   "id": "27268bc6-da4d-4570-b6ae-12d06fe060bc",
   "metadata": {},
   "outputs": [
    {
     "ename": "UnboundLocalError",
     "evalue": "cannot access local variable 'a' where it is not associated with a value",
     "output_type": "error",
     "traceback": [
      "\u001b[1;31m---------------------------------------------------------------------------\u001b[0m",
      "\u001b[1;31mUnboundLocalError\u001b[0m                         Traceback (most recent call last)",
      "Cell \u001b[1;32mIn[12], line 8\u001b[0m\n\u001b[0;32m      5\u001b[0m     a\u001b[38;5;241m+\u001b[39m\u001b[38;5;241m=\u001b[39m \u001b[38;5;241m1\u001b[39m\n\u001b[0;32m      6\u001b[0m     \u001b[38;5;28mprint\u001b[39m(a)\n\u001b[1;32m----> 8\u001b[0m temp()\n\u001b[0;32m      9\u001b[0m \u001b[38;5;28mprint\u001b[39m(a)\n",
      "Cell \u001b[1;32mIn[12], line 5\u001b[0m, in \u001b[0;36mtemp\u001b[1;34m()\u001b[0m\n\u001b[0;32m      3\u001b[0m \u001b[38;5;28;01mdef\u001b[39;00m \u001b[38;5;21mtemp\u001b[39m():\n\u001b[0;32m      4\u001b[0m     \u001b[38;5;66;03m# local var\u001b[39;00m\n\u001b[1;32m----> 5\u001b[0m     a\u001b[38;5;241m+\u001b[39m\u001b[38;5;241m=\u001b[39m \u001b[38;5;241m1\u001b[39m\n\u001b[0;32m      6\u001b[0m     \u001b[38;5;28mprint\u001b[39m(a)\n",
      "\u001b[1;31mUnboundLocalError\u001b[0m: cannot access local variable 'a' where it is not associated with a value"
     ]
    }
   ],
   "source": [
    "# global var\n",
    "a = 2\n",
    "def temp():\n",
    "    # local var\n",
    "    a+= 1\n",
    "    print(a)\n",
    "\n",
    "temp()\n",
    "print(a)\n",
    "# Means definitely you can access global variable if local variable is not present but you can't make\n",
    "# changes or edit that variable... You can edit by another method given below"
   ]
  },
  {
   "cell_type": "raw",
   "id": "4430e327-7bab-42a7-8c63-c7dbb4b6d75e",
   "metadata": {},
   "source": [
    "NOTE: You can edit global var in local but you have to first introduce as global let's see below.. but it's not good"
   ]
  },
  {
   "cell_type": "code",
   "execution_count": 15,
   "id": "912697d4-3f8a-46d8-b67a-3dd536d2664d",
   "metadata": {},
   "outputs": [
    {
     "name": "stdout",
     "output_type": "stream",
     "text": [
      "11\n",
      "11\n"
     ]
    }
   ],
   "source": [
    "# global var\n",
    "a = 10\n",
    "def temp():\n",
    "    # local var\n",
    "    global a\n",
    "    a += 1\n",
    "    print(a)\n",
    "\n",
    "temp()\n",
    "print(a)"
   ]
  },
  {
   "cell_type": "code",
   "execution_count": 16,
   "id": "a0db008c-0092-401a-bc46-503ce6c57450",
   "metadata": {},
   "outputs": [
    {
     "name": "stdout",
     "output_type": "stream",
     "text": [
      "1\n",
      "1\n"
     ]
    }
   ],
   "source": [
    "# global inside local-->> global created inside local\n",
    "def temp():\n",
    "    # local var\n",
    "    global a\n",
    "    a = 1\n",
    "    print(a)\n",
    "\n",
    "temp()\n",
    "print(a)"
   ]
  },
  {
   "cell_type": "code",
   "execution_count": 17,
   "id": "a57e1ef3-e629-4bff-a2e6-e19e2736034b",
   "metadata": {},
   "outputs": [
    {
     "name": "stdout",
     "output_type": "stream",
     "text": [
      "5\n",
      "5\n"
     ]
    }
   ],
   "source": [
    "# local and  global -->> function parameter is local\n",
    "def temp(z):\n",
    "    #local var\n",
    "    print(z)\n",
    "\n",
    "a = 5\n",
    "temp(5)\n",
    "print(a)"
   ]
  },
  {
   "cell_type": "raw",
   "id": "06363588-f84b-4407-949e-d80a85acf7d0",
   "metadata": {},
   "source": [
    "Built-in scope"
   ]
  },
  {
   "cell_type": "code",
   "execution_count": 18,
   "id": "6b263444-9d2e-4aae-8e1c-a6092740345c",
   "metadata": {},
   "outputs": [
    {
     "name": "stdout",
     "output_type": "stream",
     "text": [
      "Hello\n"
     ]
    },
    {
     "data": {
      "text/plain": [
       "builtin_function_or_method"
      ]
     },
     "execution_count": 18,
     "metadata": {},
     "output_type": "execute_result"
    }
   ],
   "source": [
    "print(\"Hello\")\n",
    "type(print)\n",
    "# print,type,input etc these all are Built-in scope"
   ]
  },
  {
   "cell_type": "raw",
   "id": "6a83c046-bead-473c-b464-fe805495b68d",
   "metadata": {},
   "source": [
    "How to see all Built-in scope"
   ]
  },
  {
   "cell_type": "code",
   "execution_count": 19,
   "id": "e4fac3a3-d144-4802-b6ab-123bdef65aea",
   "metadata": {},
   "outputs": [
    {
     "name": "stdout",
     "output_type": "stream",
     "text": [
      "['ArithmeticError', 'AssertionError', 'AttributeError', 'BaseException', 'BaseExceptionGroup', 'BlockingIOError', 'BrokenPipeError', 'BufferError', 'BytesWarning', 'ChildProcessError', 'ConnectionAbortedError', 'ConnectionError', 'ConnectionRefusedError', 'ConnectionResetError', 'DeprecationWarning', 'EOFError', 'Ellipsis', 'EncodingWarning', 'EnvironmentError', 'Exception', 'ExceptionGroup', 'False', 'FileExistsError', 'FileNotFoundError', 'FloatingPointError', 'FutureWarning', 'GeneratorExit', 'IOError', 'ImportError', 'ImportWarning', 'IndentationError', 'IndexError', 'InterruptedError', 'IsADirectoryError', 'KeyError', 'KeyboardInterrupt', 'LookupError', 'MemoryError', 'ModuleNotFoundError', 'NameError', 'None', 'NotADirectoryError', 'NotImplemented', 'NotImplementedError', 'OSError', 'OverflowError', 'PendingDeprecationWarning', 'PermissionError', 'ProcessLookupError', 'RecursionError', 'ReferenceError', 'ResourceWarning', 'RuntimeError', 'RuntimeWarning', 'StopAsyncIteration', 'StopIteration', 'SyntaxError', 'SyntaxWarning', 'SystemError', 'SystemExit', 'TabError', 'TimeoutError', 'True', 'TypeError', 'UnboundLocalError', 'UnicodeDecodeError', 'UnicodeEncodeError', 'UnicodeError', 'UnicodeTranslateError', 'UnicodeWarning', 'UserWarning', 'ValueError', 'Warning', 'WindowsError', 'ZeroDivisionError', '__IPYTHON__', '__build_class__', '__debug__', '__doc__', '__import__', '__loader__', '__name__', '__package__', '__spec__', 'abs', 'aiter', 'all', 'anext', 'any', 'ascii', 'bin', 'bool', 'breakpoint', 'bytearray', 'bytes', 'callable', 'chr', 'classmethod', 'compile', 'complex', 'copyright', 'credits', 'delattr', 'dict', 'dir', 'display', 'divmod', 'enumerate', 'eval', 'exec', 'execfile', 'filter', 'float', 'format', 'frozenset', 'get_ipython', 'getattr', 'globals', 'hasattr', 'hash', 'help', 'hex', 'id', 'input', 'int', 'isinstance', 'issubclass', 'iter', 'len', 'license', 'list', 'locals', 'map', 'max', 'memoryview', 'min', 'next', 'object', 'oct', 'open', 'ord', 'pow', 'print', 'property', 'range', 'repr', 'reversed', 'round', 'runfile', 'set', 'setattr', 'slice', 'sorted', 'staticmethod', 'str', 'sum', 'super', 'tuple', 'type', 'vars', 'zip']\n"
     ]
    }
   ],
   "source": [
    "import builtins\n",
    "print(dir(builtins))\n",
    "# All the given below are python built-in scopes"
   ]
  },
  {
   "cell_type": "raw",
   "id": "07d8485c-82f1-4a17-b57c-b4029885613d",
   "metadata": {},
   "source": [
    "renaming built-in scopes"
   ]
  },
  {
   "cell_type": "code",
   "execution_count": 21,
   "id": "a8d85e1a-3254-4b73-8f2d-7e83f9493e83",
   "metadata": {},
   "outputs": [
    {
     "data": {
      "text/plain": [
       "5"
      ]
     },
     "execution_count": 21,
     "metadata": {},
     "output_type": "execute_result"
    }
   ],
   "source": [
    "L = [1,2,3,4,5]\n",
    "max(L)\n",
    "# Let's see how we can change the max built-in scope"
   ]
  },
  {
   "cell_type": "code",
   "execution_count": 26,
   "id": "c74462e1-b7b0-4113-a447-83eafa3a0497",
   "metadata": {},
   "outputs": [
    {
     "ename": "TypeError",
     "evalue": "max() takes 0 positional arguments but 1 was given",
     "output_type": "error",
     "traceback": [
      "\u001b[1;31m---------------------------------------------------------------------------\u001b[0m",
      "\u001b[1;31mTypeError\u001b[0m                                 Traceback (most recent call last)",
      "Cell \u001b[1;32mIn[26], line 2\u001b[0m\n\u001b[0;32m      1\u001b[0m L \u001b[38;5;241m=\u001b[39m [\u001b[38;5;241m1\u001b[39m,\u001b[38;5;241m2\u001b[39m,\u001b[38;5;241m3\u001b[39m,\u001b[38;5;241m4\u001b[39m]\n\u001b[1;32m----> 2\u001b[0m \u001b[38;5;28mmax\u001b[39m(L)\n\u001b[0;32m      3\u001b[0m \u001b[38;5;28;01mdef\u001b[39;00m \u001b[38;5;21mmax\u001b[39m():\n\u001b[0;32m      4\u001b[0m     \u001b[38;5;28mprint\u001b[39m(\u001b[38;5;124m\"\u001b[39m\u001b[38;5;124mHello\u001b[39m\u001b[38;5;124m\"\u001b[39m)\n",
      "\u001b[1;31mTypeError\u001b[0m: max() takes 0 positional arguments but 1 was given"
     ]
    }
   ],
   "source": [
    "L = [1,2,3,4]\n",
    "max(L)\n",
    "def max():\n",
    "    print(\"Hello\")\n",
    "max(L)\n",
    "# here max act as function but not a max built-in scope"
   ]
  },
  {
   "cell_type": "raw",
   "id": "e37d13e9-aa2f-4ed4-b6c6-ac13722ab744",
   "metadata": {},
   "source": [
    "Enclosing scope"
   ]
  },
  {
   "cell_type": "code",
   "execution_count": 29,
   "id": "007076e4-5ee3-427b-bf81-038ed76a1b28",
   "metadata": {},
   "outputs": [
    {
     "name": "stdout",
     "output_type": "stream",
     "text": [
      "Inner Function\n",
      "Outer Function\n",
      "Main program\n"
     ]
    }
   ],
   "source": [
    "# Enclosing \n",
    "def outer():\n",
    "    #inner function ka scope\n",
    "    def inner():\n",
    "        print(\"Inner Function\")\n",
    "    inner()\n",
    "    print(\"Outer Function\")\n",
    "# Outer function ka scope\n",
    "outer()\n",
    "print(\"Main program\")"
   ]
  },
  {
   "cell_type": "code",
   "execution_count": 33,
   "id": "381e168a-23e8-4c90-a441-5c342309b651",
   "metadata": {},
   "outputs": [
    {
     "name": "stdout",
     "output_type": "stream",
     "text": [
      "4\n",
      "Outer Function\n",
      "Main program\n"
     ]
    }
   ],
   "source": [
    "def outer():\n",
    "    a = 3\n",
    "    def inner():\n",
    "        a = 4\n",
    "        print(a)\n",
    "    inner()\n",
    "    print(\"Outer Function\")\n",
    "# Outer function\n",
    "a = 1\n",
    "outer()\n",
    "print(\"Main program\")\n",
    "# Since the value of a is present in local so it will print the value of local var"
   ]
  },
  {
   "cell_type": "code",
   "execution_count": 34,
   "id": "2ceca8a6-3961-4bcd-bae3-05dd7f0f4478",
   "metadata": {},
   "outputs": [
    {
     "name": "stdout",
     "output_type": "stream",
     "text": [
      "3\n",
      "Outer Function\n",
      "Main program\n"
     ]
    }
   ],
   "source": [
    "# Enclosing \n",
    "def outer():\n",
    "    a = 3\n",
    "    # Innner scope\n",
    "    def inner():\n",
    "        print(a)\n",
    "    inner()\n",
    "    print(\"Outer Function\")\n",
    "# outer function \n",
    "a = 1\n",
    "outer()\n",
    "print(\"Main program\")\n",
    "# As value of a is not present in local var then it will move to Enclosing scope by LEGB rule"
   ]
  },
  {
   "cell_type": "code",
   "execution_count": 45,
   "id": "caa38376-d357-4e69-863c-e4e09c6349bb",
   "metadata": {},
   "outputs": [
    {
     "name": "stdout",
     "output_type": "stream",
     "text": [
      "1\n",
      "Outer Function\n",
      "Main program\n"
     ]
    }
   ],
   "source": [
    "# Enclosing \n",
    "def outer():\n",
    "    # Innner scope\n",
    "    def inner():\n",
    "        print(a)\n",
    "    inner()\n",
    "    print(\"Outer Function\")\n",
    "a = 1\n",
    "outer()\n",
    "print(\"Main program\")\n",
    "# As value of a is not present in local var and enclosing var then it will move to Global var scope by LEGB rule"
   ]
  },
  {
   "cell_type": "code",
   "execution_count": 48,
   "id": "14c6f463-6a43-44a5-aec5-40f0c55a2a25",
   "metadata": {},
   "outputs": [
    {
     "name": "stdout",
     "output_type": "stream",
     "text": [
      "1\n",
      "Outer function\n",
      "Main program\n"
     ]
    }
   ],
   "source": [
    "# If the var value is not present in local or global or Enclosed scope then it will be checked in built-in scopes\n",
    "def outer():\n",
    "    def inner():\n",
    "        print(a)\n",
    "    inner()\n",
    "    print(\"Outer function\")\n",
    "\n",
    "outer()\n",
    "print(\"Main program\")\n",
    "# NOTE: This code will throw an error but here a=1 is printed bcz we've defined the value of a=1 in above cells\n",
    "# If you run this code on fresh or new page it will throw an error"
   ]
  },
  {
   "cell_type": "raw",
   "id": "6222d1fc-ca1b-4989-a931-5e1c0ce9c69a",
   "metadata": {},
   "source": [
    "nonlocal keyword"
   ]
  },
  {
   "cell_type": "code",
   "execution_count": 53,
   "id": "b1b4198f-5d83-4fe9-9d79-69049dc693d9",
   "metadata": {},
   "outputs": [
    {
     "ename": "UnboundLocalError",
     "evalue": "cannot access local variable 'a' where it is not associated with a value",
     "output_type": "error",
     "traceback": [
      "\u001b[1;31m---------------------------------------------------------------------------\u001b[0m",
      "\u001b[1;31mUnboundLocalError\u001b[0m                         Traceback (most recent call last)",
      "Cell \u001b[1;32mIn[53], line 11\u001b[0m\n\u001b[0;32m      8\u001b[0m     \u001b[38;5;28mprint\u001b[39m(\u001b[38;5;124m\"\u001b[39m\u001b[38;5;124mOuter function\u001b[39m\u001b[38;5;124m\"\u001b[39m)\n\u001b[0;32m     10\u001b[0m \u001b[38;5;66;03m# outer \u001b[39;00m\n\u001b[1;32m---> 11\u001b[0m outer()\n\u001b[0;32m     12\u001b[0m \u001b[38;5;28mprint\u001b[39m(\u001b[38;5;124m\"\u001b[39m\u001b[38;5;124mMain program\u001b[39m\u001b[38;5;124m\"\u001b[39m)\n",
      "Cell \u001b[1;32mIn[53], line 7\u001b[0m, in \u001b[0;36mouter\u001b[1;34m()\u001b[0m\n\u001b[0;32m      5\u001b[0m \u001b[38;5;28;01mdef\u001b[39;00m \u001b[38;5;21minner\u001b[39m():\n\u001b[0;32m      6\u001b[0m     a \u001b[38;5;241m+\u001b[39m\u001b[38;5;241m=\u001b[39m \u001b[38;5;241m1\u001b[39m\n\u001b[1;32m----> 7\u001b[0m inner()\n\u001b[0;32m      8\u001b[0m \u001b[38;5;28mprint\u001b[39m(\u001b[38;5;124m\"\u001b[39m\u001b[38;5;124mOuter function\u001b[39m\u001b[38;5;124m\"\u001b[39m)\n",
      "Cell \u001b[1;32mIn[53], line 6\u001b[0m, in \u001b[0;36mouter.<locals>.inner\u001b[1;34m()\u001b[0m\n\u001b[0;32m      5\u001b[0m \u001b[38;5;28;01mdef\u001b[39;00m \u001b[38;5;21minner\u001b[39m():\n\u001b[1;32m----> 6\u001b[0m     a \u001b[38;5;241m+\u001b[39m\u001b[38;5;241m=\u001b[39m \u001b[38;5;241m1\u001b[39m\n",
      "\u001b[1;31mUnboundLocalError\u001b[0m: cannot access local variable 'a' where it is not associated with a value"
     ]
    }
   ],
   "source": [
    "#Enclosing\n",
    "def outer():\n",
    "    a = 1\n",
    "    #inner\n",
    "    def inner():\n",
    "        a += 1\n",
    "    inner()\n",
    "    print(\"Outer function\")\n",
    "\n",
    "# outer \n",
    "outer()\n",
    "print(\"Main program\")\n",
    "# This error is because of you can access Enclosing var but you can't make changes in this ... but but if you want to do so\n",
    "# you've another method given below"
   ]
  },
  {
   "cell_type": "code",
   "execution_count": 54,
   "id": "dc0f6796-7f34-435c-b020-e7ce12555ffb",
   "metadata": {},
   "outputs": [
    {
     "name": "stdout",
     "output_type": "stream",
     "text": [
      "Outer function\n",
      "Main program\n"
     ]
    }
   ],
   "source": [
    "\n",
    "#Enclosing\n",
    "def outer():\n",
    "    a = 1\n",
    "    #inner\n",
    "    def inner():\n",
    "        nonlocal a\n",
    "        a += 1\n",
    "    inner()\n",
    "    print(\"Outer function\")\n",
    "\n",
    "# outer \n",
    "outer()\n",
    "print(\"Main program\")"
   ]
  },
  {
   "cell_type": "raw",
   "id": "f7fb668c-b220-4404-a140-05f64db1a426",
   "metadata": {},
   "source": [
    "# Summary \n",
    "namespaces is a dictionary where variables name and their values are given and it is present in scope. and there are four scopes i.e Local scope,Enclosing scope, Global scope and Built-in Scope\n",
    "LEGB Rule -->> Ye batata hai ki currentscope se chijo ko dhundhte hain and agr nhi mila to uske aage jao means If searching in Local scope not present move to E then G and then B finally if kisi me not present thenn it will throw an error"
   ]
  },
  {
   "cell_type": "code",
   "execution_count": null,
   "id": "1b48b276-9f3f-44f4-b296-c57b4ce69bd5",
   "metadata": {},
   "outputs": [],
   "source": []
  },
  {
   "cell_type": "markdown",
   "id": "2c24c126-572e-4823-b7b1-4c5ff093265d",
   "metadata": {},
   "source": [
    "### Decorators\n",
    "##### A decorator in python is a function that receives another function as input and adds some functionality(decoration) to and it and returns it.\n",
    "\n",
    "##### This can happen only because python functions are 1st class citizens.\n",
    "\n",
    "##### There are 2 types of decorators available in python\n",
    "\n",
    "##### .Built in decorators like @staticmethod, @classmethod, @abstractmethod and @property etc\n",
    "##### .User defined decorators that we programmers can create according to our needs"
   ]
  },
  {
   "cell_type": "code",
   "execution_count": 65,
   "id": "fc6a4262-34c1-458f-8a06-83d376619dcd",
   "metadata": {},
   "outputs": [
    {
     "name": "stdout",
     "output_type": "stream",
     "text": [
      "Hello\n"
     ]
    }
   ],
   "source": [
    "#Python ar 1st class function\n",
    "def func():\n",
    "    print(\"Hello\")\n",
    "a = func\n",
    "a()\n",
    "# here we stored function in variable a and then used which is not possible in other lang hence it is called 1st class func"
   ]
  },
  {
   "cell_type": "code",
   "execution_count": 67,
   "id": "86b1da89-d2dd-43c7-b26c-38eb3a3f3f32",
   "metadata": {},
   "outputs": [
    {
     "ename": "NameError",
     "evalue": "name 'func' is not defined",
     "output_type": "error",
     "traceback": [
      "\u001b[1;31m---------------------------------------------------------------------------\u001b[0m",
      "\u001b[1;31mNameError\u001b[0m                                 Traceback (most recent call last)",
      "Cell \u001b[1;32mIn[67], line 4\u001b[0m\n\u001b[0;32m      2\u001b[0m     \u001b[38;5;28mprint\u001b[39m(\u001b[38;5;124m\"\u001b[39m\u001b[38;5;124mHello\u001b[39m\u001b[38;5;124m\"\u001b[39m)\n\u001b[0;32m      3\u001b[0m \u001b[38;5;28;01mdel\u001b[39;00m func\n\u001b[1;32m----> 4\u001b[0m func()\n",
      "\u001b[1;31mNameError\u001b[0m: name 'func' is not defined"
     ]
    }
   ],
   "source": [
    "def func():\n",
    "    print(\"Hello\")\n",
    "del func\n",
    "func()\n",
    "# you can also delete function in python and hence func is deleted so when you call it will throw an error\n"
   ]
  },
  {
   "cell_type": "code",
   "execution_count": 68,
   "id": "dd869017-546a-46ed-81ee-e30b50aa5ada",
   "metadata": {},
   "outputs": [
    {
     "data": {
      "text/plain": [
       "4"
      ]
     },
     "execution_count": 68,
     "metadata": {},
     "output_type": "execute_result"
    }
   ],
   "source": [
    "def modify(func,num):\n",
    "    return func(num)\n",
    "def square(num):\n",
    "    return num**2\n",
    "modify(square,2)"
   ]
  },
  {
   "cell_type": "code",
   "execution_count": 62,
   "id": "441c394d-7d0a-40ed-934f-ede7246f1900",
   "metadata": {},
   "outputs": [],
   "source": [
    "#Simple example"
   ]
  },
  {
   "cell_type": "code",
   "execution_count": 63,
   "id": "26ba7beb-be31-4eca-964c-11d7c63b74a1",
   "metadata": {},
   "outputs": [],
   "source": [
    "#more functions"
   ]
  },
  {
   "cell_type": "code",
   "execution_count": 64,
   "id": "90bbf21c-fed1-43da-91c4-7e666850c7d5",
   "metadata": {},
   "outputs": [],
   "source": [
    "#how this works-->> closure ??"
   ]
  },
  {
   "cell_type": "code",
   "execution_count": null,
   "id": "b00dccd7-a8bf-4b33-b8df-a2053e27e706",
   "metadata": {},
   "outputs": [],
   "source": [
    "#python tutor"
   ]
  },
  {
   "cell_type": "code",
   "execution_count": null,
   "id": "adad9c3a-82fe-4233-8911-91ba4f2e8a33",
   "metadata": {},
   "outputs": [],
   "source": []
  },
  {
   "cell_type": "code",
   "execution_count": null,
   "id": "f8124426-1bb2-4865-8d54-49796f92756d",
   "metadata": {},
   "outputs": [],
   "source": []
  },
  {
   "cell_type": "code",
   "execution_count": null,
   "id": "69c3b503-1269-4032-8086-33345c705fe1",
   "metadata": {},
   "outputs": [],
   "source": []
  },
  {
   "cell_type": "code",
   "execution_count": null,
   "id": "d9199d89-90c2-47ee-ba43-8b9722b9d63e",
   "metadata": {},
   "outputs": [],
   "source": []
  },
  {
   "cell_type": "code",
   "execution_count": null,
   "id": "9a98d268-1fa1-496d-abf4-4ebf4cf4fabc",
   "metadata": {},
   "outputs": [],
   "source": []
  },
  {
   "cell_type": "code",
   "execution_count": null,
   "id": "c9f41e8d-a861-4ce6-ae8d-2f9733ea4b53",
   "metadata": {},
   "outputs": [],
   "source": []
  },
  {
   "cell_type": "code",
   "execution_count": null,
   "id": "9cfc851c-4f4e-4407-a1a1-d6116bb0d5f9",
   "metadata": {},
   "outputs": [],
   "source": []
  },
  {
   "cell_type": "code",
   "execution_count": null,
   "id": "b59c6bd2-0f77-4574-b709-19eaadf55065",
   "metadata": {},
   "outputs": [],
   "source": []
  },
  {
   "cell_type": "code",
   "execution_count": null,
   "id": "c97c4eba-a242-4e9c-bd3b-fdc3b2f24656",
   "metadata": {},
   "outputs": [],
   "source": []
  },
  {
   "cell_type": "code",
   "execution_count": null,
   "id": "691071c7-64de-4311-a6f8-04dba848cbbe",
   "metadata": {},
   "outputs": [],
   "source": []
  },
  {
   "cell_type": "code",
   "execution_count": null,
   "id": "2fd22796-543f-4f94-8b43-ecfe525da4d6",
   "metadata": {},
   "outputs": [],
   "source": []
  },
  {
   "cell_type": "code",
   "execution_count": null,
   "id": "541177bd-edf9-46df-aae1-ed082d3e9e69",
   "metadata": {},
   "outputs": [],
   "source": []
  },
  {
   "cell_type": "code",
   "execution_count": null,
   "id": "946a12d9-c774-4fe6-9748-6ebe077e54d9",
   "metadata": {},
   "outputs": [],
   "source": []
  },
  {
   "cell_type": "code",
   "execution_count": null,
   "id": "50c93a6a-b52d-4e76-b8b0-2361b51d419e",
   "metadata": {},
   "outputs": [],
   "source": []
  },
  {
   "cell_type": "code",
   "execution_count": null,
   "id": "f6f43fa7-ed74-408e-8e54-9c1d7ae74f6c",
   "metadata": {},
   "outputs": [],
   "source": []
  },
  {
   "cell_type": "code",
   "execution_count": null,
   "id": "5df2542b-1ab4-48e4-8fd3-ca34b374a197",
   "metadata": {},
   "outputs": [],
   "source": []
  },
  {
   "cell_type": "code",
   "execution_count": null,
   "id": "804a977d-ea0d-47ff-a585-b5df779bf361",
   "metadata": {},
   "outputs": [],
   "source": []
  },
  {
   "cell_type": "code",
   "execution_count": null,
   "id": "e40c5674-3b2d-4bba-8686-a7b28c965706",
   "metadata": {},
   "outputs": [],
   "source": []
  },
  {
   "cell_type": "code",
   "execution_count": null,
   "id": "ab9e387f-6a1b-4afc-8874-fcc1e2328052",
   "metadata": {},
   "outputs": [],
   "source": []
  },
  {
   "cell_type": "code",
   "execution_count": null,
   "id": "b744351b-e985-4254-b08c-da01bb340a1c",
   "metadata": {},
   "outputs": [],
   "source": []
  },
  {
   "cell_type": "code",
   "execution_count": null,
   "id": "1398902b-11db-4fa1-a45d-5af41be227f3",
   "metadata": {},
   "outputs": [],
   "source": []
  },
  {
   "cell_type": "code",
   "execution_count": null,
   "id": "a6f9aebf-faeb-4742-ad88-16287522bbba",
   "metadata": {},
   "outputs": [],
   "source": []
  },
  {
   "cell_type": "code",
   "execution_count": null,
   "id": "016b095e-f9d8-4e9b-b805-a270ca117e42",
   "metadata": {},
   "outputs": [],
   "source": []
  },
  {
   "cell_type": "code",
   "execution_count": null,
   "id": "54e95921-3793-4dd7-a8f8-330b5f6c8d68",
   "metadata": {},
   "outputs": [],
   "source": []
  },
  {
   "cell_type": "code",
   "execution_count": null,
   "id": "14c23d7f-ae84-4bac-b611-b17868649536",
   "metadata": {},
   "outputs": [],
   "source": []
  },
  {
   "cell_type": "code",
   "execution_count": null,
   "id": "02284a61-2b57-48a8-b838-d5857d21f3b7",
   "metadata": {},
   "outputs": [],
   "source": []
  },
  {
   "cell_type": "code",
   "execution_count": null,
   "id": "1b30e717-4f83-4e2f-a22c-b32041e7c38f",
   "metadata": {},
   "outputs": [],
   "source": []
  },
  {
   "cell_type": "code",
   "execution_count": null,
   "id": "e7e58755-dc81-4a4c-8dc1-b9a7e0de7e15",
   "metadata": {},
   "outputs": [],
   "source": []
  },
  {
   "cell_type": "code",
   "execution_count": null,
   "id": "a1063c5b-287b-497f-baff-19a9977f255f",
   "metadata": {},
   "outputs": [],
   "source": []
  },
  {
   "cell_type": "code",
   "execution_count": null,
   "id": "17aff35a-a15b-4f17-82aa-fa25c49cfe7e",
   "metadata": {},
   "outputs": [],
   "source": []
  },
  {
   "cell_type": "code",
   "execution_count": null,
   "id": "d813ae6a-2225-4ad8-905e-a632ea2ab461",
   "metadata": {},
   "outputs": [],
   "source": []
  },
  {
   "cell_type": "code",
   "execution_count": null,
   "id": "6254fd1f-f5ba-491b-bb07-9007a98e9451",
   "metadata": {},
   "outputs": [],
   "source": []
  },
  {
   "cell_type": "code",
   "execution_count": null,
   "id": "f3e4dbb5-2288-45a5-ae33-34ea1cc80bf1",
   "metadata": {},
   "outputs": [],
   "source": []
  },
  {
   "cell_type": "code",
   "execution_count": null,
   "id": "784142d1-d922-472e-a582-946224187410",
   "metadata": {},
   "outputs": [],
   "source": []
  },
  {
   "cell_type": "code",
   "execution_count": null,
   "id": "6c304ce3-4523-4e7e-bb8f-bd6f39d77faa",
   "metadata": {},
   "outputs": [],
   "source": []
  },
  {
   "cell_type": "code",
   "execution_count": null,
   "id": "c0fbeac6-b3f2-4a9b-9790-577c4700f05f",
   "metadata": {},
   "outputs": [],
   "source": []
  },
  {
   "cell_type": "code",
   "execution_count": null,
   "id": "dd5dd985-1cb5-493d-a4f4-b4b2791f548c",
   "metadata": {},
   "outputs": [],
   "source": []
  },
  {
   "cell_type": "code",
   "execution_count": null,
   "id": "98a822c7-f8d6-4492-adb1-f879c8588ae0",
   "metadata": {},
   "outputs": [],
   "source": []
  },
  {
   "cell_type": "code",
   "execution_count": null,
   "id": "5e0aba9f-573d-44b2-b6b7-3c5ada1bf4fd",
   "metadata": {},
   "outputs": [],
   "source": []
  },
  {
   "cell_type": "code",
   "execution_count": null,
   "id": "4408c8d5-f2e7-4b46-aea1-c9f211e13c6e",
   "metadata": {},
   "outputs": [],
   "source": []
  },
  {
   "cell_type": "code",
   "execution_count": null,
   "id": "c3cd3c95-01a5-4aaa-867b-047abad2d2b9",
   "metadata": {},
   "outputs": [],
   "source": []
  },
  {
   "cell_type": "code",
   "execution_count": null,
   "id": "805eca69-213e-423a-abe9-3de5f8e8d6d4",
   "metadata": {},
   "outputs": [],
   "source": []
  },
  {
   "cell_type": "code",
   "execution_count": null,
   "id": "bae562e7-48a8-4cc0-8d9e-b1d616287326",
   "metadata": {},
   "outputs": [],
   "source": []
  },
  {
   "cell_type": "code",
   "execution_count": null,
   "id": "99b0111b-f688-4b4b-a6b2-470babdaab4e",
   "metadata": {},
   "outputs": [],
   "source": []
  },
  {
   "cell_type": "code",
   "execution_count": null,
   "id": "042096f7-dd1c-441a-bec2-3e2367005bfa",
   "metadata": {},
   "outputs": [],
   "source": []
  },
  {
   "cell_type": "code",
   "execution_count": null,
   "id": "73b78d31-1585-41f5-b76f-0f6790fee125",
   "metadata": {},
   "outputs": [],
   "source": []
  },
  {
   "cell_type": "code",
   "execution_count": null,
   "id": "12b93c1b-ff13-4c83-83e9-132825d18a79",
   "metadata": {},
   "outputs": [],
   "source": []
  },
  {
   "cell_type": "code",
   "execution_count": null,
   "id": "c6435061-9635-4b5b-b7f1-f50e7f0995dc",
   "metadata": {},
   "outputs": [],
   "source": []
  },
  {
   "cell_type": "code",
   "execution_count": null,
   "id": "a556a9d7-9ad4-4e6f-8890-f266c05221cb",
   "metadata": {},
   "outputs": [],
   "source": []
  },
  {
   "cell_type": "code",
   "execution_count": null,
   "id": "f31c35e4-87f7-41e8-a289-c60b537eb922",
   "metadata": {},
   "outputs": [],
   "source": []
  },
  {
   "cell_type": "code",
   "execution_count": null,
   "id": "62b4bb1c-31f8-4523-85e3-63a9af5b45ae",
   "metadata": {},
   "outputs": [],
   "source": []
  },
  {
   "cell_type": "code",
   "execution_count": null,
   "id": "86c46558-088e-4bee-831c-1d934a02a6b3",
   "metadata": {},
   "outputs": [],
   "source": []
  },
  {
   "cell_type": "code",
   "execution_count": null,
   "id": "d0ad4538-6e39-48d6-9a12-838ebbbcbf4a",
   "metadata": {},
   "outputs": [],
   "source": []
  },
  {
   "cell_type": "code",
   "execution_count": null,
   "id": "6b8d78ec-1cfc-4ee8-9148-a86c16a4b8ea",
   "metadata": {},
   "outputs": [],
   "source": []
  },
  {
   "cell_type": "code",
   "execution_count": null,
   "id": "3d2d0d32-5280-4861-902a-fac239b3eae1",
   "metadata": {},
   "outputs": [],
   "source": []
  },
  {
   "cell_type": "code",
   "execution_count": null,
   "id": "b7ac6b89-a5a1-462c-940c-5c7720bd3849",
   "metadata": {},
   "outputs": [],
   "source": []
  },
  {
   "cell_type": "code",
   "execution_count": null,
   "id": "f3b354a6-0aeb-466b-b79d-3850ba0e282f",
   "metadata": {},
   "outputs": [],
   "source": []
  },
  {
   "cell_type": "code",
   "execution_count": null,
   "id": "f22cdb93-bde9-4021-a2f3-c6770f2b403b",
   "metadata": {},
   "outputs": [],
   "source": []
  },
  {
   "cell_type": "code",
   "execution_count": null,
   "id": "9d681f32-c101-462e-bd45-3cef0421d2b5",
   "metadata": {},
   "outputs": [],
   "source": []
  },
  {
   "cell_type": "code",
   "execution_count": null,
   "id": "6da24e0e-c2d3-44d7-bb3f-c6a7b71b6554",
   "metadata": {},
   "outputs": [],
   "source": []
  },
  {
   "cell_type": "code",
   "execution_count": null,
   "id": "d3a56c1d-d63a-43fa-a000-052855aa7ebe",
   "metadata": {},
   "outputs": [],
   "source": []
  },
  {
   "cell_type": "code",
   "execution_count": null,
   "id": "2c4561d8-88ce-4f17-af6d-14b48357e325",
   "metadata": {},
   "outputs": [],
   "source": []
  },
  {
   "cell_type": "code",
   "execution_count": null,
   "id": "315170d0-12f9-4bf0-ba2b-216c7f33078a",
   "metadata": {},
   "outputs": [],
   "source": []
  },
  {
   "cell_type": "code",
   "execution_count": null,
   "id": "b4950fd6-90d1-40be-9b6c-0fdf6eb87889",
   "metadata": {},
   "outputs": [],
   "source": []
  },
  {
   "cell_type": "code",
   "execution_count": null,
   "id": "24c17ea2-8830-44d3-8ff8-19f75b5247c7",
   "metadata": {},
   "outputs": [],
   "source": []
  },
  {
   "cell_type": "code",
   "execution_count": null,
   "id": "fcd0969a-d077-4ea7-918d-39c24ffc107b",
   "metadata": {},
   "outputs": [],
   "source": []
  },
  {
   "cell_type": "code",
   "execution_count": null,
   "id": "e332be60-d401-4438-bc73-3135eddd1225",
   "metadata": {},
   "outputs": [],
   "source": []
  },
  {
   "cell_type": "code",
   "execution_count": null,
   "id": "daba528f-5e0c-4d9e-944a-c69ba505e5c4",
   "metadata": {},
   "outputs": [],
   "source": []
  },
  {
   "cell_type": "code",
   "execution_count": null,
   "id": "cf6f9d5e-54dd-40a2-87b6-3c31fd450118",
   "metadata": {},
   "outputs": [],
   "source": []
  },
  {
   "cell_type": "code",
   "execution_count": null,
   "id": "cf77bfca-87ad-4d18-8948-3c62ff88d243",
   "metadata": {},
   "outputs": [],
   "source": []
  },
  {
   "cell_type": "code",
   "execution_count": null,
   "id": "4e1ad927-0221-42d0-a633-ece2bb4c3345",
   "metadata": {},
   "outputs": [],
   "source": []
  },
  {
   "cell_type": "code",
   "execution_count": null,
   "id": "af56d8ed-e506-49b5-af20-dc4b929f9dac",
   "metadata": {},
   "outputs": [],
   "source": []
  },
  {
   "cell_type": "code",
   "execution_count": null,
   "id": "c9f2a5be-2eda-47ef-914f-d99714858e0f",
   "metadata": {},
   "outputs": [],
   "source": []
  },
  {
   "cell_type": "code",
   "execution_count": null,
   "id": "efbabc5f-c61c-468a-a781-7f6d06773fd2",
   "metadata": {},
   "outputs": [],
   "source": []
  },
  {
   "cell_type": "code",
   "execution_count": null,
   "id": "90238fd5-2816-4798-8ecd-8d6d0c9b5eb9",
   "metadata": {},
   "outputs": [],
   "source": []
  },
  {
   "cell_type": "code",
   "execution_count": null,
   "id": "9b9ad275-4ff5-4e9f-9546-684dcf6a3de6",
   "metadata": {},
   "outputs": [],
   "source": []
  },
  {
   "cell_type": "code",
   "execution_count": null,
   "id": "0d34f268-1fa1-40bd-a9d0-54924e68829b",
   "metadata": {},
   "outputs": [],
   "source": []
  },
  {
   "cell_type": "code",
   "execution_count": null,
   "id": "ade871f8-683a-46b3-9077-dff38e9d7b79",
   "metadata": {},
   "outputs": [],
   "source": []
  },
  {
   "cell_type": "code",
   "execution_count": null,
   "id": "d173a377-793c-44a7-bcd5-1e23739b48a2",
   "metadata": {},
   "outputs": [],
   "source": []
  },
  {
   "cell_type": "code",
   "execution_count": null,
   "id": "9aefc252-abc9-44cc-b4c3-41142c552829",
   "metadata": {},
   "outputs": [],
   "source": []
  },
  {
   "cell_type": "code",
   "execution_count": null,
   "id": "706f1f5d-3738-4f35-bdc0-7cc1a59a5b96",
   "metadata": {},
   "outputs": [],
   "source": []
  },
  {
   "cell_type": "code",
   "execution_count": null,
   "id": "93ab33a4-c196-4c6c-bcf3-efda41310f93",
   "metadata": {},
   "outputs": [],
   "source": []
  },
  {
   "cell_type": "code",
   "execution_count": null,
   "id": "4d06453a-405e-4c91-9355-f93734e73c45",
   "metadata": {},
   "outputs": [],
   "source": []
  },
  {
   "cell_type": "code",
   "execution_count": null,
   "id": "fa626cdd-c455-4514-8f54-00580a082ee7",
   "metadata": {},
   "outputs": [],
   "source": []
  },
  {
   "cell_type": "code",
   "execution_count": null,
   "id": "dbf4a2c2-f9a6-4f36-afff-18bf9ee3dd9e",
   "metadata": {},
   "outputs": [],
   "source": []
  },
  {
   "cell_type": "code",
   "execution_count": null,
   "id": "a335c2a5-b7df-448e-ba66-581194c922d1",
   "metadata": {},
   "outputs": [],
   "source": []
  },
  {
   "cell_type": "code",
   "execution_count": null,
   "id": "96ebb935-a4cb-405f-83d8-34d63fafb689",
   "metadata": {},
   "outputs": [],
   "source": []
  },
  {
   "cell_type": "code",
   "execution_count": null,
   "id": "62c86b45-faf1-4e79-ba08-54397835a806",
   "metadata": {},
   "outputs": [],
   "source": []
  },
  {
   "cell_type": "code",
   "execution_count": null,
   "id": "edf3d744-1d69-4f7e-aea3-a1404a994d98",
   "metadata": {},
   "outputs": [],
   "source": []
  },
  {
   "cell_type": "code",
   "execution_count": null,
   "id": "00ed57c9-39ac-4271-8a8b-539276f9e5aa",
   "metadata": {},
   "outputs": [],
   "source": []
  },
  {
   "cell_type": "code",
   "execution_count": null,
   "id": "a8b5a143-f45b-49ff-a1e9-06cb1924d3aa",
   "metadata": {},
   "outputs": [],
   "source": []
  },
  {
   "cell_type": "code",
   "execution_count": null,
   "id": "03fad867-e33b-4b46-97c3-5a6adfa47aca",
   "metadata": {},
   "outputs": [],
   "source": []
  },
  {
   "cell_type": "code",
   "execution_count": null,
   "id": "56530590-7470-427e-b15e-c6db715e6360",
   "metadata": {},
   "outputs": [],
   "source": []
  },
  {
   "cell_type": "code",
   "execution_count": null,
   "id": "bd6bb095-4c4c-420c-916b-85c1ce34b7c9",
   "metadata": {},
   "outputs": [],
   "source": []
  },
  {
   "cell_type": "code",
   "execution_count": null,
   "id": "5e40819b-0d07-45ed-8849-50f93a9200ff",
   "metadata": {},
   "outputs": [],
   "source": []
  },
  {
   "cell_type": "code",
   "execution_count": null,
   "id": "423ce089-4ebb-4c4a-96b4-8d7300c48f4f",
   "metadata": {},
   "outputs": [],
   "source": []
  },
  {
   "cell_type": "code",
   "execution_count": null,
   "id": "4b2c8386-bb2c-4cf1-960c-bf1c391317c7",
   "metadata": {},
   "outputs": [],
   "source": []
  },
  {
   "cell_type": "code",
   "execution_count": null,
   "id": "ed209c09-f848-410b-9e86-ac3e1543f209",
   "metadata": {},
   "outputs": [],
   "source": []
  },
  {
   "cell_type": "code",
   "execution_count": null,
   "id": "c3efe3fd-d1ac-464e-b1f6-677cd551a137",
   "metadata": {},
   "outputs": [],
   "source": []
  },
  {
   "cell_type": "code",
   "execution_count": null,
   "id": "90cb2101-89d1-48dd-aaf8-250f73b9cd22",
   "metadata": {},
   "outputs": [],
   "source": []
  },
  {
   "cell_type": "code",
   "execution_count": null,
   "id": "3f0ee5ca-f343-4017-abd5-9db285d07695",
   "metadata": {},
   "outputs": [],
   "source": []
  },
  {
   "cell_type": "code",
   "execution_count": null,
   "id": "136a6615-23bf-441c-b521-11ec11e8d824",
   "metadata": {},
   "outputs": [],
   "source": []
  },
  {
   "cell_type": "code",
   "execution_count": null,
   "id": "073be00a-5273-451d-aa4a-ba090d95231b",
   "metadata": {},
   "outputs": [],
   "source": []
  },
  {
   "cell_type": "code",
   "execution_count": null,
   "id": "22a6e5a9-ce63-4860-ba45-20d29f6ca3df",
   "metadata": {},
   "outputs": [],
   "source": []
  },
  {
   "cell_type": "code",
   "execution_count": null,
   "id": "56d67e25-45b9-485c-8d62-7fe59b827b4e",
   "metadata": {},
   "outputs": [],
   "source": []
  },
  {
   "cell_type": "code",
   "execution_count": null,
   "id": "15caaa89-5a1c-409d-a40b-bc19cc0d17bf",
   "metadata": {},
   "outputs": [],
   "source": []
  },
  {
   "cell_type": "code",
   "execution_count": null,
   "id": "0bfb0882-2af5-492c-af53-8a8b4023d57f",
   "metadata": {},
   "outputs": [],
   "source": []
  },
  {
   "cell_type": "code",
   "execution_count": null,
   "id": "09c31b6a-bad8-43ef-b034-1121ac1b1c79",
   "metadata": {},
   "outputs": [],
   "source": []
  },
  {
   "cell_type": "code",
   "execution_count": null,
   "id": "63eb1e81-5eaf-4497-bdfa-d1fc939c516d",
   "metadata": {},
   "outputs": [],
   "source": []
  },
  {
   "cell_type": "code",
   "execution_count": null,
   "id": "ee9a1cce-f8df-453c-9785-a2248ed4be2b",
   "metadata": {},
   "outputs": [],
   "source": []
  },
  {
   "cell_type": "code",
   "execution_count": null,
   "id": "1a3b4033-0a45-4faa-a716-e67f728c2f20",
   "metadata": {},
   "outputs": [],
   "source": []
  }
 ],
 "metadata": {
  "kernelspec": {
   "display_name": "Python 3 (ipykernel)",
   "language": "python",
   "name": "python3"
  },
  "language_info": {
   "codemirror_mode": {
    "name": "ipython",
    "version": 3
   },
   "file_extension": ".py",
   "mimetype": "text/x-python",
   "name": "python",
   "nbconvert_exporter": "python",
   "pygments_lexer": "ipython3",
   "version": "3.12.7"
  }
 },
 "nbformat": 4,
 "nbformat_minor": 5
}
