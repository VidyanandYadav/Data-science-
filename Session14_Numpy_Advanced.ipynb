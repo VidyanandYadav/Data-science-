{
 "cells": [
  {
   "cell_type": "markdown",
   "id": "df2de493-af6a-4790-9c66-3f4c1d516166",
   "metadata": {},
   "source": [
    "## Numpy Advanced"
   ]
  },
  {
   "cell_type": "markdown",
   "id": "17dc9761-40a5-4897-b81b-cda3ae293187",
   "metadata": {},
   "source": [
    "#### Numpy Array vs Python Lists"
   ]
  },
  {
   "cell_type": "markdown",
   "id": "01c9641c-4fe4-4fd1-876d-2e9823e15b1b",
   "metadata": {},
   "source": [
    "###### The major differences b/w Numpy array and python list are :"
   ]
  },
  {
   "cell_type": "markdown",
   "id": "8bf05663-3772-4229-9a66-ef27be3c4a66",
   "metadata": {},
   "source": [
    "##### 1.speed"
   ]
  },
  {
   "cell_type": "code",
   "execution_count": 10,
   "id": "73b616e3-c8be-482d-a7fc-beaf80c740d6",
   "metadata": {},
   "outputs": [
    {
     "name": "stdout",
     "output_type": "stream",
     "text": [
      "The time taken to run this code is :  5.664685487747192 seconds\n"
     ]
    }
   ],
   "source": [
    "#list\n",
    "a = [i for i in range(10000000)]\n",
    "b = [i for i in range(10000000,20000000)]\n",
    "c = []\n",
    "import time\n",
    "\n",
    "start = time.time()\n",
    "for i in range (len(a)):\n",
    "    c.append(a[i]+b[i])\n",
    "print(\"The time taken to run this code is : \",time.time()-start,\"seconds\")\n"
   ]
  },
  {
   "cell_type": "code",
   "execution_count": 13,
   "id": "654dde83-22bd-4b51-9951-30e017393b5f",
   "metadata": {},
   "outputs": [
    {
     "name": "stdout",
     "output_type": "stream",
     "text": [
      "0.0852975845336914\n"
     ]
    }
   ],
   "source": [
    "#numpy\n",
    "import numpy as np\n",
    "a = np.arange(10000000)\n",
    "b = np.arange(10000000,20000000)\n",
    "\n",
    "start = time.time()\n",
    "c = a + b\n",
    "print(time.time()-start)"
   ]
  },
  {
   "cell_type": "markdown",
   "id": "f3e9f9e7-069f-4a31-9f94-65b34280862a",
   "metadata": {},
   "source": [
    "###### Now 5.66/0.08 = 70 . It means almost 70 times faster "
   ]
  },
  {
   "cell_type": "markdown",
   "id": "714cefed-8266-4f09-b10d-95836f6508cc",
   "metadata": {},
   "source": [
    "##### 2.memory"
   ]
  },
  {
   "cell_type": "code",
   "execution_count": 14,
   "id": "7e4e8710-ff02-4de4-85f8-d926d57981b7",
   "metadata": {},
   "outputs": [
    {
     "data": {
      "text/plain": [
       "89095160"
      ]
     },
     "execution_count": 14,
     "metadata": {},
     "output_type": "execute_result"
    }
   ],
   "source": [
    "# Python list\n",
    "a = [i for i in range(10000000)]\n",
    "import sys\n",
    "\n",
    "sys.getsizeof(a)"
   ]
  },
  {
   "cell_type": "code",
   "execution_count": 16,
   "id": "6b134ddf-4c4a-406a-a53c-644a97d559d7",
   "metadata": {},
   "outputs": [
    {
     "data": {
      "text/plain": [
       "40000112"
      ]
     },
     "execution_count": 16,
     "metadata": {},
     "output_type": "execute_result"
    }
   ],
   "source": [
    "# numpy array\n",
    "a = np.arange(10000000)\n",
    "sys.getsizeof(a)\n",
    "# NOTE: In this laptop by default int datatype is int32 but in another it will int64 where it occupies memory as same of list\n",
    "#So we can convert datatype of int64 to int 32 & memory occupy will be reduced here by default it'sint32 so no need to change"
   ]
  },
  {
   "cell_type": "markdown",
   "id": "77cff50f-b6a2-49e4-87bc-b6fcaa552158",
   "metadata": {},
   "source": [
    "###### Conclusion : Numpy array almost occupy half memory as of python list"
   ]
  },
  {
   "cell_type": "markdown",
   "id": "0d135b32-be27-4d62-afc7-cad409442f06",
   "metadata": {},
   "source": [
    "##### 3.convenience"
   ]
  },
  {
   "cell_type": "code",
   "execution_count": 17,
   "id": "39cd8794-7e2a-4562-b8aa-261ce8e67d3a",
   "metadata": {},
   "outputs": [],
   "source": [
    "# Convenience means that in python list to add numbers from 0 to 2Cr we've to run loop and have to write code but in\n",
    "# Numpy array simply do addition i.e c = a + b which is more and more convenient"
   ]
  },
  {
   "cell_type": "markdown",
   "id": "765becd0-36ec-4b45-a3b7-19261566f982",
   "metadata": {},
   "source": [
    "#### Advance Indexing"
   ]
  },
  {
   "cell_type": "markdown",
   "id": "6d9ea627-f611-4209-87a8-e19ef889207c",
   "metadata": {},
   "source": [
    "##### 1.Normal Indexing and Slicing"
   ]
  },
  {
   "cell_type": "code",
   "execution_count": 35,
   "id": "c09de58e-bd33-4323-9484-c7271c2ed69b",
   "metadata": {},
   "outputs": [
    {
     "data": {
      "text/plain": [
       "array([[ 0,  1,  2],\n",
       "       [ 3,  4,  5],\n",
       "       [ 6,  7,  8],\n",
       "       [ 9, 10, 11]])"
      ]
     },
     "execution_count": 35,
     "metadata": {},
     "output_type": "execute_result"
    }
   ],
   "source": [
    "a = np.arange(12).reshape(4,3)\n",
    "a"
   ]
  },
  {
   "cell_type": "code",
   "execution_count": 36,
   "id": "ff490f40-0e27-477b-827d-09a1b9dba1ac",
   "metadata": {},
   "outputs": [
    {
     "data": {
      "text/plain": [
       "5"
      ]
     },
     "execution_count": 36,
     "metadata": {},
     "output_type": "execute_result"
    }
   ],
   "source": [
    "a[1,2]"
   ]
  },
  {
   "cell_type": "code",
   "execution_count": 37,
   "id": "3019bd34-1893-4fbe-959f-bdbde9aae667",
   "metadata": {},
   "outputs": [
    {
     "data": {
      "text/plain": [
       "array([[4, 5],\n",
       "       [7, 8]])"
      ]
     },
     "execution_count": 37,
     "metadata": {},
     "output_type": "execute_result"
    }
   ],
   "source": [
    "a[1:3,1:3]"
   ]
  },
  {
   "cell_type": "markdown",
   "id": "7cc53155-b146-4579-9896-9ea4681b8403",
   "metadata": {},
   "source": [
    "##### 2.Fancy Indexing -->> When no simple pattern is observed (You've to provide list and mention the row which you want...)"
   ]
  },
  {
   "cell_type": "code",
   "execution_count": 38,
   "id": "071feb9c-1cec-43d5-ad41-c6e97c15f99e",
   "metadata": {},
   "outputs": [
    {
     "name": "stdout",
     "output_type": "stream",
     "text": [
      "[[ 0  1  2]\n",
      " [ 3  4  5]\n",
      " [ 6  7  8]\n",
      " [ 9 10 11]]\n"
     ]
    }
   ],
   "source": [
    "print(a)"
   ]
  },
  {
   "cell_type": "markdown",
   "id": "f3d0b8c2-8841-4932-80aa-5e8b979bcc68",
   "metadata": {},
   "source": [
    "###### You have to print 1,3 and 4 row"
   ]
  },
  {
   "cell_type": "code",
   "execution_count": 39,
   "id": "88f06c47-f486-4031-bad5-a7f9d22b5629",
   "metadata": {},
   "outputs": [
    {
     "name": "stdout",
     "output_type": "stream",
     "text": [
      "[[ 0  1  2]\n",
      " [ 6  7  8]\n",
      " [ 9 10 11]]\n"
     ]
    }
   ],
   "source": [
    "print(a[[0,2,3]])"
   ]
  },
  {
   "cell_type": "code",
   "execution_count": 40,
   "id": "73d5ed17-3f3b-4cb5-a6d0-31212464b534",
   "metadata": {},
   "outputs": [
    {
     "data": {
      "text/plain": [
       "array([[ 0,  1,  2,  3],\n",
       "       [ 4,  5,  6,  7],\n",
       "       [ 8,  9, 10, 11],\n",
       "       [12, 13, 14, 15],\n",
       "       [16, 17, 18, 19],\n",
       "       [20, 21, 22, 23]])"
      ]
     },
     "execution_count": 40,
     "metadata": {},
     "output_type": "execute_result"
    }
   ],
   "source": [
    "a = np.arange(0,24).reshape(6,4)\n",
    "a"
   ]
  },
  {
   "cell_type": "code",
   "execution_count": 41,
   "id": "d61e5653-5f55-42b7-b6d6-4da87da1a69e",
   "metadata": {},
   "outputs": [
    {
     "name": "stdout",
     "output_type": "stream",
     "text": [
      "[[ 0  1  2  3]\n",
      " [ 8  9 10 11]\n",
      " [12 13 14 15]\n",
      " [20 21 22 23]]\n"
     ]
    }
   ],
   "source": [
    "print(a[[0,2,3,5]])"
   ]
  },
  {
   "cell_type": "code",
   "execution_count": 42,
   "id": "fbc1ccc2-cad7-445e-a459-ad9a865364ab",
   "metadata": {},
   "outputs": [
    {
     "name": "stdout",
     "output_type": "stream",
     "text": [
      "[[ 0  2  3]\n",
      " [ 4  6  7]\n",
      " [ 8 10 11]\n",
      " [12 14 15]\n",
      " [16 18 19]\n",
      " [20 22 23]]\n"
     ]
    }
   ],
   "source": [
    "print(a[:,[0,2,3]])"
   ]
  },
  {
   "cell_type": "markdown",
   "id": "4860f9d8-63e6-441b-89c3-03e8353c5b33",
   "metadata": {},
   "source": [
    "##### 3.Boolean Indexing"
   ]
  },
  {
   "cell_type": "code",
   "execution_count": 44,
   "id": "f7cd9b12-806c-47da-83b5-2dc0a7b1ce09",
   "metadata": {},
   "outputs": [
    {
     "data": {
      "text/plain": [
       "array([[43, 85, 96, 24],\n",
       "       [87, 19, 58, 96],\n",
       "       [42, 15,  4, 32],\n",
       "       [93, 45, 93, 63],\n",
       "       [80, 51, 67,  9],\n",
       "       [21, 61, 31, 72]])"
      ]
     },
     "execution_count": 44,
     "metadata": {},
     "output_type": "execute_result"
    }
   ],
   "source": [
    "a = np.random.randint(1,100,24).reshape(6,4)\n",
    "a"
   ]
  },
  {
   "cell_type": "code",
   "execution_count": 46,
   "id": "20487487-5598-40c7-a5f7-1f59b28879ae",
   "metadata": {},
   "outputs": [
    {
     "data": {
      "text/plain": [
       "array([[False,  True,  True, False],\n",
       "       [ True, False,  True,  True],\n",
       "       [False, False, False, False],\n",
       "       [ True, False,  True,  True],\n",
       "       [ True,  True,  True, False],\n",
       "       [False,  True, False,  True]])"
      ]
     },
     "execution_count": 46,
     "metadata": {},
     "output_type": "execute_result"
    }
   ],
   "source": [
    "# Find all numbers greater than 50\n",
    "a>50\n",
    "# Now can use it at mask where only true one will obtain i.e greater than 50"
   ]
  },
  {
   "cell_type": "code",
   "execution_count": 47,
   "id": "7d663a17-2a3a-424a-84d5-88d77a2512bb",
   "metadata": {},
   "outputs": [
    {
     "data": {
      "text/plain": [
       "array([85, 96, 87, 58, 96, 93, 93, 63, 80, 51, 67, 61, 72])"
      ]
     },
     "execution_count": 47,
     "metadata": {},
     "output_type": "execute_result"
    }
   ],
   "source": [
    "a[a>50]"
   ]
  },
  {
   "cell_type": "code",
   "execution_count": 50,
   "id": "64466384-60fe-4c15-b19c-da2596e01a9e",
   "metadata": {},
   "outputs": [
    {
     "name": "stdout",
     "output_type": "stream",
     "text": [
      "[[False False  True  True]\n",
      " [False False  True  True]\n",
      " [ True False  True  True]\n",
      " [False False False False]\n",
      " [ True False False False]\n",
      " [False False False  True]]\n",
      "[96 24 58 96 42  4 32 80 72]\n"
     ]
    }
   ],
   "source": [
    "# Find out all even numbers of given array a \n",
    "print(a%2 == 0) # this will give you boolean expression \n",
    "print(a[a%2==0])"
   ]
  },
  {
   "cell_type": "code",
   "execution_count": null,
   "id": "387fd565-d224-4e79-8b92-ad3009e57102",
   "metadata": {},
   "outputs": [],
   "source": [
    "# Find all numbers greater than 50 and are even"
   ]
  },
  {
   "cell_type": "code",
   "execution_count": 57,
   "id": "214b1a2b-98c4-45db-9064-4f49336e7fbf",
   "metadata": {},
   "outputs": [
    {
     "data": {
      "text/plain": [
       "array([96, 58, 96, 80, 72])"
      ]
     },
     "execution_count": 57,
     "metadata": {},
     "output_type": "execute_result"
    }
   ],
   "source": [
    "a[(a>50) & (a%2==0)]\n",
    "# NOTE: Here we use & but not this and coz & is boolean relational so we use this one here we're dealing with boolean  "
   ]
  },
  {
   "cell_type": "code",
   "execution_count": 58,
   "id": "8e86ed9d-687c-4dcd-b33f-84471ae779e6",
   "metadata": {},
   "outputs": [],
   "source": [
    "# find all numbers which are  not divisible by 7"
   ]
  },
  {
   "cell_type": "code",
   "execution_count": 59,
   "id": "7377e736-37a2-4012-80f9-871bd98c7512",
   "metadata": {},
   "outputs": [
    {
     "data": {
      "text/plain": [
       "array([43, 85, 96, 24, 87, 19, 58, 96, 15,  4, 32, 93, 45, 93, 80, 51, 67,\n",
       "        9, 61, 31, 72])"
      ]
     },
     "execution_count": 59,
     "metadata": {},
     "output_type": "execute_result"
    }
   ],
   "source": [
    "a[~(a%7 == 0)]\n",
    "# here ~ is used so that it will reverse the value bcz a%7==0 gives that no which are divisible by 7 "
   ]
  },
  {
   "cell_type": "code",
   "execution_count": null,
   "id": "1eadffe8-c862-4509-957e-fe3a35003e06",
   "metadata": {},
   "outputs": [],
   "source": []
  },
  {
   "cell_type": "markdown",
   "id": "9e358332-7aca-4518-9de7-f05fce6e11ff",
   "metadata": {},
   "source": [
    "#### Broadcasting\n",
    "##### .The term broadcasting describes how NumPy treats arrays with different shapes during arithmetic operations.\n",
    "##### .The smaller array is “broadcast” across the larger array so that they have compatible shapes."
   ]
  },
  {
   "cell_type": "code",
   "execution_count": 61,
   "id": "8e28420f-4956-404b-a9c7-8d58c0634ff8",
   "metadata": {},
   "outputs": [
    {
     "name": "stdout",
     "output_type": "stream",
     "text": [
      "[[0 1 2]\n",
      " [3 4 5]]\n",
      "[[ 6  7  8]\n",
      " [ 9 10 11]]\n",
      "[[ 6  8 10]\n",
      " [12 14 16]]\n"
     ]
    }
   ],
   "source": [
    "# same shape\n",
    "a = np.arange(6).reshape(2,3)\n",
    "b = np.arange(6,12).reshape(2,3)\n",
    "print(a)\n",
    "print(b)\n",
    "print(a+b)"
   ]
  },
  {
   "cell_type": "code",
   "execution_count": 62,
   "id": "0f4854a6-6f70-46f4-acd8-eaaf208b88ea",
   "metadata": {},
   "outputs": [
    {
     "name": "stdout",
     "output_type": "stream",
     "text": [
      "[[0 1 2]\n",
      " [3 4 5]]\n",
      "[[0 1 2]]\n",
      "[[0 2 4]\n",
      " [3 5 7]]\n"
     ]
    }
   ],
   "source": [
    "# different shape\n",
    "a = np.arange(6).reshape(2,3)\n",
    "b = np.arange(3).reshape(1,3)\n",
    "print(a)\n",
    "print(b)\n",
    "print(a+b)"
   ]
  },
  {
   "cell_type": "code",
   "execution_count": null,
   "id": "8a060ef4-7cac-4e8e-8045-d7be672f18bf",
   "metadata": {},
   "outputs": [],
   "source": []
  },
  {
   "cell_type": "markdown",
   "id": "2ba36c9a-cd54-40b2-9a97-4e5c6deacb9f",
   "metadata": {},
   "source": [
    "#### Broadcasting Rules\n",
    "\n",
    "##### 1. Make the two arrays have the same number of dimensions.**<br>\n",
    "###### If the numbers of dimensions of the two arrays are different, add new dimensions with size 1 to the head of the array with the smaller dimension.<br>\n",
    "\n",
    "##### 2. Make each dimension of the two arrays the same size.**<br>\n",
    "###### .If the sizes of each dimension of the two arrays do not match, dimensions with size 1 are stretched to the size of the other array.\n",
    "###### .If there is a dimension whose size is not 1 in either of the two arrays, it cannot be broadcasted, and an error is raised."
   ]
  },
  {
   "cell_type": "code",
   "execution_count": null,
   "id": "e4f5f74c-ed48-4b64-846f-b955a08b4fc1",
   "metadata": {},
   "outputs": [],
   "source": [
    "# Examples for clarification"
   ]
  },
  {
   "cell_type": "code",
   "execution_count": 65,
   "id": "52d0e45b-dc69-4ae7-bb74-78f498b04369",
   "metadata": {},
   "outputs": [
    {
     "name": "stdout",
     "output_type": "stream",
     "text": [
      "[[ 0  1  2]\n",
      " [ 3  4  5]\n",
      " [ 6  7  8]\n",
      " [ 9 10 11]]\n",
      "[0 1 2]\n",
      "[[ 0  2  4]\n",
      " [ 3  5  7]\n",
      " [ 6  8 10]\n",
      " [ 9 11 13]]\n"
     ]
    }
   ],
   "source": [
    "a = np.arange(12).reshape(4,3)\n",
    "b = np.arange(3)\n",
    "print(a)\n",
    "print(b)\n",
    "print(a+b)"
   ]
  },
  {
   "cell_type": "markdown",
   "id": "2c051128-419f-4ad5-b54b-b8dd8b668924",
   "metadata": {},
   "source": [
    "###### Above code is run easily as 1st array of (4,3) and 2nd one is (3) so introduce 1 to the head by rule 1 then it becomes (1,3) and now by rule 2 it head (i.e 1 ) is streched to 4 for matching (4,3) and hence broadcasting is done "
   ]
  },
  {
   "cell_type": "code",
   "execution_count": 66,
   "id": "2285400f-b881-4506-8dd3-c6446c041cc7",
   "metadata": {},
   "outputs": [
    {
     "name": "stdout",
     "output_type": "stream",
     "text": [
      "[[ 0  1  2  3]\n",
      " [ 4  5  6  7]\n",
      " [ 8  9 10 11]]\n",
      "[0 1 2]\n"
     ]
    },
    {
     "ename": "ValueError",
     "evalue": "operands could not be broadcast together with shapes (3,4) (3,) ",
     "output_type": "error",
     "traceback": [
      "\u001b[1;31m---------------------------------------------------------------------------\u001b[0m",
      "\u001b[1;31mValueError\u001b[0m                                Traceback (most recent call last)",
      "Cell \u001b[1;32mIn[66], line 5\u001b[0m\n\u001b[0;32m      3\u001b[0m \u001b[38;5;28mprint\u001b[39m(a)\n\u001b[0;32m      4\u001b[0m \u001b[38;5;28mprint\u001b[39m(b)\n\u001b[1;32m----> 5\u001b[0m \u001b[38;5;28mprint\u001b[39m(a\u001b[38;5;241m+\u001b[39mb)\n",
      "\u001b[1;31mValueError\u001b[0m: operands could not be broadcast together with shapes (3,4) (3,) "
     ]
    }
   ],
   "source": [
    "a = np.arange(12).reshape(3,4)\n",
    "b = np.arange(3)\n",
    "print(a)\n",
    "print(b)\n",
    "print(a+b)"
   ]
  },
  {
   "cell_type": "markdown",
   "id": "36a33f8d-5e77-431b-8a13-b0d2ac39b7d0",
   "metadata": {},
   "source": [
    "###### This code throws error i.e broadcasting cannot be done bcz 1st is (3,4) and 2nd is (3) so we can introduce 1 to the head then it becomes (1,3) and now strech 1 to the 3 so it finally becomes (3,3) which is not equal to 1st array (3,4) and hence broadcasting cannoot be done. "
   ]
  },
  {
   "cell_type": "raw",
   "id": "3dd5ffe0-0947-45aa-8de4-9119bc43d2da",
   "metadata": {},
   "source": [
    "NOTE: If dimensions are not same then add 1 to the hea until dimension becomes same (e.g if a(5,3,2) and b(2) then new b(1,1,2) bcz now it's dimension is 3 same to a and then strech 1 to desired no )"
   ]
  },
  {
   "cell_type": "raw",
   "id": "c262710d-80d9-48b1-b907-62c3d7dffa8e",
   "metadata": {},
   "source": [
    "NOTE: Most important is that streching can only be done when 1 is present."
   ]
  },
  {
   "cell_type": "code",
   "execution_count": 82,
   "id": "34372811-8d60-4485-98b0-5807ae4aaef2",
   "metadata": {},
   "outputs": [
    {
     "name": "stdout",
     "output_type": "stream",
     "text": [
      "[[0 1 2]]\n",
      "[[0]\n",
      " [1]\n",
      " [2]]\n",
      "[[0 1 2]\n",
      " [1 2 3]\n",
      " [2 3 4]]\n"
     ]
    }
   ],
   "source": [
    "# Que 3\n",
    "a = np.arange(3).reshape(1,3)\n",
    "b = np.arange(3).reshape(3,1)\n",
    "print(a)\n",
    "print(b)\n",
    "print(a+b)\n",
    "# Here in a.. 1 is treched to 3 which becomes(3,3) and in b 1 is streched to 3 becomes (3,3) hence broadcasting can be done"
   ]
  },
  {
   "cell_type": "code",
   "execution_count": 83,
   "id": "067c872b-bba3-4ef0-85e5-b87dcc3fa7c1",
   "metadata": {},
   "outputs": [
    {
     "name": "stdout",
     "output_type": "stream",
     "text": [
      "[[0 1 2]]\n",
      "[[0]\n",
      " [1]\n",
      " [2]\n",
      " [3]]\n",
      "[[0 1 2]\n",
      " [1 2 3]\n",
      " [2 3 4]\n",
      " [3 4 5]]\n"
     ]
    }
   ],
   "source": [
    "a = np.arange(3).reshape(1,3)\n",
    "b = np.arange(4).reshape(4,1)\n",
    "print(a)\n",
    "print(b)\n",
    "print(a+b)"
   ]
  },
  {
   "cell_type": "code",
   "execution_count": 84,
   "id": "c8e05bd0-dbb9-49e5-a932-ff04dbd5819c",
   "metadata": {},
   "outputs": [
    {
     "name": "stdout",
     "output_type": "stream",
     "text": [
      "[1]\n",
      "[[0 1]\n",
      " [2 3]]\n",
      "[[1 2]\n",
      " [3 4]]\n"
     ]
    }
   ],
   "source": [
    "a = np.array([1])\n",
    "# Shape -->> (1,1)\n",
    "b = np.arange(4).reshape(2,2)\n",
    "# Shape-->>> (2,2)\n",
    "print(a)\n",
    "print(b)\n",
    "print(a+b)"
   ]
  },
  {
   "cell_type": "code",
   "execution_count": 85,
   "id": "da371dd7-b06a-4f5c-9bc7-d6a8d03f0cc1",
   "metadata": {},
   "outputs": [
    {
     "name": "stdout",
     "output_type": "stream",
     "text": [
      "[[ 0  1  2  3]\n",
      " [ 4  5  6  7]\n",
      " [ 8  9 10 11]]\n",
      "[[ 0  1  2]\n",
      " [ 3  4  5]\n",
      " [ 6  7  8]\n",
      " [ 9 10 11]]\n"
     ]
    },
    {
     "ename": "ValueError",
     "evalue": "operands could not be broadcast together with shapes (3,4) (4,3) ",
     "output_type": "error",
     "traceback": [
      "\u001b[1;31m---------------------------------------------------------------------------\u001b[0m",
      "\u001b[1;31mValueError\u001b[0m                                Traceback (most recent call last)",
      "Cell \u001b[1;32mIn[85], line 5\u001b[0m\n\u001b[0;32m      3\u001b[0m \u001b[38;5;28mprint\u001b[39m(a)\n\u001b[0;32m      4\u001b[0m \u001b[38;5;28mprint\u001b[39m(b)\n\u001b[1;32m----> 5\u001b[0m \u001b[38;5;28mprint\u001b[39m(a\u001b[38;5;241m+\u001b[39mb)\n",
      "\u001b[1;31mValueError\u001b[0m: operands could not be broadcast together with shapes (3,4) (4,3) "
     ]
    }
   ],
   "source": [
    "a = np.arange(12).reshape(3,4)\n",
    "b = np.arange(12).reshape(4,3)\n",
    "print(a)\n",
    "print(b)\n",
    "print(a+b)\n",
    "# NOTE: Here streching cannot be done because there is no 1 at any place (Rule 3) "
   ]
  },
  {
   "cell_type": "code",
   "execution_count": 86,
   "id": "55e2972f-82ba-43fb-9129-074b966d3b24",
   "metadata": {},
   "outputs": [
    {
     "name": "stdout",
     "output_type": "stream",
     "text": [
      "[[ 0  1  2  3]\n",
      " [ 4  5  6  7]\n",
      " [ 8  9 10 11]\n",
      " [12 13 14 15]]\n",
      "[[0 1]\n",
      " [2 3]]\n"
     ]
    },
    {
     "ename": "ValueError",
     "evalue": "operands could not be broadcast together with shapes (4,4) (2,2) ",
     "output_type": "error",
     "traceback": [
      "\u001b[1;31m---------------------------------------------------------------------------\u001b[0m",
      "\u001b[1;31mValueError\u001b[0m                                Traceback (most recent call last)",
      "Cell \u001b[1;32mIn[86], line 5\u001b[0m\n\u001b[0;32m      3\u001b[0m \u001b[38;5;28mprint\u001b[39m(a)\n\u001b[0;32m      4\u001b[0m \u001b[38;5;28mprint\u001b[39m(b)\n\u001b[1;32m----> 5\u001b[0m \u001b[38;5;28mprint\u001b[39m(a\u001b[38;5;241m+\u001b[39mb)\n",
      "\u001b[1;31mValueError\u001b[0m: operands could not be broadcast together with shapes (4,4) (2,2) "
     ]
    }
   ],
   "source": [
    "a = np.arange(16).reshape(4,4)\n",
    "b = np.arange(4).reshape(2,2)\n",
    "print(a)\n",
    "print(b)\n",
    "print(a+b)\n",
    "# NOTE: Here streching cannot be done because there is no 1 at any place (Rule 3)"
   ]
  },
  {
   "cell_type": "code",
   "execution_count": null,
   "id": "5e6ae42e-63bb-4351-b9e4-3dab5d063895",
   "metadata": {},
   "outputs": [],
   "source": []
  },
  {
   "cell_type": "markdown",
   "id": "bb701bc6-aeae-4e9e-a4b2-f2cb4aeb4177",
   "metadata": {},
   "source": [
    "#### Working with mathematical formulas"
   ]
  },
  {
   "cell_type": "code",
   "execution_count": 93,
   "id": "4e138253-2653-4eb8-839d-b18a54fa5961",
   "metadata": {},
   "outputs": [
    {
     "data": {
      "text/plain": [
       "array([0.5       , 0.73105858, 0.88079708, 0.95257413, 0.98201379,\n",
       "       0.99330715, 0.99752738, 0.99908895, 0.99966465, 0.99987661,\n",
       "       0.9999546 , 0.9999833 , 0.99999386, 0.99999774, 0.99999917,\n",
       "       0.99999969, 0.99999989, 0.99999996, 0.99999998, 0.99999999])"
      ]
     },
     "execution_count": 93,
     "metadata": {},
     "output_type": "execute_result"
    }
   ],
   "source": [
    "# sigmoid-->> formulae is 1/(1+e^-x) and as there is no any built-in function so we make it \n",
    "def sigmoid(array):\n",
    "    return 1/(1+np.exp(-(array)))\n",
    "\n",
    "a = np.arange(20)\n",
    "sigmoid(a)\n",
    "# NOTE: sigmoid brings any number into range b/w 0 to 1"
   ]
  },
  {
   "cell_type": "code",
   "execution_count": 101,
   "id": "64177118-3d87-414a-822f-663062a95515",
   "metadata": {},
   "outputs": [
    {
     "name": "stdout",
     "output_type": "stream",
     "text": [
      "[18 18  2 36 41 47 26  7 20 44 45 32 42 47  3 34  5 15 11 16 27  3 22 14\n",
      " 31]\n",
      "[ 8 39 13 31 12  1 43 31 47 33 36  4 28 11 18  6 37 10 19 49  5 34 13 28\n",
      " 39]\n"
     ]
    },
    {
     "data": {
      "text/plain": [
       "508.52"
      ]
     },
     "execution_count": 101,
     "metadata": {},
     "output_type": "execute_result"
    }
   ],
   "source": [
    "# mean squared error(MSE) -->> (actual-predicted)^2 = MSE \n",
    "actual = np.random.randint(1,50,25)\n",
    "predicted = np.random.randint(1,50,25)\n",
    "print(actual)\n",
    "print(predicted)\n",
    "\n",
    "def mse(actual,predicted):\n",
    "    return np.mean((actual-predicted)**2)\n",
    "mse(actual,predicted)"
   ]
  },
  {
   "cell_type": "code",
   "execution_count": 102,
   "id": "1d9d62b2-514d-453a-ae1f-b271cdaa02ab",
   "metadata": {},
   "outputs": [
    {
     "data": {
      "text/plain": [
       "508.52"
      ]
     },
     "execution_count": 102,
     "metadata": {},
     "output_type": "execute_result"
    }
   ],
   "source": [
    "# binary cross entropy\n",
    "np.mean((actual-predicted)**2)"
   ]
  },
  {
   "cell_type": "code",
   "execution_count": 103,
   "id": "ebe5c9a1-2bc9-4491-bd06-c3710ab749bb",
   "metadata": {},
   "outputs": [],
   "source": [
    "# categorical cross entropy --- >> do it by yourself use formula from google\n"
   ]
  },
  {
   "cell_type": "markdown",
   "id": "ff40ca36-8b52-4622-91a2-fef0b2f5c6de",
   "metadata": {},
   "source": [
    "#### Working with missing values"
   ]
  },
  {
   "cell_type": "code",
   "execution_count": 107,
   "id": "b856bcdd-1192-417c-ba68-34a29e66ebc1",
   "metadata": {},
   "outputs": [
    {
     "data": {
      "text/plain": [
       "array([ 1.,  2.,  3.,  4., nan,  6.])"
      ]
     },
     "execution_count": 107,
     "metadata": {},
     "output_type": "execute_result"
    }
   ],
   "source": [
    "# working with missing values -->> np.nan\n",
    "a = np.array((1,2,3,4,np.nan,6))\n",
    "a\n",
    "# In output nan shows that missing value at that place"
   ]
  },
  {
   "cell_type": "code",
   "execution_count": null,
   "id": "3f71da3f-3701-40fc-8498-ce3f525c91d2",
   "metadata": {},
   "outputs": [],
   "source": []
  },
  {
   "cell_type": "markdown",
   "id": "cba619b6-391a-49bf-8364-3a7c6bce7912",
   "metadata": {},
   "source": [
    "#### Plotting Graphs"
   ]
  },
  {
   "cell_type": "code",
   "execution_count": 110,
   "id": "21b6c7cf-ce22-41b1-adb3-2f6bab96bdcd",
   "metadata": {},
   "outputs": [],
   "source": [
    "# plotting a 2D plot\n",
    "# x = y"
   ]
  },
  {
   "cell_type": "code",
   "execution_count": null,
   "id": "57c5ad47-1226-4194-88a2-6af4fcd0f5aa",
   "metadata": {},
   "outputs": [],
   "source": []
  },
  {
   "cell_type": "code",
   "execution_count": null,
   "id": "266d84d5-56d5-4e9a-a1a7-e424c342b4c7",
   "metadata": {},
   "outputs": [],
   "source": []
  },
  {
   "cell_type": "code",
   "execution_count": null,
   "id": "e6bded54-3042-4086-8c69-daadc292d6c6",
   "metadata": {},
   "outputs": [],
   "source": []
  },
  {
   "cell_type": "code",
   "execution_count": null,
   "id": "4bdb42b3-f008-458d-8280-cbbab989c671",
   "metadata": {},
   "outputs": [],
   "source": []
  },
  {
   "cell_type": "code",
   "execution_count": null,
   "id": "ff3aa94e-9e34-4a78-bf67-138cc89e609e",
   "metadata": {},
   "outputs": [],
   "source": []
  },
  {
   "cell_type": "code",
   "execution_count": null,
   "id": "bbf6793e-8ebe-44b9-b735-22c47573ecc4",
   "metadata": {},
   "outputs": [],
   "source": []
  },
  {
   "cell_type": "code",
   "execution_count": null,
   "id": "05ef987a-0c89-483e-b616-f16599214514",
   "metadata": {},
   "outputs": [],
   "source": []
  },
  {
   "cell_type": "code",
   "execution_count": null,
   "id": "52b0e6b2-d31d-407d-b5a9-7dde3dd8e45b",
   "metadata": {},
   "outputs": [],
   "source": []
  },
  {
   "cell_type": "code",
   "execution_count": null,
   "id": "f8984c30-8033-4508-8c7c-2b426a115814",
   "metadata": {},
   "outputs": [],
   "source": []
  },
  {
   "cell_type": "code",
   "execution_count": null,
   "id": "410aa5c0-073e-4568-bbb2-68e93e794929",
   "metadata": {},
   "outputs": [],
   "source": []
  },
  {
   "cell_type": "code",
   "execution_count": null,
   "id": "3b6f5dd9-e0c0-45f4-84e8-20b8c7a6ad2e",
   "metadata": {},
   "outputs": [],
   "source": []
  },
  {
   "cell_type": "code",
   "execution_count": null,
   "id": "5714808c-be09-469f-ad7a-4bf2b2576eac",
   "metadata": {},
   "outputs": [],
   "source": []
  },
  {
   "cell_type": "code",
   "execution_count": null,
   "id": "334addf4-13bc-4492-b389-edd589076cbe",
   "metadata": {},
   "outputs": [],
   "source": []
  },
  {
   "cell_type": "code",
   "execution_count": null,
   "id": "6d695dac-f9ff-49ed-a82f-620f35b5a86e",
   "metadata": {},
   "outputs": [],
   "source": []
  },
  {
   "cell_type": "code",
   "execution_count": null,
   "id": "74921c3c-8b12-47d0-8e46-892f86e9f4aa",
   "metadata": {},
   "outputs": [],
   "source": []
  },
  {
   "cell_type": "code",
   "execution_count": null,
   "id": "9e836661-8941-498d-8a06-824aff9279b1",
   "metadata": {},
   "outputs": [],
   "source": []
  },
  {
   "cell_type": "code",
   "execution_count": null,
   "id": "8cb14557-f636-415b-8dd8-771fe5bd2602",
   "metadata": {},
   "outputs": [],
   "source": [
    "       "
   ]
  },
  {
   "cell_type": "code",
   "execution_count": null,
   "id": "302b7569-0d88-4544-9bfb-ca1816060830",
   "metadata": {},
   "outputs": [],
   "source": []
  },
  {
   "cell_type": "code",
   "execution_count": null,
   "id": "a4701d33-3841-4ca7-9db4-fe7c38ca2e49",
   "metadata": {},
   "outputs": [],
   "source": []
  },
  {
   "cell_type": "code",
   "execution_count": null,
   "id": "65bcc52c-9dc9-47d3-a2cd-a2cace18cec6",
   "metadata": {},
   "outputs": [],
   "source": []
  },
  {
   "cell_type": "code",
   "execution_count": null,
   "id": "a5cfcfb4-efed-4745-b798-59e5e653356a",
   "metadata": {},
   "outputs": [],
   "source": []
  }
 ],
 "metadata": {
  "kernelspec": {
   "display_name": "Python 3 (ipykernel)",
   "language": "python",
   "name": "python3"
  },
  "language_info": {
   "codemirror_mode": {
    "name": "ipython",
    "version": 3
   },
   "file_extension": ".py",
   "mimetype": "text/x-python",
   "name": "python",
   "nbconvert_exporter": "python",
   "pygments_lexer": "ipython3",
   "version": "3.12.7"
  }
 },
 "nbformat": 4,
 "nbformat_minor": 5
}
