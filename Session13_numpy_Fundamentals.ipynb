{
 "cells": [
  {
   "cell_type": "markdown",
   "id": "01523813-75a5-43c6-9bef-ad239a31da10",
   "metadata": {},
   "source": [
    "## Numpy Fundamentals"
   ]
  },
  {
   "cell_type": "markdown",
   "id": "dac46f09-e434-42b2-8b35-66df6c105c7b",
   "metadata": {},
   "source": [
    "#### Creating Numpy Arrays"
   ]
  },
  {
   "cell_type": "code",
   "execution_count": 33,
   "id": "0620ba91-d3df-4d1f-8f40-4a43a19c6dbe",
   "metadata": {},
   "outputs": [
    {
     "name": "stdout",
     "output_type": "stream",
     "text": [
      "[1 2 3 4 5]\n",
      "<class 'numpy.ndarray'>\n"
     ]
    }
   ],
   "source": [
    "# np.array\n",
    "import numpy as np\n",
    "# 1D np array also called vector\n",
    "a = np.array([1,2,3,4,5])\n",
    "print(a)\n",
    "print(type(a))"
   ]
  },
  {
   "cell_type": "code",
   "execution_count": 34,
   "id": "75201c60-6cbc-412b-a675-bcfcf1d9eb21",
   "metadata": {},
   "outputs": [
    {
     "name": "stdout",
     "output_type": "stream",
     "text": [
      "[[1 2 3]\n",
      " [4 5 6]]\n"
     ]
    }
   ],
   "source": [
    "# 2D np array also called matrix\n",
    "b = np.array([[1,2,3],[4,5,6]])\n",
    "print(b)"
   ]
  },
  {
   "cell_type": "code",
   "execution_count": 35,
   "id": "92ec0b23-9a2a-4249-98e4-045b7effb355",
   "metadata": {},
   "outputs": [
    {
     "name": "stdout",
     "output_type": "stream",
     "text": [
      "[[[1 2]\n",
      "  [3 4]]\n",
      "\n",
      " [[5 6]\n",
      "  [7 8]]]\n"
     ]
    }
   ],
   "source": [
    "# 3D np array also called tensor\n",
    "c = np.array([[[1,2],[3,4]],[[5,6],[7,8]]])\n",
    "print(c)"
   ]
  },
  {
   "cell_type": "markdown",
   "id": "930f5d5d-1713-4199-9831-bc98b961204f",
   "metadata": {},
   "source": [
    "##### You can create any datatype of your np array by using dtype=datatype see below."
   ]
  },
  {
   "cell_type": "code",
   "execution_count": 36,
   "id": "3499bcb5-9b6b-41ee-9a2f-3546aa9d4629",
   "metadata": {},
   "outputs": [
    {
     "data": {
      "text/plain": [
       "array([1., 2., 3., 4.])"
      ]
     },
     "execution_count": 36,
     "metadata": {},
     "output_type": "execute_result"
    }
   ],
   "source": [
    "np.array([1,2,3,4],dtype=float)"
   ]
  },
  {
   "cell_type": "code",
   "execution_count": 37,
   "id": "eb0c8d38-a5e1-4234-83db-e78e3eda446d",
   "metadata": {},
   "outputs": [
    {
     "data": {
      "text/plain": [
       "array([ True,  True,  True,  True])"
      ]
     },
     "execution_count": 37,
     "metadata": {},
     "output_type": "execute_result"
    }
   ],
   "source": [
    "np.array([1,2,3,4],dtype=bool)"
   ]
  },
  {
   "cell_type": "code",
   "execution_count": 38,
   "id": "0e3b3be8-40ae-41f6-9375-59f7ce6fac53",
   "metadata": {},
   "outputs": [
    {
     "data": {
      "text/plain": [
       "array([1.+0.j, 2.+0.j, 3.+0.j, 4.+0.j])"
      ]
     },
     "execution_count": 38,
     "metadata": {},
     "output_type": "execute_result"
    }
   ],
   "source": [
    "np.array([1,2,3,4],dtype=complex)"
   ]
  },
  {
   "cell_type": "markdown",
   "id": "46070f5c-f945-4a47-80a0-437bd7f85df0",
   "metadata": {},
   "source": [
    "##### np.arange(a,b,c) included a and excluded b and c is used to skip/gap that much character or etc"
   ]
  },
  {
   "cell_type": "code",
   "execution_count": 39,
   "id": "b60072b5-6867-478a-a37c-6ad3d160632b",
   "metadata": {},
   "outputs": [
    {
     "data": {
      "text/plain": [
       "array([ 1,  2,  3,  4,  5,  6,  7,  8,  9, 10])"
      ]
     },
     "execution_count": 39,
     "metadata": {},
     "output_type": "execute_result"
    }
   ],
   "source": [
    "np.arange(1,11)"
   ]
  },
  {
   "cell_type": "code",
   "execution_count": 40,
   "id": "0a818ae8-92b0-4d54-b14f-15b91db12440",
   "metadata": {},
   "outputs": [
    {
     "data": {
      "text/plain": [
       "array([1, 3, 5, 7, 9])"
      ]
     },
     "execution_count": 40,
     "metadata": {},
     "output_type": "execute_result"
    }
   ],
   "source": [
    "np.arange(1,11,2)"
   ]
  },
  {
   "cell_type": "markdown",
   "id": "cf9c79c4-5078-466d-88da-9240151491ff",
   "metadata": {},
   "source": [
    "##### with reshape(a,b) -->> a rows and b columns where a*b must be equal to no of elements or numbers present"
   ]
  },
  {
   "cell_type": "code",
   "execution_count": 54,
   "id": "f9c63e30-ef69-448c-a85a-6bd2bf068685",
   "metadata": {},
   "outputs": [
    {
     "data": {
      "text/plain": [
       "array([[ 1,  2],\n",
       "       [ 3,  4],\n",
       "       [ 5,  6],\n",
       "       [ 7,  8],\n",
       "       [ 9, 10]])"
      ]
     },
     "execution_count": 54,
     "metadata": {},
     "output_type": "execute_result"
    }
   ],
   "source": [
    "np.arange(1,11).reshape(5,2)"
   ]
  },
  {
   "cell_type": "raw",
   "id": "1f78c940-cd66-4939-88bc-9fc408cceca9",
   "metadata": {},
   "source": [
    "NOTE: If you input rows and columns whose mmultiplication is greater than elements it will throw an error"
   ]
  },
  {
   "cell_type": "code",
   "execution_count": 55,
   "id": "7b8c8719-1010-498d-a830-2f2e9c0aaf66",
   "metadata": {},
   "outputs": [
    {
     "ename": "ValueError",
     "evalue": "cannot reshape array of size 10 into shape (5,5)",
     "output_type": "error",
     "traceback": [
      "\u001b[1;31m---------------------------------------------------------------------------\u001b[0m",
      "\u001b[1;31mValueError\u001b[0m                                Traceback (most recent call last)",
      "Cell \u001b[1;32mIn[55], line 1\u001b[0m\n\u001b[1;32m----> 1\u001b[0m np\u001b[38;5;241m.\u001b[39marange(\u001b[38;5;241m1\u001b[39m,\u001b[38;5;241m11\u001b[39m)\u001b[38;5;241m.\u001b[39mreshape(\u001b[38;5;241m5\u001b[39m,\u001b[38;5;241m5\u001b[39m)\n",
      "\u001b[1;31mValueError\u001b[0m: cannot reshape array of size 10 into shape (5,5)"
     ]
    }
   ],
   "source": [
    "np.arange(1,11).reshape(5,5)"
   ]
  },
  {
   "cell_type": "markdown",
   "id": "989f6a83-793e-4268-8649-cb701a23c8db",
   "metadata": {},
   "source": [
    "##### np.ones and np.zeros -->> to initializes the values of anything(let say initialising an array) anywhere\n",
    "##### Also NOTE that by default while you generate any values in np array it will be float"
   ]
  },
  {
   "cell_type": "code",
   "execution_count": 47,
   "id": "2f04ec43-f8a8-4709-94da-488db68519c5",
   "metadata": {},
   "outputs": [
    {
     "data": {
      "text/plain": [
       "array([[1., 1., 1., 1.],\n",
       "       [1., 1., 1., 1.],\n",
       "       [1., 1., 1., 1.]])"
      ]
     },
     "execution_count": 47,
     "metadata": {},
     "output_type": "execute_result"
    }
   ],
   "source": [
    "np.ones((3,4))"
   ]
  },
  {
   "cell_type": "code",
   "execution_count": 48,
   "id": "bdfa3f8a-d4c9-4c49-8621-403741775587",
   "metadata": {},
   "outputs": [
    {
     "data": {
      "text/plain": [
       "array([[0., 0., 0., 0.],\n",
       "       [0., 0., 0., 0.],\n",
       "       [0., 0., 0., 0.],\n",
       "       [0., 0., 0., 0.],\n",
       "       [0., 0., 0., 0.]])"
      ]
     },
     "execution_count": 48,
     "metadata": {},
     "output_type": "execute_result"
    }
   ],
   "source": [
    "np.zeros((5,4))"
   ]
  },
  {
   "cell_type": "code",
   "execution_count": 49,
   "id": "30c3fcb3-07c1-4fa2-97db-b76d386000c1",
   "metadata": {},
   "outputs": [
    {
     "data": {
      "text/plain": [
       "array([[0.52713692, 0.28948037, 0.43443262, 0.07363903, 0.64679707],\n",
       "       [0.0220114 , 0.24266978, 0.90152869, 0.14581354, 0.83051891],\n",
       "       [0.77638333, 0.97449462, 0.0320333 , 0.64351824, 0.61035596]])"
      ]
     },
     "execution_count": 49,
     "metadata": {},
     "output_type": "execute_result"
    }
   ],
   "source": [
    "# To generate random values we use\n",
    "np.random.random((3,5))"
   ]
  },
  {
   "cell_type": "markdown",
   "id": "19fa77cf-14a3-4054-987f-62f4c765579e",
   "metadata": {},
   "source": [
    "##### np.linspace(a,b,c) -->> generates c nos of random values b/w a and c such that each are at same distant or equidistant"
   ]
  },
  {
   "cell_type": "code",
   "execution_count": 50,
   "id": "da873954-3ad8-4927-843a-993b3e6ea640",
   "metadata": {},
   "outputs": [
    {
     "data": {
      "text/plain": [
       "array([-10.,  -5.,   0.,   5.,  10.])"
      ]
     },
     "execution_count": 50,
     "metadata": {},
     "output_type": "execute_result"
    }
   ],
   "source": [
    "#np.linspace\n",
    "np.linspace(-10,10,5)"
   ]
  },
  {
   "cell_type": "code",
   "execution_count": 52,
   "id": "c282d947-3751-44bc-8b50-22ae0d6945f2",
   "metadata": {},
   "outputs": [
    {
     "data": {
      "text/plain": [
       "array([-10,  -5,   0,   5,  10])"
      ]
     },
     "execution_count": 52,
     "metadata": {},
     "output_type": "execute_result"
    }
   ],
   "source": [
    "# If you want to change the datatype of generated value which is float by default you can do so...\n",
    "np.linspace(-10,10,5,dtype=int)"
   ]
  },
  {
   "cell_type": "markdown",
   "id": "88e735d0-58fa-41f5-80c2-f2b6bda32fb0",
   "metadata": {},
   "source": [
    "##### np.identity -->> to generates an identity matrix"
   ]
  },
  {
   "cell_type": "code",
   "execution_count": 51,
   "id": "927c3c2e-90f0-46e1-a845-cfd8a4e97031",
   "metadata": {},
   "outputs": [
    {
     "data": {
      "text/plain": [
       "array([[1., 0., 0., 0., 0.],\n",
       "       [0., 1., 0., 0., 0.],\n",
       "       [0., 0., 1., 0., 0.],\n",
       "       [0., 0., 0., 1., 0.],\n",
       "       [0., 0., 0., 0., 1.]])"
      ]
     },
     "execution_count": 51,
     "metadata": {},
     "output_type": "execute_result"
    }
   ],
   "source": [
    "# identity matrix whose diagonal elements are 1 and all others are zero\n",
    "np.identity(5)"
   ]
  },
  {
   "cell_type": "markdown",
   "id": "c7b72d41-2113-4390-8280-7cf9eba4e9c1",
   "metadata": {},
   "source": [
    "#### Array Attributes"
   ]
  },
  {
   "cell_type": "code",
   "execution_count": 58,
   "id": "68c09c39-126c-4cb6-87f8-3238cd198fdd",
   "metadata": {},
   "outputs": [],
   "source": [
    "a1 = np.arange(10)\n",
    "a2 = np.arange(12,dtype=float).reshape(3,4)\n",
    "a3 = np.arange(8).reshape(2,2,2)"
   ]
  },
  {
   "cell_type": "code",
   "execution_count": 66,
   "id": "3606ae75-86d6-4cf9-8178-2eb56c733078",
   "metadata": {},
   "outputs": [
    {
     "name": "stdout",
     "output_type": "stream",
     "text": [
      "1\n",
      "2\n",
      "3\n"
     ]
    }
   ],
   "source": [
    "#ndim -->> no of dimensions\n",
    "print(a1.ndim)\n",
    "print(a2.ndim)\n",
    "print(a3.ndim)"
   ]
  },
  {
   "cell_type": "code",
   "execution_count": 71,
   "id": "79bbffbc-35af-4f7c-8c72-a3e3ac64431d",
   "metadata": {},
   "outputs": [
    {
     "name": "stdout",
     "output_type": "stream",
     "text": [
      "(10,)\n",
      "(3, 4)\n",
      "(2, 2, 2)\n"
     ]
    }
   ],
   "source": [
    "# shape -->> shows how many rows and columns are there and definitely it will also show the dimension\n",
    "print(a1.shape)\n",
    "print(a2.shape)\n",
    "print(a3.shape)"
   ]
  },
  {
   "cell_type": "code",
   "execution_count": 73,
   "id": "c1f221ad-3974-4484-8b4a-d1fc99b4dfcc",
   "metadata": {},
   "outputs": [
    {
     "name": "stdout",
     "output_type": "stream",
     "text": [
      "10\n",
      "12\n",
      "8\n"
     ]
    }
   ],
   "source": [
    "# size -->> no of elements in given array\n",
    "print(a1.size)\n",
    "print(a2.size)\n",
    "print(a3.size)"
   ]
  },
  {
   "cell_type": "code",
   "execution_count": 80,
   "id": "94ba6b96-b951-4e26-a43a-fa905e6838fe",
   "metadata": {},
   "outputs": [
    {
     "name": "stdout",
     "output_type": "stream",
     "text": [
      "4\n",
      "8\n",
      "4\n"
     ]
    }
   ],
   "source": [
    "# itemsize -->> tells us how much size is occupied by each item in a memory of RAM\n",
    "print(a1.itemsize)\n",
    "print(a2.itemsize)\n",
    "print(a3.itemsize)\n",
    "# This is because each item of a1 and a3 are integer but a2 ka each item is float"
   ]
  },
  {
   "cell_type": "markdown",
   "id": "2a72482d-b358-43a1-b45e-b4ec80cef338",
   "metadata": {},
   "source": [
    "##### NOTE: int32  occupies 4byte space in memory but int64 occupies 8byte space in memory"
   ]
  },
  {
   "cell_type": "code",
   "execution_count": 81,
   "id": "89436b12-0ac0-4729-9676-275fdd818e89",
   "metadata": {},
   "outputs": [
    {
     "name": "stdout",
     "output_type": "stream",
     "text": [
      "int32\n",
      "float64\n",
      "int32\n"
     ]
    }
   ],
   "source": [
    "#dtype -->> tell us the datatype of your items\n",
    "print(a1.dtype)\n",
    "print(a2.dtype)\n",
    "print(a3.dtype)"
   ]
  },
  {
   "cell_type": "markdown",
   "id": "760cde58-4145-4b93-9572-a493ec2abd9e",
   "metadata": {},
   "source": [
    "#### Changing Datatype"
   ]
  },
  {
   "cell_type": "code",
   "execution_count": 84,
   "id": "7f680cc7-8606-4140-9915-0602d01c861d",
   "metadata": {},
   "outputs": [
    {
     "data": {
      "text/plain": [
       "dtype('float64')"
      ]
     },
     "execution_count": 84,
     "metadata": {},
     "output_type": "execute_result"
    }
   ],
   "source": [
    "# np array a2 have datatype of float64  but if we want to change it we can change it by\n",
    "a2.dtype"
   ]
  },
  {
   "cell_type": "code",
   "execution_count": 85,
   "id": "a1b97211-5d28-4e6c-8d53-ee5b3cc31d34",
   "metadata": {},
   "outputs": [
    {
     "data": {
      "text/plain": [
       "array([[ 0.,  1.,  2.,  3.],\n",
       "       [ 4.,  5.,  6.,  7.],\n",
       "       [ 8.,  9., 10., 11.]], dtype=float32)"
      ]
     },
     "execution_count": 85,
     "metadata": {},
     "output_type": "execute_result"
    }
   ],
   "source": [
    "a2.astype(np.float32)"
   ]
  },
  {
   "cell_type": "code",
   "execution_count": 86,
   "id": "8b9a71a3-a2ef-4682-a724-0517ac85258a",
   "metadata": {},
   "outputs": [
    {
     "data": {
      "text/plain": [
       "dtype('int32')"
      ]
     },
     "execution_count": 86,
     "metadata": {},
     "output_type": "execute_result"
    }
   ],
   "source": [
    "#Similarly for a1 and a3 -->> Since already in int32 you can check below by\n",
    "a1.dtype"
   ]
  },
  {
   "cell_type": "code",
   "execution_count": 87,
   "id": "a3e7a394-66ea-4f1d-b5bf-132402dc4002",
   "metadata": {},
   "outputs": [
    {
     "data": {
      "text/plain": [
       "array([0, 1, 2, 3, 4, 5, 6, 7, 8, 9], dtype=int64)"
      ]
     },
     "execution_count": 87,
     "metadata": {},
     "output_type": "execute_result"
    }
   ],
   "source": [
    "a1.astype(np.int64)"
   ]
  },
  {
   "cell_type": "markdown",
   "id": "ecabf087-11af-4872-8ccf-c513d70ef397",
   "metadata": {},
   "source": [
    "##### NOTE: You can also convert int into float and vice-versa etc"
   ]
  },
  {
   "cell_type": "code",
   "execution_count": 88,
   "id": "f0c14ef4-addb-4337-9ccc-59859e9de8fc",
   "metadata": {},
   "outputs": [
    {
     "data": {
      "text/plain": [
       "array([0., 1., 2., 3., 4., 5., 6., 7., 8., 9.])"
      ]
     },
     "execution_count": 88,
     "metadata": {},
     "output_type": "execute_result"
    }
   ],
   "source": [
    "a1.astype(np.float64)"
   ]
  },
  {
   "cell_type": "markdown",
   "id": "ee3e042d-e644-415e-a2ff-f3fbf1d0df08",
   "metadata": {},
   "source": [
    "#### Array Operations"
   ]
  },
  {
   "cell_type": "code",
   "execution_count": 93,
   "id": "8855de56-7d0c-4d59-8c29-6534d33ef6ac",
   "metadata": {},
   "outputs": [
    {
     "name": "stdout",
     "output_type": "stream",
     "text": [
      "[[ 0  1  2  3]\n",
      " [ 4  5  6  7]\n",
      " [ 8  9 10 11]]\n",
      "[[12 13 14 15]\n",
      " [16 17 18 19]\n",
      " [20 21 22 23]]\n"
     ]
    }
   ],
   "source": [
    "a1 = np.arange(12).reshape(3,4)\n",
    "a2 = np.arange(12,24).reshape(3,4)\n",
    "print(a1)\n",
    "print(a2)"
   ]
  },
  {
   "cell_type": "markdown",
   "id": "0180d2e5-0e95-4c19-8d50-c69299882ad2",
   "metadata": {},
   "source": [
    "##### Scalar operations -->> All Arithmetic Operations you can perform"
   ]
  },
  {
   "cell_type": "code",
   "execution_count": 99,
   "id": "eee8ab14-e5c4-4db7-bffb-5e3f8676552c",
   "metadata": {},
   "outputs": [
    {
     "name": "stdout",
     "output_type": "stream",
     "text": [
      "[[ 2  3  4  5]\n",
      " [ 6  7  8  9]\n",
      " [10 11 12 13]]\n",
      "[[-2 -1  0  1]\n",
      " [ 2  3  4  5]\n",
      " [ 6  7  8  9]]\n",
      "[[ 0  2  4  6]\n",
      " [ 8 10 12 14]\n",
      " [16 18 20 22]]\n",
      "[[0.   0.25 0.5  0.75]\n",
      " [1.   1.25 1.5  1.75]\n",
      " [2.   2.25 2.5  2.75]]\n",
      "[[   0    1    8   27]\n",
      " [  64  125  216  343]\n",
      " [ 512  729 1000 1331]]\n"
     ]
    }
   ],
   "source": [
    "print(a1 + 2)  #Addition\n",
    "print(a1 - 2)  #Subtraction\n",
    "print(a1*2)    #Multiplication\n",
    "print(a1/4)    #Division\n",
    "print(a1**3)   #Power"
   ]
  },
  {
   "cell_type": "markdown",
   "id": "cb173cc0-0916-484f-abc8-9dc85337c34b",
   "metadata": {},
   "source": [
    "##### Relational -->> All the relational operations you can use and answer for each element will be either true or false"
   ]
  },
  {
   "cell_type": "code",
   "execution_count": 110,
   "id": "81a4a119-4e4c-4167-888f-8d6b4daa1c4a",
   "metadata": {},
   "outputs": [
    {
     "name": "stdout",
     "output_type": "stream",
     "text": [
      "[[ True  True  True  True]\n",
      " [ True  True  True  True]\n",
      " [ True  True  True  True]]\n",
      "[[False False False False]\n",
      " [ True  True  True  True]\n",
      " [ True  True  True  True]]\n",
      "[[False False False False]\n",
      " [False False False False]\n",
      " [ True False False False]]\n"
     ]
    }
   ],
   "source": [
    "print(a2>5)\n",
    "print(a2>15)\n",
    "print(a2 == 20)"
   ]
  },
  {
   "cell_type": "markdown",
   "id": "150c92a5-0fe1-47e3-bd92-c2e64356a63c",
   "metadata": {},
   "source": [
    "##### Vector operations\n",
    "##### Arithmetic-->>All the arithmatic operations you can do on both array(+,-,*,/,pow etc)-->>Order must be same of both array"
   ]
  },
  {
   "cell_type": "code",
   "execution_count": 111,
   "id": "c5ad330c-4e2f-487e-a805-74d000cd72f0",
   "metadata": {},
   "outputs": [
    {
     "name": "stdout",
     "output_type": "stream",
     "text": [
      "[[ 0  1  2  3]\n",
      " [ 4  5  6  7]\n",
      " [ 8  9 10 11]]\n",
      "[[12 13 14 15]\n",
      " [16 17 18 19]\n",
      " [20 21 22 23]]\n",
      "[[12 14 16 18]\n",
      " [20 22 24 26]\n",
      " [28 30 32 34]]\n"
     ]
    }
   ],
   "source": [
    "print(a1)\n",
    "print(a2)\n",
    "print(a1+a2)"
   ]
  },
  {
   "cell_type": "markdown",
   "id": "33cae1ca-d7de-48bf-bc17-718c99b89877",
   "metadata": {},
   "source": [
    "### Array Functions"
   ]
  },
  {
   "cell_type": "code",
   "execution_count": 26,
   "id": "0f199323-e059-453c-b869-c945fd1c9be7",
   "metadata": {},
   "outputs": [
    {
     "name": "stdout",
     "output_type": "stream",
     "text": [
      "[[13. 90. 71.]\n",
      " [43. 48. 54.]\n",
      " [57. 99. 50.]]\n"
     ]
    }
   ],
   "source": [
    "import numpy as np\n",
    "a1 = np.random.random((3,3))\n",
    "a1 = np.round(a1*100)\n",
    "print(a1)"
   ]
  },
  {
   "cell_type": "markdown",
   "id": "8811b87c-b4df-4c64-918a-badf72abfaba",
   "metadata": {},
   "source": [
    "##### 1.max/min/sum/product"
   ]
  },
  {
   "cell_type": "code",
   "execution_count": 27,
   "id": "895e9993-4b7a-4172-80d7-eee1a2c5a0f8",
   "metadata": {},
   "outputs": [
    {
     "name": "stdout",
     "output_type": "stream",
     "text": [
      "99.0\n",
      "13.0\n",
      "525.0\n",
      "2612328074928000.0\n"
     ]
    }
   ],
   "source": [
    "#Thses max/min/sum/prod will give output of all the elements but if you want it byy row wise and column wise see below\n",
    "print(np.max(a1))\n",
    "print(np.min(a1))\n",
    "print(np.sum(a1))\n",
    "print(np.product(a1))\n",
    "# NOTE: Instead of product you cam also use prod"
   ]
  },
  {
   "cell_type": "raw",
   "id": "39b89236-0aa3-455f-9537-aaf8bca18763",
   "metadata": {},
   "source": [
    "You can find max/min/sum/prod by row and column wise by putting axis=0 for column and axis=1 for row"
   ]
  },
  {
   "cell_type": "code",
   "execution_count": 28,
   "id": "8715ab08-e0e0-4740-81fa-285f1424a0d1",
   "metadata": {},
   "outputs": [
    {
     "name": "stdout",
     "output_type": "stream",
     "text": [
      "[90. 54. 99.]\n",
      "[13. 48. 50.]\n",
      "[174. 145. 206.]\n",
      "[ 31863. 427680. 191700.]\n"
     ]
    }
   ],
   "source": [
    "# max(a1,axis = 1) means print all the max element of each row bcz 1 means row\n",
    "# max(a1,axis = 1) means print all the max element of each column bcz 0 means column\n",
    "print(np.max(a1,axis = 1))\n",
    "print(np.min(a1,axis = 0))\n",
    "print(np.sum(a1,axis = 1))\n",
    "print(np.product(a1,axis = 0))"
   ]
  },
  {
   "cell_type": "code",
   "execution_count": 29,
   "id": "95187158-7bb0-4af2-a34b-d29b51ba9cc4",
   "metadata": {},
   "outputs": [
    {
     "data": {
      "text/plain": [
       "array([57., 99., 71.])"
      ]
     },
     "execution_count": 29,
     "metadata": {},
     "output_type": "execute_result"
    }
   ],
   "source": [
    "# Means print all the max element from each column bcz axis=0 means column and axis=1 means row\n",
    "np.max(a1,axis=0)"
   ]
  },
  {
   "cell_type": "markdown",
   "id": "435d7a81-e634-4c0b-8430-767f6f4bc83b",
   "metadata": {},
   "source": [
    "##### 2.mean/median/standard/var"
   ]
  },
  {
   "cell_type": "code",
   "execution_count": 32,
   "id": "95fb5a25-d19d-41fc-930c-797e6420ec3e",
   "metadata": {},
   "outputs": [
    {
     "name": "stdout",
     "output_type": "stream",
     "text": [
      "58.333333333333336\n",
      "54.0\n",
      "589.3333333333334\n",
      "[58.         48.33333333 68.66666667]\n"
     ]
    }
   ],
   "source": [
    "#NOTE: Here also you can use axis=0 for column and axis=1 for row\n",
    "print(np.mean(a1))\n",
    "print(np.median(a1))\n",
    "print(np.var(a1))\n",
    "print(np.mean(a1,axis=1))"
   ]
  },
  {
   "cell_type": "markdown",
   "id": "67357774-63e1-4c32-9b1a-09e11a686c15",
   "metadata": {},
   "source": [
    "##### 3.trignometric functions"
   ]
  },
  {
   "cell_type": "code",
   "execution_count": 134,
   "id": "fd2995e2-d62f-48ec-9e09-38672510bdcb",
   "metadata": {},
   "outputs": [
    {
     "data": {
      "text/plain": [
       "array([ 0.        ,  0.84147098,  0.90929743,  0.14112001, -0.7568025 ,\n",
       "       -0.95892427, -0.2794155 ,  0.6569866 ,  0.98935825,  0.41211849])"
      ]
     },
     "execution_count": 134,
     "metadata": {},
     "output_type": "execute_result"
    }
   ],
   "source": [
    "# You can use all trignometric functions present but there is no use of it in whole DataScience\n",
    "np.sin(a1)"
   ]
  },
  {
   "cell_type": "markdown",
   "id": "b1d9b4e8-4a7d-4a64-823c-0204810036a1",
   "metadata": {},
   "source": [
    "##### dot product-->> for dot product of two matrix (a,b) & (c,d) here b=c necessary condition and resultant will be of (a,d) order"
   ]
  },
  {
   "cell_type": "code",
   "execution_count": 135,
   "id": "4dd730a0-b85b-4402-a9a9-1f93d7cb418a",
   "metadata": {},
   "outputs": [
    {
     "name": "stdout",
     "output_type": "stream",
     "text": [
      "[[ 0  1  2  3]\n",
      " [ 4  5  6  7]\n",
      " [ 8  9 10 11]]\n",
      "[[12 13 14]\n",
      " [15 16 17]\n",
      " [18 19 20]\n",
      " [21 22 23]]\n",
      "[[114 120 126]\n",
      " [378 400 422]\n",
      " [642 680 718]]\n"
     ]
    }
   ],
   "source": [
    "a2 = np.arange(12).reshape(3,4)\n",
    "a3 = np.arange(12,24).reshape(4,3)\n",
    "print(a2)\n",
    "print(a3)\n",
    "print(np.dot(a2,a3))"
   ]
  },
  {
   "cell_type": "markdown",
   "id": "4446a2aa-cc15-413f-8416-a4751ce35bb1",
   "metadata": {},
   "source": [
    "##### 4.log and exponents"
   ]
  },
  {
   "cell_type": "code",
   "execution_count": 139,
   "id": "512dc1f6-b299-4d5e-a927-533e6d6f2964",
   "metadata": {},
   "outputs": [
    {
     "name": "stdout",
     "output_type": "stream",
     "text": [
      "[      -inf 0.         0.69314718 1.09861229 1.38629436 1.60943791\n",
      " 1.79175947 1.94591015 2.07944154 2.19722458]\n",
      "[1.00000000e+00 2.71828183e+00 7.38905610e+00 2.00855369e+01\n",
      " 5.45981500e+01 1.48413159e+02 4.03428793e+02 1.09663316e+03\n",
      " 2.98095799e+03 8.10308393e+03]\n"
     ]
    },
    {
     "name": "stderr",
     "output_type": "stream",
     "text": [
      "C:\\Users\\deepu\\AppData\\Local\\Temp\\ipykernel_19712\\1349568853.py:1: RuntimeWarning: divide by zero encountered in log\n",
      "  print(np.log(a1))\n"
     ]
    }
   ],
   "source": [
    "print(np.log(a1))\n",
    "print(np.exp(a1))"
   ]
  },
  {
   "cell_type": "markdown",
   "id": "23ae2073-5a98-45f3-b390-070c74eafd48",
   "metadata": {},
   "source": [
    "##### 5.round/floor/ceil\n",
    "###### .round -->> round off to the nearest integer\n",
    "###### .floor -->> take you to the previous integer\n",
    "###### .ceil -->> take you to the next integer"
   ]
  },
  {
   "cell_type": "code",
   "execution_count": 140,
   "id": "4312b454-bdd5-4d86-bbde-62814feb2ea1",
   "metadata": {},
   "outputs": [
    {
     "name": "stdout",
     "output_type": "stream",
     "text": [
      "[[27.52498664 30.26882116 94.99262472]\n",
      " [52.120818   32.64844252 63.13359829]]\n",
      "[[28. 30. 95.]\n",
      " [52. 33. 63.]]\n",
      "[[27. 30. 94.]\n",
      " [52. 32. 63.]]\n",
      "[[28. 31. 95.]\n",
      " [53. 33. 64.]]\n"
     ]
    }
   ],
   "source": [
    "arr = np.random.random((2,3))*100\n",
    "print(arr)\n",
    "print(np.round(arr))\n",
    "print(np.floor(arr))\n",
    "print(np.ceil(arr))\n"
   ]
  },
  {
   "cell_type": "code",
   "execution_count": 141,
   "id": "56781d3d-c61d-423a-b754-508ae5058d1f",
   "metadata": {},
   "outputs": [
    {
     "data": {
      "text/plain": [
       "array([[ 3.,  8., 54.],\n",
       "       [29., 50., 11.]])"
      ]
     },
     "execution_count": 141,
     "metadata": {},
     "output_type": "execute_result"
    }
   ],
   "source": [
    "# Or you can also write as\n",
    "np.floor(np.random.random((2,3))*100)"
   ]
  },
  {
   "cell_type": "markdown",
   "id": "e3ceb8c3-83c5-47d0-8ef6-ea1f09ea93a6",
   "metadata": {},
   "source": [
    "#### Indexing and Slicing"
   ]
  },
  {
   "cell_type": "code",
   "execution_count": 57,
   "id": "78823a2b-47d1-4977-b552-386df7f79c4a",
   "metadata": {},
   "outputs": [
    {
     "name": "stdout",
     "output_type": "stream",
     "text": [
      "[0 1 2 3 4 5 6 7 8 9]\n",
      "[[ 0  1  2  3]\n",
      " [ 4  5  6  7]\n",
      " [ 8  9 10 11]]\n",
      "[[[0 1]\n",
      "  [2 3]]\n",
      "\n",
      " [[4 5]\n",
      "  [6 7]]]\n"
     ]
    }
   ],
   "source": [
    "a1 = np.arange(10)\n",
    "a2 = np.arange(12).reshape(3,4)\n",
    "a3 = np.arange(8).reshape(2,2,2)\n",
    "print(a1)\n",
    "print(a2)\n",
    "print(a3)"
   ]
  },
  {
   "cell_type": "code",
   "execution_count": 59,
   "id": "1c8f5bc5-a4a8-4fea-9d5b-024a901e975a",
   "metadata": {},
   "outputs": [
    {
     "name": "stdout",
     "output_type": "stream",
     "text": [
      "[0 1 2 3 4 5 6 7 8 9]\n",
      "0\n"
     ]
    }
   ],
   "source": [
    "print(a1)\n",
    "print(a1[0])"
   ]
  },
  {
   "cell_type": "code",
   "execution_count": 64,
   "id": "86102dad-5d04-47fb-932d-0bff3cc75207",
   "metadata": {},
   "outputs": [
    {
     "name": "stdout",
     "output_type": "stream",
     "text": [
      "[[ 0  1  2  3]\n",
      " [ 4  5  6  7]\n",
      " [ 8  9 10 11]]\n",
      "6\n",
      "4\n",
      "11\n"
     ]
    }
   ],
   "source": [
    "# For 2D array\n",
    "print(a2)\n",
    "# Let we have to print 6 so check that element is present in which row and column\n",
    "print(a2[1,2]) # here 1 is row and 2 is column\n",
    "#NOTE: row and column starts with 0\n",
    "print(a2[1,0])\n",
    "print(a2[2,3])"
   ]
  },
  {
   "cell_type": "markdown",
   "id": "5c8c122a-3764-4b8c-ab9f-9679502abbd3",
   "metadata": {},
   "source": [
    "###### Simply for finding element from 3D--> As we know 3D is made from some 2D array so first we check our element is present from which 2D array and then simply search like 2D e.g for 3D array arr we use ar[a,b,c]"
   ]
  },
  {
   "cell_type": "code",
   "execution_count": 73,
   "id": "8b79dff3-21bd-4afa-8a0f-7504d09b0e54",
   "metadata": {},
   "outputs": [
    {
     "name": "stdout",
     "output_type": "stream",
     "text": [
      "[[[0 1]\n",
      "  [2 3]]\n",
      "\n",
      " [[4 5]\n",
      "  [6 7]]]\n",
      "4\n",
      "5\n",
      "1\n",
      "3\n",
      "0\n",
      "6\n"
     ]
    }
   ],
   "source": [
    "# 3D array\n",
    "print(a3)\n",
    "#For element in 3D-->>first write in which 2D array your element is present(bcz 3d is made from some no of 2D) \n",
    "# then like 2D search ur element. NOTE: No of 2D ka indexing bhi start from 0 then 1 and then 2\n",
    "print(a3[1,0,0])\n",
    "print(a3[1,0,1])\n",
    "print(a3[0,0,1])\n",
    "print(a3[0,1,1])\n",
    "print(a3[0,0,0])\n",
    "print(a3[1,1,0])"
   ]
  },
  {
   "cell_type": "markdown",
   "id": "4ac88283-2347-41d9-b1d8-3652407e73cc",
   "metadata": {},
   "source": [
    "#### Slicing -->> fetching multiple elements at once"
   ]
  },
  {
   "cell_type": "raw",
   "id": "22bb22ab-b26c-479e-b862-e474a4523479",
   "metadata": {},
   "source": [
    "NOTE: In slicing, you can use negative indexing etc in 1D as like you done in previous lessons(like lists, tuples etc)"
   ]
  },
  {
   "cell_type": "code",
   "execution_count": 80,
   "id": "791f6a4e-c463-4dd7-b467-0a670fb2bda9",
   "metadata": {},
   "outputs": [
    {
     "name": "stdout",
     "output_type": "stream",
     "text": [
      "[0 1 2 3 4 5 6 7 8 9]\n",
      "[2 3 4]\n",
      "[2 4]\n"
     ]
    }
   ],
   "source": [
    "print(a1)\n",
    "print(a1[2:5]) # Means print from 2 to 5 and exclude 5\n",
    "print(a1[2:5:2]) # Means print from 2 to 5 alternate with excluding 5"
   ]
  },
  {
   "cell_type": "raw",
   "id": "2fbb385e-0bc3-4508-a028-5ffc8459eb12",
   "metadata": {},
   "source": [
    "NOTE: if you want every row or column simply use :"
   ]
  },
  {
   "cell_type": "markdown",
   "id": "910e3d4a-32cc-4016-b14d-e815e2d6a337",
   "metadata": {},
   "source": [
    "###### Slicing in 2D array"
   ]
  },
  {
   "cell_type": "code",
   "execution_count": 110,
   "id": "b321bf22-e310-4dd4-b8d6-47e1dd295817",
   "metadata": {},
   "outputs": [
    {
     "name": "stdout",
     "output_type": "stream",
     "text": [
      "[[ 0  1  2  3]\n",
      " [ 4  5  6  7]\n",
      " [ 8  9 10 11]]\n",
      "[0 1 2 3]\n",
      "[1 5 9]\n"
     ]
    }
   ],
   "source": [
    "print(a2)\n",
    "print(a2[0,:]) #for printing 1st row(: is used bcz we want each column for any row)\n",
    "print(a2[:,1]) # 2nd column"
   ]
  },
  {
   "cell_type": "markdown",
   "id": "bef8c89c-a2ca-494a-8033-c0f616409f06",
   "metadata": {},
   "source": [
    "###### if you want to print 5,6 and 9,10 what will you do ??"
   ]
  },
  {
   "cell_type": "code",
   "execution_count": 111,
   "id": "db19e28a-735f-46d2-9458-e8b2d1b9550d",
   "metadata": {},
   "outputs": [
    {
     "data": {
      "text/plain": [
       "array([[ 5,  6],\n",
       "       [ 9, 10]])"
      ]
     },
     "execution_count": 111,
     "metadata": {},
     "output_type": "execute_result"
    }
   ],
   "source": [
    "a2[1:,1:3]\n",
    "# here 1: means 1 onwards i.e 1 aur uske aage ke sabhi row\n",
    "# Since after comma column will start so ->> 1:3 means 1 to 3 column excluded 3"
   ]
  },
  {
   "cell_type": "markdown",
   "id": "39728e7f-f8df-4cf2-b9d6-b9ecde42a3b1",
   "metadata": {},
   "source": [
    "###### if you want to print 0,3,8,11 means all corner elements"
   ]
  },
  {
   "cell_type": "code",
   "execution_count": 112,
   "id": "6bb878e0-3995-4ffb-b70f-82794372375e",
   "metadata": {},
   "outputs": [
    {
     "data": {
      "text/plain": [
       "array([[ 0,  3],\n",
       "       [ 8, 11]])"
      ]
     },
     "execution_count": 112,
     "metadata": {},
     "output_type": "execute_result"
    }
   ],
   "source": [
    "a2[::2,::3]\n",
    "# let's see above as a2[:,:] means all row and column and we need to skip 1 row so(use :2) \n",
    "# and skip 2 col so use(:3) and finally it looks like a2[::2,::3]"
   ]
  },
  {
   "cell_type": "markdown",
   "id": "7f1ee5c0-aa60-4790-9343-e7e1f35e8e90",
   "metadata": {},
   "source": [
    "###### if you want to print 1,3,9,11 elements"
   ]
  },
  {
   "cell_type": "code",
   "execution_count": 113,
   "id": "7bb3a6af-1efa-4faa-8ebe-e54799cdd9f8",
   "metadata": {},
   "outputs": [
    {
     "data": {
      "text/plain": [
       "array([[ 3,  1],\n",
       "       [11,  9]])"
      ]
     },
     "execution_count": 113,
     "metadata": {},
     "output_type": "execute_result"
    }
   ],
   "source": [
    "# mistake I am doing but fix it after sometime without any help 😍\n",
    "a2[::2,::-2]"
   ]
  },
  {
   "cell_type": "code",
   "execution_count": 114,
   "id": "f9fd44f2-709d-4ead-ae24-34332b0431d2",
   "metadata": {},
   "outputs": [
    {
     "data": {
      "text/plain": [
       "array([[ 1,  3],\n",
       "       [ 9, 11]])"
      ]
     },
     "execution_count": 114,
     "metadata": {},
     "output_type": "execute_result"
    }
   ],
   "source": [
    "a2[::2,1::2]\n",
    "# Here ,1::2 means all columns from 1 with alternate(means 1st coumn then 3rd then 5th etc)"
   ]
  },
  {
   "cell_type": "markdown",
   "id": "ed8c7b0a-074a-4482-a43a-ae62c4cfbe79",
   "metadata": {},
   "source": [
    "###### if you want only 4 and 7"
   ]
  },
  {
   "cell_type": "code",
   "execution_count": 115,
   "id": "7183220f-3d52-47fe-97ef-5815f6e1963b",
   "metadata": {},
   "outputs": [
    {
     "data": {
      "text/plain": [
       "array([4, 7])"
      ]
     },
     "execution_count": 115,
     "metadata": {},
     "output_type": "execute_result"
    }
   ],
   "source": [
    "a2[1,0::3]\n",
    "# here 0::3 means 0 ke aage sabhi columns with skipping 2 columns (::2 rehta to 1 columns skip krte )"
   ]
  },
  {
   "cell_type": "markdown",
   "id": "e6a6d73c-c85a-4d6e-8e6f-c562511176ba",
   "metadata": {},
   "source": [
    "if you want 1,2,3,5,6,7 "
   ]
  },
  {
   "cell_type": "code",
   "execution_count": 116,
   "id": "b82b7077-9098-490d-b5b2-bbf21133e2ea",
   "metadata": {},
   "outputs": [
    {
     "data": {
      "text/plain": [
       "array([[1, 2, 3],\n",
       "       [5, 6, 7]])"
      ]
     },
     "execution_count": 116,
     "metadata": {},
     "output_type": "execute_result"
    }
   ],
   "source": [
    "a2[0:2,1:4]\n",
    "# 0:2 means rows (0 and 1 bcz 2 is excluded)\n",
    "# 1:4 means columns (1,2 and 3 bcz 4 is excluded)"
   ]
  },
  {
   "cell_type": "markdown",
   "id": "2d835d7e-400f-465d-a9a4-33831b415d7d",
   "metadata": {},
   "source": [
    "###### Slicing in 3D array"
   ]
  },
  {
   "cell_type": "code",
   "execution_count": 119,
   "id": "6deb655c-a22f-475e-9c3d-ab63b7f8f008",
   "metadata": {},
   "outputs": [
    {
     "name": "stdout",
     "output_type": "stream",
     "text": [
      "[[[ 0  1  2]\n",
      "  [ 3  4  5]\n",
      "  [ 6  7  8]]\n",
      "\n",
      " [[ 9 10 11]\n",
      "  [12 13 14]\n",
      "  [15 16 17]]\n",
      "\n",
      " [[18 19 20]\n",
      "  [21 22 23]\n",
      "  [24 25 26]]]\n"
     ]
    }
   ],
   "source": [
    "a3 = np.arange(27).reshape(3,3,3)\n",
    "print(a3)"
   ]
  },
  {
   "cell_type": "markdown",
   "id": "6aa904da-e54b-4d1c-9b05-bfce7d052d18",
   "metadata": {},
   "source": [
    "###### if you want to print elements from 9 to 17 -->> here are two ways"
   ]
  },
  {
   "cell_type": "code",
   "execution_count": 121,
   "id": "ff5d5462-86a2-404d-8f17-f468a734d31f",
   "metadata": {},
   "outputs": [
    {
     "data": {
      "text/plain": [
       "array([[ 9, 10, 11],\n",
       "       [12, 13, 14],\n",
       "       [15, 16, 17]])"
      ]
     },
     "execution_count": 121,
     "metadata": {},
     "output_type": "execute_result"
    }
   ],
   "source": [
    "a3[1]"
   ]
  },
  {
   "cell_type": "code",
   "execution_count": 122,
   "id": "3e1064b9-c2d1-4e88-8515-e97567e63396",
   "metadata": {},
   "outputs": [
    {
     "data": {
      "text/plain": [
       "array([[ 9, 10, 11],\n",
       "       [12, 13, 14],\n",
       "       [15, 16, 17]])"
      ]
     },
     "execution_count": 122,
     "metadata": {},
     "output_type": "execute_result"
    }
   ],
   "source": [
    "a3[1,:,:]"
   ]
  },
  {
   "cell_type": "markdown",
   "id": "eae86a58-c677-4027-9291-8a633a0151fe",
   "metadata": {},
   "source": [
    "###### if you want to print 0 to 8 and then 18 to 27"
   ]
  },
  {
   "cell_type": "code",
   "execution_count": 124,
   "id": "61919d70-507f-49f4-9870-bf017bf9a397",
   "metadata": {},
   "outputs": [
    {
     "data": {
      "text/plain": [
       "array([[[ 0,  1,  2],\n",
       "        [ 3,  4,  5],\n",
       "        [ 6,  7,  8]],\n",
       "\n",
       "       [[18, 19, 20],\n",
       "        [21, 22, 23],\n",
       "        [24, 25, 26]]])"
      ]
     },
     "execution_count": 124,
     "metadata": {},
     "output_type": "execute_result"
    }
   ],
   "source": [
    "a3[::2]\n",
    "# here a3[:] means all elements and :2 means alternate hence a3[::2] means "
   ]
  },
  {
   "cell_type": "markdown",
   "id": "e04313d8-4a70-4ed2-b03c-dc828c706feb",
   "metadata": {},
   "source": [
    "###### let's print 2nd row of 1st 2D array i.e 3,4,5"
   ]
  },
  {
   "cell_type": "code",
   "execution_count": 126,
   "id": "e0061856-65a1-4ed7-82e9-7d3c24691ac6",
   "metadata": {},
   "outputs": [
    {
     "data": {
      "text/plain": [
       "array([3, 4, 5])"
      ]
     },
     "execution_count": 126,
     "metadata": {},
     "output_type": "execute_result"
    }
   ],
   "source": [
    "a3[0,1,:]\n",
    "# 0 means 1st 2D array , 1 means 2nd row and : means all columns"
   ]
  },
  {
   "cell_type": "markdown",
   "id": "5e80bd00-679f-41ea-b81d-89f1dc52e4e9",
   "metadata": {},
   "source": [
    "###### let's print 2nd column of 2nd 2D array i.e 10,13,16"
   ]
  },
  {
   "cell_type": "code",
   "execution_count": 128,
   "id": "ade046ea-f86a-43ca-86a2-65b1a402fb75",
   "metadata": {},
   "outputs": [
    {
     "data": {
      "text/plain": [
       "array([10, 13, 16])"
      ]
     },
     "execution_count": 128,
     "metadata": {},
     "output_type": "execute_result"
    }
   ],
   "source": [
    "a3[1,:,1]"
   ]
  },
  {
   "cell_type": "markdown",
   "id": "0322b5f4-01b9-4fae-a677-4c743198e193",
   "metadata": {},
   "source": [
    "###### let's print  22,23,25,26"
   ]
  },
  {
   "cell_type": "code",
   "execution_count": 130,
   "id": "94a5b8fe-a3f9-4208-b086-6dbe5c44b37e",
   "metadata": {},
   "outputs": [
    {
     "data": {
      "text/plain": [
       "array([[22, 23],\n",
       "       [25, 26]])"
      ]
     },
     "execution_count": 130,
     "metadata": {},
     "output_type": "execute_result"
    }
   ],
   "source": [
    "a3[2,1:3,1:3]\n",
    "# Or you can do a3[2,1:,1:]"
   ]
  },
  {
   "cell_type": "markdown",
   "id": "acc87f6a-42c6-4592-9c35-7745a30a52eb",
   "metadata": {},
   "source": [
    "###### let's print  0,2,18,20"
   ]
  },
  {
   "cell_type": "code",
   "execution_count": 133,
   "id": "f726f1ea-ba28-4d4d-a3ab-d6a75a8ba752",
   "metadata": {},
   "outputs": [
    {
     "data": {
      "text/plain": [
       "array([[[ 0,  2]],\n",
       "\n",
       "       [[18, 20]]])"
      ]
     },
     "execution_count": 133,
     "metadata": {},
     "output_type": "execute_result"
    }
   ],
   "source": [
    "a3[::2,::3,::2]\n",
    "# Here ::2 means all alternate 2D array\n",
    "# here ::3 means all rows from starting with gap of 2 rows\n",
    "# here ::2 means all columns from starting with gap of 1 columns \n",
    "# Or you can do as a3[::2,0,::2] here 0 coz we need only 0th row of each 2D array"
   ]
  },
  {
   "cell_type": "markdown",
   "id": "87b17bfe-610c-4420-ab6b-99bdb1038504",
   "metadata": {},
   "source": [
    "#### Iterating "
   ]
  },
  {
   "cell_type": "markdown",
   "id": "174622c5-da2a-4fb2-9410-9c83e0142af3",
   "metadata": {},
   "source": [
    "###### iteration in 1D array                                                                                "
   ]
  },
  {
   "cell_type": "code",
   "execution_count": 143,
   "id": "eba68757-fc52-41f6-8e3e-f967b0fa35a2",
   "metadata": {},
   "outputs": [
    {
     "name": "stdout",
     "output_type": "stream",
     "text": [
      "[0 1 2 3 4 5 6 7 8 9]\n",
      "0\n",
      "1\n",
      "2\n",
      "3\n",
      "4\n",
      "5\n",
      "6\n",
      "7\n",
      "8\n",
      "9\n"
     ]
    }
   ],
   "source": [
    "print(a1)\n",
    "for i in a1:\n",
    "    print(i)"
   ]
  },
  {
   "cell_type": "markdown",
   "id": "ce65682f-f6f0-42d3-8c78-b35f3b25b46c",
   "metadata": {},
   "source": [
    "###### iteration in 2D array -->> in each loop only one row is printed at once"
   ]
  },
  {
   "cell_type": "code",
   "execution_count": 144,
   "id": "d53b7035-a90e-4e0a-ac4e-860a75d22287",
   "metadata": {},
   "outputs": [
    {
     "name": "stdout",
     "output_type": "stream",
     "text": [
      "[0 1 2 3]\n",
      "[4 5 6 7]\n",
      "[ 8  9 10 11]\n"
     ]
    }
   ],
   "source": [
    "for i in a2:\n",
    "    print(i)"
   ]
  },
  {
   "cell_type": "markdown",
   "id": "5ab40372-c17d-4b96-8090-3afb06b3a146",
   "metadata": {},
   "source": [
    "###### iteration in 3D array -->> in each time 2D array is printed"
   ]
  },
  {
   "cell_type": "code",
   "execution_count": 155,
   "id": "d8ceb1e0-9a8b-44be-a3a1-78b6521176e0",
   "metadata": {},
   "outputs": [
    {
     "data": {
      "text/plain": [
       "array([[[ 0,  1,  2],\n",
       "        [ 3,  4,  5],\n",
       "        [ 6,  7,  8]],\n",
       "\n",
       "       [[ 9, 10, 11],\n",
       "        [12, 13, 14],\n",
       "        [15, 16, 17]],\n",
       "\n",
       "       [[18, 19, 20],\n",
       "        [21, 22, 23],\n",
       "        [24, 25, 26]]])"
      ]
     },
     "execution_count": 155,
     "metadata": {},
     "output_type": "execute_result"
    }
   ],
   "source": [
    "a3 = np.arange(27).reshape(3,3,3)\n",
    "a3"
   ]
  },
  {
   "cell_type": "code",
   "execution_count": 156,
   "id": "6607da1d-2d7d-423f-a9f4-524fad0c122c",
   "metadata": {},
   "outputs": [
    {
     "name": "stdout",
     "output_type": "stream",
     "text": [
      "[[0 1 2]\n",
      " [3 4 5]\n",
      " [6 7 8]]\n",
      "[[ 9 10 11]\n",
      " [12 13 14]\n",
      " [15 16 17]]\n",
      "[[18 19 20]\n",
      " [21 22 23]\n",
      " [24 25 26]]\n"
     ]
    }
   ],
   "source": [
    "for i in a3:\n",
    "    print(i)"
   ]
  },
  {
   "cell_type": "raw",
   "id": "be95f4bf-ed6c-4109-8b5a-640b86090c7d",
   "metadata": {},
   "source": [
    "NOTE: if you want to print each of of any dimensional array we use one function "
   ]
  },
  {
   "cell_type": "code",
   "execution_count": 158,
   "id": "7e439dae-6185-4369-8e9f-2e54202fbccf",
   "metadata": {},
   "outputs": [
    {
     "name": "stdout",
     "output_type": "stream",
     "text": [
      "0\n",
      "1\n",
      "2\n",
      "3\n",
      "4\n",
      "5\n",
      "6\n",
      "7\n",
      "8\n",
      "9\n",
      "10\n",
      "11\n",
      "12\n",
      "13\n",
      "14\n",
      "15\n",
      "16\n",
      "17\n",
      "18\n",
      "19\n",
      "20\n",
      "21\n",
      "22\n",
      "23\n",
      "24\n",
      "25\n",
      "26\n"
     ]
    }
   ],
   "source": [
    "for i in np.nditer(a3):\n",
    "    print(i)"
   ]
  },
  {
   "cell_type": "markdown",
   "id": "95132bad-e2f8-4de3-96ca-b36a5f67d7c7",
   "metadata": {},
   "source": [
    "#### Reshaping"
   ]
  },
  {
   "cell_type": "markdown",
   "id": "5b81973d-d8b6-4e75-a1a9-23da61bc3e82",
   "metadata": {},
   "source": [
    "###### 1.reshape -->> already done above"
   ]
  },
  {
   "cell_type": "markdown",
   "id": "1221a6ee-9a67-461f-9036-d21bacfd7fb4",
   "metadata": {},
   "source": [
    "###### 2.transpose"
   ]
  },
  {
   "cell_type": "code",
   "execution_count": 162,
   "id": "529187b3-234a-456b-973d-5e8e2066fc8f",
   "metadata": {},
   "outputs": [
    {
     "name": "stdout",
     "output_type": "stream",
     "text": [
      "[[ 0  1  2  3]\n",
      " [ 4  5  6  7]\n",
      " [ 8  9 10 11]]\n",
      "[[ 0  4  8]\n",
      " [ 1  5  9]\n",
      " [ 2  6 10]\n",
      " [ 3  7 11]]\n"
     ]
    }
   ],
   "source": [
    "print(a2)\n",
    "print(np.transpose(a2))\n",
    "# or you can simply use a2.T"
   ]
  },
  {
   "cell_type": "markdown",
   "id": "ec3cfa88-6a00-4e4d-b3c4-8088fcc37d1a",
   "metadata": {},
   "source": [
    "###### 3.ravel -->> It will convert any dimension of array into 1D"
   ]
  },
  {
   "cell_type": "code",
   "execution_count": 164,
   "id": "856b9f5e-bfee-4b34-820d-ea846beac21c",
   "metadata": {},
   "outputs": [
    {
     "name": "stdout",
     "output_type": "stream",
     "text": [
      "[ 0  1  2  3  4  5  6  7  8  9 10 11 12 13 14 15 16 17 18 19 20 21 22 23\n",
      " 24 25 26]\n"
     ]
    }
   ],
   "source": [
    "print(a3.ravel())"
   ]
  },
  {
   "cell_type": "markdown",
   "id": "ea4b1fa6-160b-4abc-be57-a6e1c4cbe5c4",
   "metadata": {},
   "source": [
    "#### Stacking\n",
    "###### . means adding two numpy array horizontally or vertically"
   ]
  },
  {
   "cell_type": "markdown",
   "id": "f9697266-4303-417e-ba1b-165782855e1d",
   "metadata": {},
   "source": [
    "###### 1.horizontal stacking"
   ]
  },
  {
   "cell_type": "code",
   "execution_count": 174,
   "id": "d780c260-0960-437d-8529-12b244e7d8ff",
   "metadata": {},
   "outputs": [
    {
     "name": "stdout",
     "output_type": "stream",
     "text": [
      "[[ 0  1  2  3]\n",
      " [ 4  5  6  7]\n",
      " [ 8  9 10 11]]\n",
      "[[12 13 14 15]\n",
      " [16 17 18 19]\n",
      " [20 21 22 23]]\n"
     ]
    },
    {
     "data": {
      "text/plain": [
       "array([[ 0,  1,  2,  3, 12, 13, 14, 15],\n",
       "       [ 4,  5,  6,  7, 16, 17, 18, 19],\n",
       "       [ 8,  9, 10, 11, 20, 21, 22, 23]])"
      ]
     },
     "execution_count": 174,
     "metadata": {},
     "output_type": "execute_result"
    }
   ],
   "source": [
    "# horizontal stacking\n",
    "a4 = np.arange(12).reshape(3,4)\n",
    "a5 = np.arange(12,24).reshape(3,4)\n",
    "print(a4)\n",
    "print(a5)\n",
    "np.hstack((a4,a5))"
   ]
  },
  {
   "cell_type": "code",
   "execution_count": 175,
   "id": "51642b3e-74dd-4f9e-91c6-9a5587b76456",
   "metadata": {},
   "outputs": [
    {
     "data": {
      "text/plain": [
       "array([[ 0,  1,  2,  3, 12, 13, 14, 15,  0,  1,  2,  3],\n",
       "       [ 4,  5,  6,  7, 16, 17, 18, 19,  4,  5,  6,  7],\n",
       "       [ 8,  9, 10, 11, 20, 21, 22, 23,  8,  9, 10, 11]])"
      ]
     },
     "execution_count": 175,
     "metadata": {},
     "output_type": "execute_result"
    }
   ],
   "source": [
    "# you can do so many times you need\n",
    "np.hstack((a4,a5,a4))"
   ]
  },
  {
   "cell_type": "code",
   "execution_count": 176,
   "id": "b29236e2-0b63-42e3-a311-2ef2663b6db6",
   "metadata": {},
   "outputs": [
    {
     "data": {
      "text/plain": [
       "array([[12, 13, 14, 15,  0,  1,  2,  3, 12, 13, 14, 15],\n",
       "       [16, 17, 18, 19,  4,  5,  6,  7, 16, 17, 18, 19],\n",
       "       [20, 21, 22, 23,  8,  9, 10, 11, 20, 21, 22, 23]])"
      ]
     },
     "execution_count": 176,
     "metadata": {},
     "output_type": "execute_result"
    }
   ],
   "source": [
    "np.hstack((a5,a4,a5))"
   ]
  },
  {
   "cell_type": "markdown",
   "id": "d2892ddb-edfe-4991-bfd1-a2281a89ea17",
   "metadata": {},
   "source": [
    "###### 2.Vertical stacking"
   ]
  },
  {
   "cell_type": "code",
   "execution_count": 177,
   "id": "e1fcd975-754c-42b7-bbad-5968400bd754",
   "metadata": {},
   "outputs": [
    {
     "data": {
      "text/plain": [
       "array([[ 0,  1,  2,  3],\n",
       "       [ 4,  5,  6,  7],\n",
       "       [ 8,  9, 10, 11],\n",
       "       [12, 13, 14, 15],\n",
       "       [16, 17, 18, 19],\n",
       "       [20, 21, 22, 23]])"
      ]
     },
     "execution_count": 177,
     "metadata": {},
     "output_type": "execute_result"
    }
   ],
   "source": [
    "np.vstack((a4,a5))"
   ]
  },
  {
   "cell_type": "code",
   "execution_count": 178,
   "id": "69fcb109-0109-4a1b-992f-965ecfd599d9",
   "metadata": {},
   "outputs": [
    {
     "data": {
      "text/plain": [
       "array([[12, 13, 14, 15],\n",
       "       [16, 17, 18, 19],\n",
       "       [20, 21, 22, 23],\n",
       "       [ 0,  1,  2,  3],\n",
       "       [ 4,  5,  6,  7],\n",
       "       [ 8,  9, 10, 11],\n",
       "       [12, 13, 14, 15],\n",
       "       [16, 17, 18, 19],\n",
       "       [20, 21, 22, 23]])"
      ]
     },
     "execution_count": 178,
     "metadata": {},
     "output_type": "execute_result"
    }
   ],
   "source": [
    "np.vstack((a5,a4,a5))"
   ]
  },
  {
   "cell_type": "markdown",
   "id": "6defb30e-70c6-442a-9783-3cfa3cf945c5",
   "metadata": {},
   "source": [
    "#### Splitting -->> must be in same part\n",
    "###### .splitting numpy array"
   ]
  },
  {
   "cell_type": "markdown",
   "id": "283072e5-47e5-423a-a55f-40fece12310f",
   "metadata": {},
   "source": [
    "##### NOTE: there might be confusing that in horizontal spliitting a vertical line divides both \n",
    "##### And for vertical splitting a horizontal line divides the given numpy array"
   ]
  },
  {
   "cell_type": "code",
   "execution_count": 191,
   "id": "8547d611-7556-4d3c-b183-014111343cf3",
   "metadata": {},
   "outputs": [
    {
     "name": "stdout",
     "output_type": "stream",
     "text": [
      "[[ 0  1  2  3]\n",
      " [ 4  5  6  7]\n",
      " [ 8  9 10 11]]\n"
     ]
    }
   ],
   "source": [
    "#horizontal splitting \n",
    "print(a4)"
   ]
  },
  {
   "cell_type": "code",
   "execution_count": 192,
   "id": "6d4be3d0-428c-4e19-8d6f-f4d18254bb07",
   "metadata": {},
   "outputs": [
    {
     "data": {
      "text/plain": [
       "[array([[0, 1],\n",
       "        [4, 5],\n",
       "        [8, 9]]),\n",
       " array([[ 2,  3],\n",
       "        [ 6,  7],\n",
       "        [10, 11]])]"
      ]
     },
     "execution_count": 192,
     "metadata": {},
     "output_type": "execute_result"
    }
   ],
   "source": [
    "np.hsplit(a4,2)"
   ]
  },
  {
   "cell_type": "code",
   "execution_count": 193,
   "id": "5d8de10a-8ff9-4d79-9a0f-b13844f48d7d",
   "metadata": {},
   "outputs": [
    {
     "name": "stdout",
     "output_type": "stream",
     "text": [
      "[[12 13 14 15]\n",
      " [16 17 18 19]\n",
      " [20 21 22 23]]\n"
     ]
    }
   ],
   "source": [
    "#Vertical splitting\n",
    "print(a5)"
   ]
  },
  {
   "cell_type": "code",
   "execution_count": 194,
   "id": "6bae659b-271c-472b-8b05-835d1266cebf",
   "metadata": {},
   "outputs": [
    {
     "data": {
      "text/plain": [
       "[array([[12, 13, 14, 15]]),\n",
       " array([[16, 17, 18, 19]]),\n",
       " array([[20, 21, 22, 23]])]"
      ]
     },
     "execution_count": 194,
     "metadata": {},
     "output_type": "execute_result"
    }
   ],
   "source": [
    "np.vsplit(a5,3)"
   ]
  },
  {
   "cell_type": "code",
   "execution_count": 195,
   "id": "023a0a91-f197-4d61-9f8c-7b7a07421b80",
   "metadata": {},
   "outputs": [
    {
     "data": {
      "text/plain": [
       "[array([[0, 1, 2, 3]]), array([[4, 5, 6, 7]]), array([[ 8,  9, 10, 11]])]"
      ]
     },
     "execution_count": 195,
     "metadata": {},
     "output_type": "execute_result"
    }
   ],
   "source": [
    "np.vsplit(a4,3)"
   ]
  },
  {
   "cell_type": "code",
   "execution_count": null,
   "id": "7885d85a-71fb-49f7-a714-7e02e5a68166",
   "metadata": {},
   "outputs": [],
   "source": []
  },
  {
   "cell_type": "code",
   "execution_count": null,
   "id": "d7ea9493-203c-4834-b080-b13676d16382",
   "metadata": {},
   "outputs": [],
   "source": []
  }
 ],
 "metadata": {
  "kernelspec": {
   "display_name": "Python 3 (ipykernel)",
   "language": "python",
   "name": "python3"
  },
  "language_info": {
   "codemirror_mode": {
    "name": "ipython",
    "version": 3
   },
   "file_extension": ".py",
   "mimetype": "text/x-python",
   "name": "python",
   "nbconvert_exporter": "python",
   "pygments_lexer": "ipython3",
   "version": "3.12.7"
  }
 },
 "nbformat": 4,
 "nbformat_minor": 5
}
