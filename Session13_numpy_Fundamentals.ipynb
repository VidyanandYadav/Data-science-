{
 "cells": [
  {
   "cell_type": "markdown",
   "id": "01523813-75a5-43c6-9bef-ad239a31da10",
   "metadata": {},
   "source": [
    "## Numpy Fundamentals"
   ]
  },
  {
   "cell_type": "markdown",
   "id": "dac46f09-e434-42b2-8b35-66df6c105c7b",
   "metadata": {},
   "source": [
    "#### Creating Numpy Arrays"
   ]
  },
  {
   "cell_type": "code",
   "execution_count": 33,
   "id": "0620ba91-d3df-4d1f-8f40-4a43a19c6dbe",
   "metadata": {},
   "outputs": [
    {
     "name": "stdout",
     "output_type": "stream",
     "text": [
      "[1 2 3 4 5]\n",
      "<class 'numpy.ndarray'>\n"
     ]
    }
   ],
   "source": [
    "# np.array\n",
    "import numpy as np\n",
    "# 1D np array also called vector\n",
    "a = np.array([1,2,3,4,5])\n",
    "print(a)\n",
    "print(type(a))"
   ]
  },
  {
   "cell_type": "code",
   "execution_count": 34,
   "id": "75201c60-6cbc-412b-a675-bcfcf1d9eb21",
   "metadata": {},
   "outputs": [
    {
     "name": "stdout",
     "output_type": "stream",
     "text": [
      "[[1 2 3]\n",
      " [4 5 6]]\n"
     ]
    }
   ],
   "source": [
    "# 2D np array also called matrix\n",
    "b = np.array([[1,2,3],[4,5,6]])\n",
    "print(b)"
   ]
  },
  {
   "cell_type": "code",
   "execution_count": 35,
   "id": "92ec0b23-9a2a-4249-98e4-045b7effb355",
   "metadata": {},
   "outputs": [
    {
     "name": "stdout",
     "output_type": "stream",
     "text": [
      "[[[1 2]\n",
      "  [3 4]]\n",
      "\n",
      " [[5 6]\n",
      "  [7 8]]]\n"
     ]
    }
   ],
   "source": [
    "# 3D np array also called tensor\n",
    "c = np.array([[[1,2],[3,4]],[[5,6],[7,8]]])\n",
    "print(c)"
   ]
  },
  {
   "cell_type": "markdown",
   "id": "930f5d5d-1713-4199-9831-bc98b961204f",
   "metadata": {},
   "source": [
    "##### You can create any datatype of your np array by using dtype=datatype see below."
   ]
  },
  {
   "cell_type": "code",
   "execution_count": 36,
   "id": "3499bcb5-9b6b-41ee-9a2f-3546aa9d4629",
   "metadata": {},
   "outputs": [
    {
     "data": {
      "text/plain": [
       "array([1., 2., 3., 4.])"
      ]
     },
     "execution_count": 36,
     "metadata": {},
     "output_type": "execute_result"
    }
   ],
   "source": [
    "np.array([1,2,3,4],dtype=float)"
   ]
  },
  {
   "cell_type": "code",
   "execution_count": 37,
   "id": "eb0c8d38-a5e1-4234-83db-e78e3eda446d",
   "metadata": {},
   "outputs": [
    {
     "data": {
      "text/plain": [
       "array([ True,  True,  True,  True])"
      ]
     },
     "execution_count": 37,
     "metadata": {},
     "output_type": "execute_result"
    }
   ],
   "source": [
    "np.array([1,2,3,4],dtype=bool)"
   ]
  },
  {
   "cell_type": "code",
   "execution_count": 38,
   "id": "0e3b3be8-40ae-41f6-9375-59f7ce6fac53",
   "metadata": {},
   "outputs": [
    {
     "data": {
      "text/plain": [
       "array([1.+0.j, 2.+0.j, 3.+0.j, 4.+0.j])"
      ]
     },
     "execution_count": 38,
     "metadata": {},
     "output_type": "execute_result"
    }
   ],
   "source": [
    "np.array([1,2,3,4],dtype=complex)"
   ]
  },
  {
   "cell_type": "markdown",
   "id": "46070f5c-f945-4a47-80a0-437bd7f85df0",
   "metadata": {},
   "source": [
    "##### np.arange(a,b,c) included a and excluded b and c is used to skip/gap that much character or etc"
   ]
  },
  {
   "cell_type": "code",
   "execution_count": 39,
   "id": "b60072b5-6867-478a-a37c-6ad3d160632b",
   "metadata": {},
   "outputs": [
    {
     "data": {
      "text/plain": [
       "array([ 1,  2,  3,  4,  5,  6,  7,  8,  9, 10])"
      ]
     },
     "execution_count": 39,
     "metadata": {},
     "output_type": "execute_result"
    }
   ],
   "source": [
    "np.arange(1,11)"
   ]
  },
  {
   "cell_type": "code",
   "execution_count": 40,
   "id": "0a818ae8-92b0-4d54-b14f-15b91db12440",
   "metadata": {},
   "outputs": [
    {
     "data": {
      "text/plain": [
       "array([1, 3, 5, 7, 9])"
      ]
     },
     "execution_count": 40,
     "metadata": {},
     "output_type": "execute_result"
    }
   ],
   "source": [
    "np.arange(1,11,2)"
   ]
  },
  {
   "cell_type": "markdown",
   "id": "cf9c79c4-5078-466d-88da-9240151491ff",
   "metadata": {},
   "source": [
    "##### with reshape(a,b) -->> a rows and b columns where a*b must be equal to no of elements or numbers present"
   ]
  },
  {
   "cell_type": "code",
   "execution_count": 54,
   "id": "f9c63e30-ef69-448c-a85a-6bd2bf068685",
   "metadata": {},
   "outputs": [
    {
     "data": {
      "text/plain": [
       "array([[ 1,  2],\n",
       "       [ 3,  4],\n",
       "       [ 5,  6],\n",
       "       [ 7,  8],\n",
       "       [ 9, 10]])"
      ]
     },
     "execution_count": 54,
     "metadata": {},
     "output_type": "execute_result"
    }
   ],
   "source": [
    "np.arange(1,11).reshape(5,2)"
   ]
  },
  {
   "cell_type": "raw",
   "id": "1f78c940-cd66-4939-88bc-9fc408cceca9",
   "metadata": {},
   "source": [
    "NOTE: If you input rows and columns whose mmultiplication is greater than elements it will throw an error"
   ]
  },
  {
   "cell_type": "code",
   "execution_count": 55,
   "id": "7b8c8719-1010-498d-a830-2f2e9c0aaf66",
   "metadata": {},
   "outputs": [
    {
     "ename": "ValueError",
     "evalue": "cannot reshape array of size 10 into shape (5,5)",
     "output_type": "error",
     "traceback": [
      "\u001b[1;31m---------------------------------------------------------------------------\u001b[0m",
      "\u001b[1;31mValueError\u001b[0m                                Traceback (most recent call last)",
      "Cell \u001b[1;32mIn[55], line 1\u001b[0m\n\u001b[1;32m----> 1\u001b[0m np\u001b[38;5;241m.\u001b[39marange(\u001b[38;5;241m1\u001b[39m,\u001b[38;5;241m11\u001b[39m)\u001b[38;5;241m.\u001b[39mreshape(\u001b[38;5;241m5\u001b[39m,\u001b[38;5;241m5\u001b[39m)\n",
      "\u001b[1;31mValueError\u001b[0m: cannot reshape array of size 10 into shape (5,5)"
     ]
    }
   ],
   "source": [
    "np.arange(1,11).reshape(5,5)"
   ]
  },
  {
   "cell_type": "markdown",
   "id": "989f6a83-793e-4268-8649-cb701a23c8db",
   "metadata": {},
   "source": [
    "##### np.ones and np.zeros -->> to initializes the values of anything(let say initialising an array) anywhere\n",
    "##### Also NOTE that by default while you generate any values in np array it will be float"
   ]
  },
  {
   "cell_type": "code",
   "execution_count": 47,
   "id": "2f04ec43-f8a8-4709-94da-488db68519c5",
   "metadata": {},
   "outputs": [
    {
     "data": {
      "text/plain": [
       "array([[1., 1., 1., 1.],\n",
       "       [1., 1., 1., 1.],\n",
       "       [1., 1., 1., 1.]])"
      ]
     },
     "execution_count": 47,
     "metadata": {},
     "output_type": "execute_result"
    }
   ],
   "source": [
    "np.ones((3,4))"
   ]
  },
  {
   "cell_type": "code",
   "execution_count": 48,
   "id": "bdfa3f8a-d4c9-4c49-8621-403741775587",
   "metadata": {},
   "outputs": [
    {
     "data": {
      "text/plain": [
       "array([[0., 0., 0., 0.],\n",
       "       [0., 0., 0., 0.],\n",
       "       [0., 0., 0., 0.],\n",
       "       [0., 0., 0., 0.],\n",
       "       [0., 0., 0., 0.]])"
      ]
     },
     "execution_count": 48,
     "metadata": {},
     "output_type": "execute_result"
    }
   ],
   "source": [
    "np.zeros((5,4))"
   ]
  },
  {
   "cell_type": "code",
   "execution_count": 49,
   "id": "30c3fcb3-07c1-4fa2-97db-b76d386000c1",
   "metadata": {},
   "outputs": [
    {
     "data": {
      "text/plain": [
       "array([[0.52713692, 0.28948037, 0.43443262, 0.07363903, 0.64679707],\n",
       "       [0.0220114 , 0.24266978, 0.90152869, 0.14581354, 0.83051891],\n",
       "       [0.77638333, 0.97449462, 0.0320333 , 0.64351824, 0.61035596]])"
      ]
     },
     "execution_count": 49,
     "metadata": {},
     "output_type": "execute_result"
    }
   ],
   "source": [
    "# To generate random values we use\n",
    "np.random.random((3,5))"
   ]
  },
  {
   "cell_type": "markdown",
   "id": "19fa77cf-14a3-4054-987f-62f4c765579e",
   "metadata": {},
   "source": [
    "##### np.linspace(a,b,c) -->> generates c nos of random values b/w a and c such that each are at same distant or equidistant"
   ]
  },
  {
   "cell_type": "code",
   "execution_count": 50,
   "id": "da873954-3ad8-4927-843a-993b3e6ea640",
   "metadata": {},
   "outputs": [
    {
     "data": {
      "text/plain": [
       "array([-10.,  -5.,   0.,   5.,  10.])"
      ]
     },
     "execution_count": 50,
     "metadata": {},
     "output_type": "execute_result"
    }
   ],
   "source": [
    "#np.linspace\n",
    "np.linspace(-10,10,5)"
   ]
  },
  {
   "cell_type": "code",
   "execution_count": 52,
   "id": "c282d947-3751-44bc-8b50-22ae0d6945f2",
   "metadata": {},
   "outputs": [
    {
     "data": {
      "text/plain": [
       "array([-10,  -5,   0,   5,  10])"
      ]
     },
     "execution_count": 52,
     "metadata": {},
     "output_type": "execute_result"
    }
   ],
   "source": [
    "# If you want to change the datatype of generated value which is float by default you can do so...\n",
    "np.linspace(-10,10,5,dtype=int)"
   ]
  },
  {
   "cell_type": "markdown",
   "id": "88e735d0-58fa-41f5-80c2-f2b6bda32fb0",
   "metadata": {},
   "source": [
    "##### np.identity -->> to generates an identity matrix"
   ]
  },
  {
   "cell_type": "code",
   "execution_count": 51,
   "id": "927c3c2e-90f0-46e1-a845-cfd8a4e97031",
   "metadata": {},
   "outputs": [
    {
     "data": {
      "text/plain": [
       "array([[1., 0., 0., 0., 0.],\n",
       "       [0., 1., 0., 0., 0.],\n",
       "       [0., 0., 1., 0., 0.],\n",
       "       [0., 0., 0., 1., 0.],\n",
       "       [0., 0., 0., 0., 1.]])"
      ]
     },
     "execution_count": 51,
     "metadata": {},
     "output_type": "execute_result"
    }
   ],
   "source": [
    "# identity matrix whose diagonal elements are 1 and all others are zero\n",
    "np.identity(5)"
   ]
  },
  {
   "cell_type": "markdown",
   "id": "c7b72d41-2113-4390-8280-7cf9eba4e9c1",
   "metadata": {},
   "source": [
    "#### Array Attributes"
   ]
  },
  {
   "cell_type": "code",
   "execution_count": 58,
   "id": "68c09c39-126c-4cb6-87f8-3238cd198fdd",
   "metadata": {},
   "outputs": [],
   "source": [
    "a1 = np.arange(10)\n",
    "a2 = np.arange(12,dtype=float).reshape(3,4)\n",
    "a3 = np.arange(8).reshape(2,2,2)"
   ]
  },
  {
   "cell_type": "code",
   "execution_count": 66,
   "id": "3606ae75-86d6-4cf9-8178-2eb56c733078",
   "metadata": {},
   "outputs": [
    {
     "name": "stdout",
     "output_type": "stream",
     "text": [
      "1\n",
      "2\n",
      "3\n"
     ]
    }
   ],
   "source": [
    "#ndim -->> no of dimensions\n",
    "print(a1.ndim)\n",
    "print(a2.ndim)\n",
    "print(a3.ndim)"
   ]
  },
  {
   "cell_type": "code",
   "execution_count": 71,
   "id": "79bbffbc-35af-4f7c-8c72-a3e3ac64431d",
   "metadata": {},
   "outputs": [
    {
     "name": "stdout",
     "output_type": "stream",
     "text": [
      "(10,)\n",
      "(3, 4)\n",
      "(2, 2, 2)\n"
     ]
    }
   ],
   "source": [
    "# shape -->> shows how many rows and columns are there and definitely it will also show the dimension\n",
    "print(a1.shape)\n",
    "print(a2.shape)\n",
    "print(a3.shape)"
   ]
  },
  {
   "cell_type": "code",
   "execution_count": 73,
   "id": "c1f221ad-3974-4484-8b4a-d1fc99b4dfcc",
   "metadata": {},
   "outputs": [
    {
     "name": "stdout",
     "output_type": "stream",
     "text": [
      "10\n",
      "12\n",
      "8\n"
     ]
    }
   ],
   "source": [
    "# size -->> no of elements in given array\n",
    "print(a1.size)\n",
    "print(a2.size)\n",
    "print(a3.size)"
   ]
  },
  {
   "cell_type": "code",
   "execution_count": 80,
   "id": "94ba6b96-b951-4e26-a43a-fa905e6838fe",
   "metadata": {},
   "outputs": [
    {
     "name": "stdout",
     "output_type": "stream",
     "text": [
      "4\n",
      "8\n",
      "4\n"
     ]
    }
   ],
   "source": [
    "# itemsize -->> tells us how much size is occupied by each item in a memory of RAM\n",
    "print(a1.itemsize)\n",
    "print(a2.itemsize)\n",
    "print(a3.itemsize)\n",
    "# This is because each item of a1 and a3 are integer but a2 ka each item is float"
   ]
  },
  {
   "cell_type": "markdown",
   "id": "2a72482d-b358-43a1-b45e-b4ec80cef338",
   "metadata": {},
   "source": [
    "##### NOTE: int32  occupies 4byte space in memory but int64 occupies 8byte space in memory"
   ]
  },
  {
   "cell_type": "code",
   "execution_count": 81,
   "id": "89436b12-0ac0-4729-9676-275fdd818e89",
   "metadata": {},
   "outputs": [
    {
     "name": "stdout",
     "output_type": "stream",
     "text": [
      "int32\n",
      "float64\n",
      "int32\n"
     ]
    }
   ],
   "source": [
    "#dtype -->> tell us the datatype of your items\n",
    "print(a1.dtype)\n",
    "print(a2.dtype)\n",
    "print(a3.dtype)"
   ]
  },
  {
   "cell_type": "markdown",
   "id": "760cde58-4145-4b93-9572-a493ec2abd9e",
   "metadata": {},
   "source": [
    "#### Changing Datatype"
   ]
  },
  {
   "cell_type": "code",
   "execution_count": 84,
   "id": "7f680cc7-8606-4140-9915-0602d01c861d",
   "metadata": {},
   "outputs": [
    {
     "data": {
      "text/plain": [
       "dtype('float64')"
      ]
     },
     "execution_count": 84,
     "metadata": {},
     "output_type": "execute_result"
    }
   ],
   "source": [
    "# np array a2 have datatype of float64  but if we want to change it we can change it by\n",
    "a2.dtype"
   ]
  },
  {
   "cell_type": "code",
   "execution_count": 85,
   "id": "a1b97211-5d28-4e6c-8d53-ee5b3cc31d34",
   "metadata": {},
   "outputs": [
    {
     "data": {
      "text/plain": [
       "array([[ 0.,  1.,  2.,  3.],\n",
       "       [ 4.,  5.,  6.,  7.],\n",
       "       [ 8.,  9., 10., 11.]], dtype=float32)"
      ]
     },
     "execution_count": 85,
     "metadata": {},
     "output_type": "execute_result"
    }
   ],
   "source": [
    "a2.astype(np.float32)"
   ]
  },
  {
   "cell_type": "code",
   "execution_count": 86,
   "id": "8b9a71a3-a2ef-4682-a724-0517ac85258a",
   "metadata": {},
   "outputs": [
    {
     "data": {
      "text/plain": [
       "dtype('int32')"
      ]
     },
     "execution_count": 86,
     "metadata": {},
     "output_type": "execute_result"
    }
   ],
   "source": [
    "#Similarly for a1 and a3 -->> Since already in int32 you can check below by\n",
    "a1.dtype"
   ]
  },
  {
   "cell_type": "code",
   "execution_count": 87,
   "id": "a3e7a394-66ea-4f1d-b5bf-132402dc4002",
   "metadata": {},
   "outputs": [
    {
     "data": {
      "text/plain": [
       "array([0, 1, 2, 3, 4, 5, 6, 7, 8, 9], dtype=int64)"
      ]
     },
     "execution_count": 87,
     "metadata": {},
     "output_type": "execute_result"
    }
   ],
   "source": [
    "a1.astype(np.int64)"
   ]
  },
  {
   "cell_type": "markdown",
   "id": "ecabf087-11af-4872-8ccf-c513d70ef397",
   "metadata": {},
   "source": [
    "##### NOTE: You can also convert int into float and vice-versa etc"
   ]
  },
  {
   "cell_type": "code",
   "execution_count": 88,
   "id": "f0c14ef4-addb-4337-9ccc-59859e9de8fc",
   "metadata": {},
   "outputs": [
    {
     "data": {
      "text/plain": [
       "array([0., 1., 2., 3., 4., 5., 6., 7., 8., 9.])"
      ]
     },
     "execution_count": 88,
     "metadata": {},
     "output_type": "execute_result"
    }
   ],
   "source": [
    "a1.astype(np.float64)"
   ]
  },
  {
   "cell_type": "markdown",
   "id": "ee3e042d-e644-415e-a2ff-f3fbf1d0df08",
   "metadata": {},
   "source": [
    "#### Array Operations"
   ]
  },
  {
   "cell_type": "code",
   "execution_count": 93,
   "id": "8855de56-7d0c-4d59-8c29-6534d33ef6ac",
   "metadata": {},
   "outputs": [
    {
     "name": "stdout",
     "output_type": "stream",
     "text": [
      "[[ 0  1  2  3]\n",
      " [ 4  5  6  7]\n",
      " [ 8  9 10 11]]\n",
      "[[12 13 14 15]\n",
      " [16 17 18 19]\n",
      " [20 21 22 23]]\n"
     ]
    }
   ],
   "source": [
    "a1 = np.arange(12).reshape(3,4)\n",
    "a2 = np.arange(12,24).reshape(3,4)\n",
    "print(a1)\n",
    "print(a2)"
   ]
  },
  {
   "cell_type": "markdown",
   "id": "0180d2e5-0e95-4c19-8d50-c69299882ad2",
   "metadata": {},
   "source": [
    "##### Scalar operations -->> All Arithmetic Operations you can perform"
   ]
  },
  {
   "cell_type": "code",
   "execution_count": 99,
   "id": "eee8ab14-e5c4-4db7-bffb-5e3f8676552c",
   "metadata": {},
   "outputs": [
    {
     "name": "stdout",
     "output_type": "stream",
     "text": [
      "[[ 2  3  4  5]\n",
      " [ 6  7  8  9]\n",
      " [10 11 12 13]]\n",
      "[[-2 -1  0  1]\n",
      " [ 2  3  4  5]\n",
      " [ 6  7  8  9]]\n",
      "[[ 0  2  4  6]\n",
      " [ 8 10 12 14]\n",
      " [16 18 20 22]]\n",
      "[[0.   0.25 0.5  0.75]\n",
      " [1.   1.25 1.5  1.75]\n",
      " [2.   2.25 2.5  2.75]]\n",
      "[[   0    1    8   27]\n",
      " [  64  125  216  343]\n",
      " [ 512  729 1000 1331]]\n"
     ]
    }
   ],
   "source": [
    "print(a1 + 2)  #Addition\n",
    "print(a1 - 2)  #Subtraction\n",
    "print(a1*2)    #Multiplication\n",
    "print(a1/4)    #Division\n",
    "print(a1**3)   #Power"
   ]
  },
  {
   "cell_type": "markdown",
   "id": "cb173cc0-0916-484f-abc8-9dc85337c34b",
   "metadata": {},
   "source": [
    "##### Relational -->> All the relational operations you can use and answer for each element will be either true or false"
   ]
  },
  {
   "cell_type": "code",
   "execution_count": 110,
   "id": "81a4a119-4e4c-4167-888f-8d6b4daa1c4a",
   "metadata": {},
   "outputs": [
    {
     "name": "stdout",
     "output_type": "stream",
     "text": [
      "[[ True  True  True  True]\n",
      " [ True  True  True  True]\n",
      " [ True  True  True  True]]\n",
      "[[False False False False]\n",
      " [ True  True  True  True]\n",
      " [ True  True  True  True]]\n",
      "[[False False False False]\n",
      " [False False False False]\n",
      " [ True False False False]]\n"
     ]
    }
   ],
   "source": [
    "print(a2>5)\n",
    "print(a2>15)\n",
    "print(a2 == 20)"
   ]
  },
  {
   "cell_type": "markdown",
   "id": "150c92a5-0fe1-47e3-bd92-c2e64356a63c",
   "metadata": {},
   "source": [
    "##### Vector operations\n",
    "##### Arithmetic-->>All the arithmatic operations you can do on both array(+,-,*,/,pow etc)-->>Order must be same of both array"
   ]
  },
  {
   "cell_type": "code",
   "execution_count": 111,
   "id": "c5ad330c-4e2f-487e-a805-74d000cd72f0",
   "metadata": {},
   "outputs": [
    {
     "name": "stdout",
     "output_type": "stream",
     "text": [
      "[[ 0  1  2  3]\n",
      " [ 4  5  6  7]\n",
      " [ 8  9 10 11]]\n",
      "[[12 13 14 15]\n",
      " [16 17 18 19]\n",
      " [20 21 22 23]]\n",
      "[[12 14 16 18]\n",
      " [20 22 24 26]\n",
      " [28 30 32 34]]\n"
     ]
    }
   ],
   "source": [
    "print(a1)\n",
    "print(a2)\n",
    "print(a1+a2)"
   ]
  },
  {
   "cell_type": "markdown",
   "id": "8811b87c-b4df-4c64-918a-badf72abfaba",
   "metadata": {},
   "source": [
    "##### max/min/sum/product"
   ]
  },
  {
   "cell_type": "code",
   "execution_count": null,
   "id": "1ef11aca-7b8a-43bb-b1b0-0b7bad31d071",
   "metadata": {},
   "outputs": [],
   "source": []
  },
  {
   "cell_type": "markdown",
   "id": "435d7a81-e634-4c0b-8430-767f6f4bc83b",
   "metadata": {},
   "source": [
    "##### mean/median/standard/var"
   ]
  },
  {
   "cell_type": "code",
   "execution_count": null,
   "id": "95fb5a25-d19d-41fc-930c-797e6420ec3e",
   "metadata": {},
   "outputs": [],
   "source": []
  },
  {
   "cell_type": "markdown",
   "id": "67357774-63e1-4c32-9b1a-09e11a686c15",
   "metadata": {},
   "source": [
    "##### trignometric functions"
   ]
  },
  {
   "cell_type": "code",
   "execution_count": null,
   "id": "fd2995e2-d62f-48ec-9e09-38672510bdcb",
   "metadata": {},
   "outputs": [],
   "source": [
    "trigmometric fu "
   ]
  },
  {
   "cell_type": "markdown",
   "id": "b1d9b4e8-4a7d-4a64-823c-0204810036a1",
   "metadata": {},
   "source": [
    "##### dot product"
   ]
  },
  {
   "cell_type": "code",
   "execution_count": null,
   "id": "4dd730a0-b85b-4402-a9a9-1f93d7cb418a",
   "metadata": {},
   "outputs": [],
   "source": []
  }
 ],
 "metadata": {
  "kernelspec": {
   "display_name": "Python 3 (ipykernel)",
   "language": "python",
   "name": "python3"
  },
  "language_info": {
   "codemirror_mode": {
    "name": "ipython",
    "version": 3
   },
   "file_extension": ".py",
   "mimetype": "text/x-python",
   "name": "python",
   "nbconvert_exporter": "python",
   "pygments_lexer": "ipython3",
   "version": "3.12.7"
  }
 },
 "nbformat": 4,
 "nbformat_minor": 5
}
