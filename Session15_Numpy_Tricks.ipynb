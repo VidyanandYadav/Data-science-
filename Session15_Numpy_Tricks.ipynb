{
 "cells": [
  {
   "cell_type": "markdown",
   "id": "722811c4-4cd2-4ac3-b94e-6f37d499d863",
   "metadata": {},
   "source": [
    "## Numpy Tricks"
   ]
  },
  {
   "cell_type": "markdown",
   "id": "0f73d7fc-c834-4d3c-babb-c19be545add3",
   "metadata": {},
   "source": [
    "#### NOTE: If output dikhne lage it means temporary changes but if output not shows it means permanent changes "
   ]
  },
  {
   "cell_type": "markdown",
   "id": "dab42928-1c32-4388-b4bb-366233bbacc7",
   "metadata": {},
   "source": [
    "#### 1. np.sort"
   ]
  },
  {
   "cell_type": "markdown",
   "id": "1e333a23-6dcd-48f4-99e9-256fd7b6b1ab",
   "metadata": {},
   "source": [
    "##### Return a sorted copy of an array"
   ]
  },
  {
   "cell_type": "code",
   "execution_count": 169,
   "id": "a9474dc3-6a8c-49d5-b1b4-4ba560cb2522",
   "metadata": {},
   "outputs": [
    {
     "data": {
      "text/plain": [
       "array([15, 93,  9,  1, 62,  1, 54,  6, 88, 66, 84, 28,  2,  9, 63])"
      ]
     },
     "execution_count": 169,
     "metadata": {},
     "output_type": "execute_result"
    }
   ],
   "source": [
    "import numpy as np\n",
    "a = np.random.randint(1,100,15)\n",
    "a"
   ]
  },
  {
   "cell_type": "code",
   "execution_count": 170,
   "id": "92a0f487-cc96-4b28-af52-132e97e48be2",
   "metadata": {},
   "outputs": [
    {
     "data": {
      "text/plain": [
       "array([[90, 94, 47, 83],\n",
       "       [72, 67, 76, 91],\n",
       "       [41, 14, 45, 34],\n",
       "       [24,  8, 51, 12],\n",
       "       [21, 98, 67,  1],\n",
       "       [89, 73, 72, 14]])"
      ]
     },
     "execution_count": 170,
     "metadata": {},
     "output_type": "execute_result"
    }
   ],
   "source": [
    "b = np.random.randint(1,100,24).reshape(6,4)\n",
    "b"
   ]
  },
  {
   "cell_type": "code",
   "execution_count": 171,
   "id": "4159edf5-997f-40a8-89af-eb30d7a04b3a",
   "metadata": {},
   "outputs": [
    {
     "data": {
      "text/plain": [
       "array([ 1,  1,  2,  6,  9,  9, 15, 28, 54, 62, 63, 66, 84, 88, 93])"
      ]
     },
     "execution_count": 171,
     "metadata": {},
     "output_type": "execute_result"
    }
   ],
   "source": [
    "# 1D Sorting\n",
    "np.sort(a)"
   ]
  },
  {
   "cell_type": "code",
   "execution_count": 172,
   "id": "150f515c-34e8-4c05-aaba-63cb0d71c55f",
   "metadata": {},
   "outputs": [
    {
     "data": {
      "text/plain": [
       "array([[47, 83, 90, 94],\n",
       "       [67, 72, 76, 91],\n",
       "       [14, 34, 41, 45],\n",
       "       [ 8, 12, 24, 51],\n",
       "       [ 1, 21, 67, 98],\n",
       "       [14, 72, 73, 89]])"
      ]
     },
     "execution_count": 172,
     "metadata": {},
     "output_type": "execute_result"
    }
   ],
   "source": [
    "# 2D sorting\n",
    "np.sort(b)"
   ]
  },
  {
   "cell_type": "code",
   "execution_count": 173,
   "id": "43d44eac-992c-4e76-a091-5f951577ca0a",
   "metadata": {},
   "outputs": [
    {
     "data": {
      "text/plain": [
       "array([[21,  8, 45,  1],\n",
       "       [24, 14, 47, 12],\n",
       "       [41, 67, 51, 14],\n",
       "       [72, 73, 67, 34],\n",
       "       [89, 94, 72, 83],\n",
       "       [90, 98, 76, 91]])"
      ]
     },
     "execution_count": 173,
     "metadata": {},
     "output_type": "execute_result"
    }
   ],
   "source": [
    "# In 2D if you want column wise sorting-->> use axis = 0\n",
    "np.sort(b,axis=0)"
   ]
  },
  {
   "cell_type": "code",
   "execution_count": 174,
   "id": "c7519128-7248-4a19-9c2f-8f62b9a6714e",
   "metadata": {},
   "outputs": [
    {
     "data": {
      "text/plain": [
       "array([93, 88, 84, 66, 63, 62, 54, 28, 15,  9,  9,  6,  2,  1,  1])"
      ]
     },
     "execution_count": 174,
     "metadata": {},
     "output_type": "execute_result"
    }
   ],
   "source": [
    "# If you want to sort in descending order -->>> use [::-1]\n",
    "np.sort(a)[::-1]"
   ]
  },
  {
   "cell_type": "markdown",
   "id": "e0f242b5-f2cd-4b6d-b00a-961f5aae68cf",
   "metadata": {},
   "source": [
    "#### 2. np.append"
   ]
  },
  {
   "cell_type": "markdown",
   "id": "1acbed86-dbc5-4c04-9fc2-155ad763ee95",
   "metadata": {},
   "source": [
    "##### The numpy.append() appends values along the mentioned axis at the end of the array "
   ]
  },
  {
   "cell_type": "code",
   "execution_count": 175,
   "id": "9b08a882-60af-4ccb-a432-41280009b4e3",
   "metadata": {},
   "outputs": [
    {
     "data": {
      "text/plain": [
       "array([ 15,  93,   9,   1,  62,   1,  54,   6,  88,  66,  84,  28,   2,\n",
       "         9,  63, 200])"
      ]
     },
     "execution_count": 175,
     "metadata": {},
     "output_type": "execute_result"
    }
   ],
   "source": [
    "# In 1D array\n",
    "np.append(a,200)"
   ]
  },
  {
   "cell_type": "code",
   "execution_count": 176,
   "id": "36bce87b-f7fc-41a3-9ebe-e3f57075877a",
   "metadata": {},
   "outputs": [
    {
     "name": "stdout",
     "output_type": "stream",
     "text": [
      "[[90 94 47 83]\n",
      " [72 67 76 91]\n",
      " [41 14 45 34]\n",
      " [24  8 51 12]\n",
      " [21 98 67  1]\n",
      " [89 73 72 14]]\n"
     ]
    }
   ],
   "source": [
    "print(b)"
   ]
  },
  {
   "cell_type": "code",
   "execution_count": 177,
   "id": "5b825f6c-3fec-4daa-a474-e4f9e14cb51e",
   "metadata": {},
   "outputs": [
    {
     "data": {
      "text/plain": [
       "array([[90.        , 94.        , 47.        , 83.        ,  0.63363549],\n",
       "       [72.        , 67.        , 76.        , 91.        ,  0.29588686],\n",
       "       [41.        , 14.        , 45.        , 34.        ,  0.24696368],\n",
       "       [24.        ,  8.        , 51.        , 12.        ,  0.66395777],\n",
       "       [21.        , 98.        , 67.        ,  1.        ,  0.49380909],\n",
       "       [89.        , 73.        , 72.        , 14.        ,  0.52929528]])"
      ]
     },
     "execution_count": 177,
     "metadata": {},
     "output_type": "execute_result"
    }
   ],
   "source": [
    "# In 2D array\n",
    "np.append(b,np.random.random((b.shape[0],1)),axis=1)"
   ]
  },
  {
   "cell_type": "markdown",
   "id": "d3dc11f0-dbe1-4cb8-ae61-620908eff61f",
   "metadata": {},
   "source": [
    "#### 3. np.concatenate"
   ]
  },
  {
   "cell_type": "markdown",
   "id": "979434b0-643e-4080-91f1-235d51f173ef",
   "metadata": {},
   "source": [
    "##### numpy.concatenate() function concatenate a sequence of arrays along an existing axis."
   ]
  },
  {
   "cell_type": "code",
   "execution_count": 178,
   "id": "898ddfe1-cd3b-40f1-99f8-7fa31c12e15d",
   "metadata": {},
   "outputs": [
    {
     "name": "stdout",
     "output_type": "stream",
     "text": [
      "[[0 1 2]\n",
      " [3 4 5]]\n",
      "[[ 6  7  8]\n",
      " [ 9 10 11]]\n"
     ]
    }
   ],
   "source": [
    "c = np.arange(6).reshape(2,3)\n",
    "d = np.arange(6,12).reshape(2,3)\n",
    "print(c)\n",
    "print(d)"
   ]
  },
  {
   "cell_type": "code",
   "execution_count": 179,
   "id": "a1d570a2-1035-4bae-be3c-01abafd60aa4",
   "metadata": {},
   "outputs": [
    {
     "data": {
      "text/plain": [
       "array([[ 0,  1,  2],\n",
       "       [ 3,  4,  5],\n",
       "       [ 6,  7,  8],\n",
       "       [ 9, 10, 11]])"
      ]
     },
     "execution_count": 179,
     "metadata": {},
     "output_type": "execute_result"
    }
   ],
   "source": [
    "np.concatenate((c,d),axis=0) # row-wise concatenation"
   ]
  },
  {
   "cell_type": "code",
   "execution_count": 180,
   "id": "ce6aae3a-5753-4d4c-a385-e39e39f96ff8",
   "metadata": {},
   "outputs": [
    {
     "data": {
      "text/plain": [
       "array([[ 0,  1,  2,  6,  7,  8],\n",
       "       [ 3,  4,  5,  9, 10, 11]])"
      ]
     },
     "execution_count": 180,
     "metadata": {},
     "output_type": "execute_result"
    }
   ],
   "source": [
    "np.concatenate((c,d),axis=1)"
   ]
  },
  {
   "cell_type": "markdown",
   "id": "7b99f6e1-7c4f-481c-9d84-577e2c025e5e",
   "metadata": {},
   "source": [
    "#### 4. np.unique"
   ]
  },
  {
   "cell_type": "markdown",
   "id": "72ebe645-eb96-4eea-8e2c-43eb9f5c82ef",
   "metadata": {},
   "source": [
    "##### With the help of np.unique() method, we can get the unique values from an array given as parameter in np.unique() method"
   ]
  },
  {
   "cell_type": "code",
   "execution_count": 181,
   "id": "949bd6e7-0255-487f-829a-bbd28f13ac13",
   "metadata": {},
   "outputs": [],
   "source": [
    "e = np.array([1,2,2,3,3,4,4,5,5,6,6])"
   ]
  },
  {
   "cell_type": "code",
   "execution_count": 182,
   "id": "099c5097-de8a-420c-8401-f44480231086",
   "metadata": {},
   "outputs": [
    {
     "data": {
      "text/plain": [
       "array([1, 2, 3, 4, 5, 6])"
      ]
     },
     "execution_count": 182,
     "metadata": {},
     "output_type": "execute_result"
    }
   ],
   "source": [
    "np.unique(e)"
   ]
  },
  {
   "cell_type": "markdown",
   "id": "b8458340-20bb-4b46-8220-c8c025019d87",
   "metadata": {},
   "source": [
    "#### 5. np.expand_dims"
   ]
  },
  {
   "cell_type": "markdown",
   "id": "58ca82ec-2b73-4cf1-b4d3-cc4a36d02085",
   "metadata": {},
   "source": [
    "##### With the help of Numpy.expand_dims() method we can get the expanded dimensions of an array"
   ]
  },
  {
   "cell_type": "code",
   "execution_count": 183,
   "id": "c056b600-8cfc-43a7-97fc-c7ca12ca1799",
   "metadata": {},
   "outputs": [
    {
     "name": "stdout",
     "output_type": "stream",
     "text": [
      "[15 93  9  1 62  1 54  6 88 66 84 28  2  9 63]\n",
      "(15,)\n"
     ]
    }
   ],
   "source": [
    "# code\n",
    "print(a)\n",
    "print(a.shape)"
   ]
  },
  {
   "cell_type": "code",
   "execution_count": 184,
   "id": "6ca3fe70-9734-4eb2-b20f-adadd9f493f6",
   "metadata": {},
   "outputs": [
    {
     "name": "stdout",
     "output_type": "stream",
     "text": [
      "[[15 93  9  1 62  1 54  6 88 66 84 28  2  9 63]]\n",
      "(1, 15)\n"
     ]
    }
   ],
   "source": [
    "# NOTE: a and aa bth are same \n",
    "aa = np.expand_dims(a,axis=0)\n",
    "print(aa)\n",
    "print(aa.shape)\n",
    "# Now the array a becomes 2D as its shapes is (1,15)"
   ]
  },
  {
   "cell_type": "code",
   "execution_count": 185,
   "id": "2b02825d-eedf-45fb-9023-0ea006f68b50",
   "metadata": {},
   "outputs": [
    {
     "name": "stdout",
     "output_type": "stream",
     "text": [
      "[[15]\n",
      " [93]\n",
      " [ 9]\n",
      " [ 1]\n",
      " [62]\n",
      " [ 1]\n",
      " [54]\n",
      " [ 6]\n",
      " [88]\n",
      " [66]\n",
      " [84]\n",
      " [28]\n",
      " [ 2]\n",
      " [ 9]\n",
      " [63]]\n",
      "(15, 1)\n"
     ]
    }
   ],
   "source": [
    "aa = np.expand_dims(a,axis=1)\n",
    "print(aa)\n",
    "print(aa.shape)"
   ]
  },
  {
   "cell_type": "markdown",
   "id": "0b98dc61-421c-4fcb-ac56-faa0dbc7916c",
   "metadata": {},
   "source": [
    "#### 6. np.where"
   ]
  },
  {
   "cell_type": "markdown",
   "id": "fc7a6c31-c385-4e52-a031-a8b92746fc2c",
   "metadata": {},
   "source": [
    "##### The numpy.where() function returns the indices of elements in an input array where the given condition is satisfied"
   ]
  },
  {
   "cell_type": "code",
   "execution_count": 186,
   "id": "1e2ebdaa-ec85-4aa4-9c7e-30d8bccb85e7",
   "metadata": {},
   "outputs": [
    {
     "data": {
      "text/plain": [
       "array([15, 93,  9,  1, 62,  1, 54,  6, 88, 66, 84, 28,  2,  9, 63])"
      ]
     },
     "execution_count": 186,
     "metadata": {},
     "output_type": "execute_result"
    }
   ],
   "source": [
    "a"
   ]
  },
  {
   "cell_type": "code",
   "execution_count": 187,
   "id": "672ece3d-bfe3-4f14-972b-3e25086c9727",
   "metadata": {},
   "outputs": [
    {
     "data": {
      "text/plain": [
       "(array([ 1,  4,  6,  8,  9, 10, 14], dtype=int64),)"
      ]
     },
     "execution_count": 187,
     "metadata": {},
     "output_type": "execute_result"
    }
   ],
   "source": [
    "# Find all indices with values greater than 50\n",
    "np.where(a>50)"
   ]
  },
  {
   "cell_type": "code",
   "execution_count": 188,
   "id": "9e0ea59a-720b-4b1a-95f2-c8b5afc32230",
   "metadata": {},
   "outputs": [
    {
     "data": {
      "text/plain": [
       "array([15,  0,  9,  1,  0,  1,  0,  6,  0,  0,  0, 28,  2,  9,  0])"
      ]
     },
     "execution_count": 188,
     "metadata": {},
     "output_type": "execute_result"
    }
   ],
   "source": [
    "# replace all values > 50mwith 0\n",
    "np.where(a>50,0,a)"
   ]
  },
  {
   "cell_type": "code",
   "execution_count": 189,
   "id": "2a4bf786-a24f-499f-b967-beae69034e46",
   "metadata": {},
   "outputs": [
    {
     "data": {
      "text/plain": [
       "array([15, 93,  9,  1,  0,  1,  0,  0,  0,  0,  0,  0,  0,  9, 63])"
      ]
     },
     "execution_count": 189,
     "metadata": {},
     "output_type": "execute_result"
    }
   ],
   "source": [
    "# replace all even nos in a with 0\n",
    "np.where(a%2==0,0,a)"
   ]
  },
  {
   "cell_type": "markdown",
   "id": "2426a64a-5ded-4cc7-b090-74f8e147c01a",
   "metadata": {},
   "source": [
    "#### 7. np.argmax"
   ]
  },
  {
   "cell_type": "markdown",
   "id": "b62a3713-5603-4c03-81d5-0063a051950a",
   "metadata": {},
   "source": [
    "##### The numpy.argmax() function return indices of the max element of the array in a particular axis."
   ]
  },
  {
   "cell_type": "code",
   "execution_count": 190,
   "id": "bc0c42e8-ead8-44f3-8ce7-cd409eac11c9",
   "metadata": {},
   "outputs": [
    {
     "data": {
      "text/plain": [
       "array([15, 93,  9,  1, 62,  1, 54,  6, 88, 66, 84, 28,  2,  9, 63])"
      ]
     },
     "execution_count": 190,
     "metadata": {},
     "output_type": "execute_result"
    }
   ],
   "source": [
    "a"
   ]
  },
  {
   "cell_type": "code",
   "execution_count": 191,
   "id": "9f26e812-d901-419a-9515-ae6ce3ed9837",
   "metadata": {},
   "outputs": [
    {
     "data": {
      "text/plain": [
       "1"
      ]
     },
     "execution_count": 191,
     "metadata": {},
     "output_type": "execute_result"
    }
   ],
   "source": [
    "np.argmax(a)"
   ]
  },
  {
   "cell_type": "code",
   "execution_count": 192,
   "id": "d81b5c02-d291-47ba-ad37-59d0770a8586",
   "metadata": {},
   "outputs": [
    {
     "data": {
      "text/plain": [
       "array([[90, 94, 47, 83],\n",
       "       [72, 67, 76, 91],\n",
       "       [41, 14, 45, 34],\n",
       "       [24,  8, 51, 12],\n",
       "       [21, 98, 67,  1],\n",
       "       [89, 73, 72, 14]])"
      ]
     },
     "execution_count": 192,
     "metadata": {},
     "output_type": "execute_result"
    }
   ],
   "source": [
    "b"
   ]
  },
  {
   "cell_type": "code",
   "execution_count": 193,
   "id": "cda420e5-0188-4be3-8870-6ca578eff83e",
   "metadata": {},
   "outputs": [
    {
     "data": {
      "text/plain": [
       "array([0, 4, 1, 1], dtype=int64)"
      ]
     },
     "execution_count": 193,
     "metadata": {},
     "output_type": "execute_result"
    }
   ],
   "source": [
    "np.argmax(b,axis=0)\n",
    "# 5,3,5,5 showing at that particular index in each column there would be maximum value"
   ]
  },
  {
   "cell_type": "code",
   "execution_count": 194,
   "id": "17ecf9c7-f275-43d7-9d37-b8ffa1cbaafd",
   "metadata": {},
   "outputs": [
    {
     "data": {
      "text/plain": [
       "array([1, 3, 2, 2, 1, 0], dtype=int64)"
      ]
     },
     "execution_count": 194,
     "metadata": {},
     "output_type": "execute_result"
    }
   ],
   "source": [
    "np.argmax(b,axis=1)\n",
    "# 1,3,2,1,1,3 showing at that particular index in each row there would be maximum value"
   ]
  },
  {
   "cell_type": "raw",
   "id": "5205934a-006a-4780-a287-404c383fbcc6",
   "metadata": {},
   "source": [
    "for min just use argmin instead of argmax"
   ]
  },
  {
   "cell_type": "markdown",
   "id": "1cc3629b-9ba5-4601-87cb-860e71c086d7",
   "metadata": {},
   "source": [
    "#### 8. np.cumsum -->> cummulative sum"
   ]
  },
  {
   "cell_type": "code",
   "execution_count": 195,
   "id": "a89d64e8-9ed1-4967-9495-718545ff476d",
   "metadata": {},
   "outputs": [
    {
     "data": {
      "text/plain": [
       "array([15, 93,  9,  1, 62,  1, 54,  6, 88, 66, 84, 28,  2,  9, 63])"
      ]
     },
     "execution_count": 195,
     "metadata": {},
     "output_type": "execute_result"
    }
   ],
   "source": [
    "a"
   ]
  },
  {
   "cell_type": "code",
   "execution_count": 196,
   "id": "f6c24770-678c-42ff-9bfe-cdff0c89bb59",
   "metadata": {},
   "outputs": [
    {
     "data": {
      "text/plain": [
       "array([ 15, 108, 117, 118, 180, 181, 235, 241, 329, 395, 479, 507, 509,\n",
       "       518, 581])"
      ]
     },
     "execution_count": 196,
     "metadata": {},
     "output_type": "execute_result"
    }
   ],
   "source": [
    "# In 1D array\n",
    "np.cumsum(a)"
   ]
  },
  {
   "cell_type": "code",
   "execution_count": 197,
   "id": "057f130c-1e2d-4dab-bccc-04894cb99ec8",
   "metadata": {},
   "outputs": [
    {
     "data": {
      "text/plain": [
       "array([[90, 94, 47, 83],\n",
       "       [72, 67, 76, 91],\n",
       "       [41, 14, 45, 34],\n",
       "       [24,  8, 51, 12],\n",
       "       [21, 98, 67,  1],\n",
       "       [89, 73, 72, 14]])"
      ]
     },
     "execution_count": 197,
     "metadata": {},
     "output_type": "execute_result"
    }
   ],
   "source": [
    "# In 2D array -->> must have to provide axis otherwise it converts it into 1D\n",
    "b"
   ]
  },
  {
   "cell_type": "code",
   "execution_count": 198,
   "id": "fee71be7-fb6c-466a-87e1-c2afd78339e6",
   "metadata": {},
   "outputs": [
    {
     "data": {
      "text/plain": [
       "array([[ 90,  94,  47,  83],\n",
       "       [162, 161, 123, 174],\n",
       "       [203, 175, 168, 208],\n",
       "       [227, 183, 219, 220],\n",
       "       [248, 281, 286, 221],\n",
       "       [337, 354, 358, 235]])"
      ]
     },
     "execution_count": 198,
     "metadata": {},
     "output_type": "execute_result"
    }
   ],
   "source": [
    "np.cumsum(b,axis=0) # Column-wise so use axis=0"
   ]
  },
  {
   "cell_type": "code",
   "execution_count": 199,
   "id": "cbd84e5a-20b6-4b5f-b21f-f0abf05d34d4",
   "metadata": {},
   "outputs": [
    {
     "data": {
      "text/plain": [
       "array([[ 90, 184, 231, 314],\n",
       "       [ 72, 139, 215, 306],\n",
       "       [ 41,  55, 100, 134],\n",
       "       [ 24,  32,  83,  95],\n",
       "       [ 21, 119, 186, 187],\n",
       "       [ 89, 162, 234, 248]])"
      ]
     },
     "execution_count": 199,
     "metadata": {},
     "output_type": "execute_result"
    }
   ],
   "source": [
    "np.cumsum(b,axis=1) # row-wise hence use axis=1"
   ]
  },
  {
   "cell_type": "markdown",
   "id": "0b782869-be77-428f-b33d-70feb6beb4ce",
   "metadata": {},
   "source": [
    "#### 9. np.cumprod -->> same as cumsum"
   ]
  },
  {
   "cell_type": "code",
   "execution_count": 200,
   "id": "b0f95f75-38d8-47df-839b-1b9835edea0e",
   "metadata": {},
   "outputs": [
    {
     "data": {
      "text/plain": [
       "array([15, 93,  9,  1, 62,  1, 54,  6, 88, 66, 84, 28,  2,  9, 63])"
      ]
     },
     "execution_count": 200,
     "metadata": {},
     "output_type": "execute_result"
    }
   ],
   "source": [
    "a"
   ]
  },
  {
   "cell_type": "code",
   "execution_count": 201,
   "id": "f0941298-0625-440c-908e-ad8676fd8fdb",
   "metadata": {},
   "outputs": [
    {
     "data": {
      "text/plain": [
       "array([        15,       1395,      12555,      12555,     778410,\n",
       "           778410,   42034140,  252204840,  719189440,  221862784,\n",
       "       1456604672, 2130225152,  -34516992, -310652928, 1903702016])"
      ]
     },
     "execution_count": 201,
     "metadata": {},
     "output_type": "execute_result"
    }
   ],
   "source": [
    "np.cumprod(a)"
   ]
  },
  {
   "cell_type": "markdown",
   "id": "f79a0260-09ea-480c-9fbe-a1574ee255e5",
   "metadata": {},
   "source": [
    "#### 10. np.percentile"
   ]
  },
  {
   "cell_type": "markdown",
   "id": "f17ac9fc-e527-498f-ba8a-90295a9333c9",
   "metadata": {},
   "source": [
    "##### numpy.percentile() function used to compute the nth percentile of the given data(array elements) along the specified axis  --> np.percentile(a,percentile you want to know)"
   ]
  },
  {
   "cell_type": "code",
   "execution_count": 202,
   "id": "1fd7a39d-ed18-4226-a6a3-d68682305a1b",
   "metadata": {},
   "outputs": [
    {
     "data": {
      "text/plain": [
       "array([15, 93,  9,  1, 62,  1, 54,  6, 88, 66, 84, 28,  2,  9, 63])"
      ]
     },
     "execution_count": 202,
     "metadata": {},
     "output_type": "execute_result"
    }
   ],
   "source": [
    "a"
   ]
  },
  {
   "cell_type": "code",
   "execution_count": 203,
   "id": "87d200e9-37c5-4d9b-bdec-07fc076011bc",
   "metadata": {},
   "outputs": [
    {
     "data": {
      "text/plain": [
       "93.0"
      ]
     },
     "execution_count": 203,
     "metadata": {},
     "output_type": "execute_result"
    }
   ],
   "source": [
    "# 100th percentile is maximum hence in output 96 is obtained bcz max is 96\n",
    "np.percentile(a,100)"
   ]
  },
  {
   "cell_type": "code",
   "execution_count": 204,
   "id": "50e0deb4-c07d-4a64-bd8c-212dd18f1c06",
   "metadata": {},
   "outputs": [
    {
     "data": {
      "text/plain": [
       "1.0"
      ]
     },
     "execution_count": 204,
     "metadata": {},
     "output_type": "execute_result"
    }
   ],
   "source": [
    "# 0th percentile is minimum hence in output 5 is obtained bcz min is 5\n",
    "np.percentile(a,0)"
   ]
  },
  {
   "cell_type": "code",
   "execution_count": 205,
   "id": "f8abacaa-98da-40ed-b05a-85706c2d7c7f",
   "metadata": {},
   "outputs": [
    {
     "data": {
      "text/plain": [
       "28.0"
      ]
     },
     "execution_count": 205,
     "metadata": {},
     "output_type": "execute_result"
    }
   ],
   "source": [
    "# 50th  percentile is the median of given a -->> hence in output 25 is obtained bcz median of a is 25\n",
    "np.percentile(a,50)\n",
    "# We can check the median of a by np.median(a)"
   ]
  },
  {
   "cell_type": "code",
   "execution_count": 206,
   "id": "29507047-715c-4f20-ab74-2096420f51f6",
   "metadata": {},
   "outputs": [
    {
     "data": {
      "text/plain": [
       "28.0"
      ]
     },
     "execution_count": 206,
     "metadata": {},
     "output_type": "execute_result"
    }
   ],
   "source": [
    "np.median(a)"
   ]
  },
  {
   "cell_type": "markdown",
   "id": "e98abad2-d1d8-467b-b39a-1a5f28ee1619",
   "metadata": {},
   "source": [
    "#### np.histogram"
   ]
  },
  {
   "cell_type": "markdown",
   "id": "e3b2b3f2-7acb-47be-b5c3-ca39e0a6fd2b",
   "metadata": {},
   "source": [
    "##### Numpy has a built-in numpy.histogram() function which represents the frequency of data distribution in the graphical form."
   ]
  },
  {
   "cell_type": "code",
   "execution_count": 207,
   "id": "2b391b15-952d-4a8a-8a90-489cbbd1d670",
   "metadata": {},
   "outputs": [
    {
     "data": {
      "text/plain": [
       "array([15, 93,  9,  1, 62,  1, 54,  6, 88, 66, 84, 28,  2,  9, 63])"
      ]
     },
     "execution_count": 207,
     "metadata": {},
     "output_type": "execute_result"
    }
   ],
   "source": [
    "a"
   ]
  },
  {
   "cell_type": "code",
   "execution_count": 208,
   "id": "54516c6f-2316-450a-9e85-5095bc53515c",
   "metadata": {},
   "outputs": [
    {
     "data": {
      "text/plain": [
       "(array([8, 7], dtype=int64), array([  0,  50, 100]))"
      ]
     },
     "execution_count": 208,
     "metadata": {},
     "output_type": "execute_result"
    }
   ],
   "source": [
    "np.histogram(a,bins=[0,50,100])\n",
    "# here 0,50,100 is used to check that how many nos lies b/w 0-50 then 50-100 and ans is 0-50 = 11 nos and 50-100 = 4 nos"
   ]
  },
  {
   "cell_type": "markdown",
   "id": "feb463d2-f9f3-4a1c-9f92-9257a46d4c87",
   "metadata": {},
   "source": [
    "#### np.corrcoef "
   ]
  },
  {
   "cell_type": "markdown",
   "id": "9daca397-83e1-4165-b4b5-46ef26a69595",
   "metadata": {},
   "source": [
    "##### Return Pearson product-moment correlation coefficients (always lies b/w -1 to 1)\n",
    "###### . If 0 -->> there is no correlation b/w any two parameter\n",
    "###### . If 1 -->> both are positively correlated (same amount se growth in both)\n",
    "###### . If -1 ->> both are negatively correlated (if any particular amount one is increase then at the same amount another will decrease)"
   ]
  },
  {
   "cell_type": "code",
   "execution_count": 209,
   "id": "ef92152d-0353-40cb-a21f-9d7035d34223",
   "metadata": {},
   "outputs": [
    {
     "data": {
      "text/plain": [
       "array([[1.        , 0.25344572],\n",
       "       [0.25344572, 1.        ]])"
      ]
     },
     "execution_count": 209,
     "metadata": {},
     "output_type": "execute_result"
    }
   ],
   "source": [
    "salary = np.array([20000,40000,25000,35000,60000])\n",
    "experience = np.array([1,3,2,4,2])\n",
    "\n",
    "np.corrcoef(salary,experience)"
   ]
  },
  {
   "cell_type": "markdown",
   "id": "bb5a13be-bf8f-46da-986d-7c1a89f6abf6",
   "metadata": {},
   "source": [
    "#### np.isin"
   ]
  },
  {
   "cell_type": "markdown",
   "id": "628543e3-af66-4829-ac16-13b45f8ab30f",
   "metadata": {},
   "source": [
    "###### With the help of numpy.isin() method, we can see that one array haviing values are checked in a different numpy array having different elements with different sizes."
   ]
  },
  {
   "cell_type": "markdown",
   "id": "8f53dfc8-654f-420f-a76b-99819e1876a0",
   "metadata": {},
   "source": [
    "###### NOTE: If you want to search multiple item at a time that these are present or not in given array then we use np.isin\n"
   ]
  },
  {
   "cell_type": "code",
   "execution_count": 210,
   "id": "ffd0ff68-37de-4b4e-b754-19ed9d136797",
   "metadata": {},
   "outputs": [
    {
     "data": {
      "text/plain": [
       "array([15, 93,  9,  1, 62,  1, 54,  6, 88, 66, 84, 28,  2,  9, 63])"
      ]
     },
     "execution_count": 210,
     "metadata": {},
     "output_type": "execute_result"
    }
   ],
   "source": [
    "a"
   ]
  },
  {
   "cell_type": "code",
   "execution_count": 211,
   "id": "d273d103-0f6b-4583-8dab-b8c3f4170b16",
   "metadata": {},
   "outputs": [
    {
     "data": {
      "text/plain": [
       "array([False, False, False, False, False, False, False, False, False,\n",
       "       False, False, False, False, False, False])"
      ]
     },
     "execution_count": 211,
     "metadata": {},
     "output_type": "execute_result"
    }
   ],
   "source": [
    "items = [5,10,20,30,40,50,60,70,82,90,100]\n",
    "np.isin(a,items)"
   ]
  },
  {
   "cell_type": "code",
   "execution_count": 212,
   "id": "6086a123-72cd-431b-ba1a-ff8485dcb696",
   "metadata": {},
   "outputs": [
    {
     "data": {
      "text/plain": [
       "array([], dtype=int32)"
      ]
     },
     "execution_count": 212,
     "metadata": {},
     "output_type": "execute_result"
    }
   ],
   "source": [
    "# now put in a to get which ones are present\n",
    "a[np.isin(a,items)]"
   ]
  },
  {
   "cell_type": "markdown",
   "id": "42815d01-3495-4191-a663-afb43f91302d",
   "metadata": {},
   "source": [
    "#### np.flip"
   ]
  },
  {
   "cell_type": "markdown",
   "id": "1712c080-41b9-4b90-8bfc-048f7df579f9",
   "metadata": {},
   "source": [
    "###### The numpy.flip() function reverses the order of array elements along the specified axis, preserving the shape of the array."
   ]
  },
  {
   "cell_type": "code",
   "execution_count": 213,
   "id": "71c61803-0113-414b-8f18-9612edaf4054",
   "metadata": {},
   "outputs": [
    {
     "name": "stdout",
     "output_type": "stream",
     "text": [
      "[15 93  9  1 62  1 54  6 88 66 84 28  2  9 63]\n"
     ]
    }
   ],
   "source": [
    "print(a)"
   ]
  },
  {
   "cell_type": "code",
   "execution_count": 214,
   "id": "8d7b7567-03b1-4383-8db4-09be4b028689",
   "metadata": {},
   "outputs": [
    {
     "name": "stdout",
     "output_type": "stream",
     "text": [
      "[63  9  2 28 84 66 88  6 54  1 62  1  9 93 15]\n"
     ]
    }
   ],
   "source": [
    "print(np.flip(a))"
   ]
  },
  {
   "cell_type": "code",
   "execution_count": 215,
   "id": "c156d424-bbd9-47af-b379-e0bea404d4dd",
   "metadata": {},
   "outputs": [
    {
     "name": "stdout",
     "output_type": "stream",
     "text": [
      "[[90 94 47 83]\n",
      " [72 67 76 91]\n",
      " [41 14 45 34]\n",
      " [24  8 51 12]\n",
      " [21 98 67  1]\n",
      " [89 73 72 14]]\n"
     ]
    }
   ],
   "source": [
    "# Also works on 2D\n",
    "print(b)"
   ]
  },
  {
   "cell_type": "code",
   "execution_count": 216,
   "id": "fc8e7248-1f6c-4ecc-ab47-509616a74c24",
   "metadata": {},
   "outputs": [
    {
     "name": "stdout",
     "output_type": "stream",
     "text": [
      "[[14 72 73 89]\n",
      " [ 1 67 98 21]\n",
      " [12 51  8 24]\n",
      " [34 45 14 41]\n",
      " [91 76 67 72]\n",
      " [83 47 94 90]]\n"
     ]
    }
   ],
   "source": [
    "print(np.flip(b))\n",
    "# These output is because here two flipping is done 1st row and then column"
   ]
  },
  {
   "cell_type": "code",
   "execution_count": 217,
   "id": "ba43d205-0307-4d09-92ca-8be341b7582e",
   "metadata": {},
   "outputs": [
    {
     "name": "stdout",
     "output_type": "stream",
     "text": [
      "[[89 73 72 14]\n",
      " [21 98 67  1]\n",
      " [24  8 51 12]\n",
      " [41 14 45 34]\n",
      " [72 67 76 91]\n",
      " [90 94 47 83]]\n"
     ]
    }
   ],
   "source": [
    "# Column-wise flipping\n",
    "print(np.flip(b,axis=0))"
   ]
  },
  {
   "cell_type": "code",
   "execution_count": 218,
   "id": "e06b3471-e756-4fb8-a235-7fd2046970b9",
   "metadata": {},
   "outputs": [
    {
     "name": "stdout",
     "output_type": "stream",
     "text": [
      "[[83 47 94 90]\n",
      " [91 76 67 72]\n",
      " [34 45 14 41]\n",
      " [12 51  8 24]\n",
      " [ 1 67 98 21]\n",
      " [14 72 73 89]]\n"
     ]
    }
   ],
   "source": [
    "# Row-wise flipping\n",
    "print(np.flip(b,axis=1))"
   ]
  },
  {
   "cell_type": "markdown",
   "id": "bd02542b-1f40-4469-aee6-721d5d086960",
   "metadata": {},
   "source": [
    "#### np.put"
   ]
  },
  {
   "cell_type": "markdown",
   "id": "d7087e2b-5572-49a3-ad72-a884b72cc522",
   "metadata": {},
   "source": [
    "###### The numpy.put() function replaces specific elements of an array with given values of p_array. Array indexed works on flattened array."
   ]
  },
  {
   "cell_type": "code",
   "execution_count": 219,
   "id": "17d03aa9-905e-4bd7-ace1-af9bd448208d",
   "metadata": {},
   "outputs": [
    {
     "data": {
      "text/plain": [
       "array([15, 93,  9,  1, 62,  1, 54,  6, 88, 66, 84, 28,  2,  9, 63])"
      ]
     },
     "execution_count": 219,
     "metadata": {},
     "output_type": "execute_result"
    }
   ],
   "source": [
    "# Code\n",
    "a"
   ]
  },
  {
   "cell_type": "code",
   "execution_count": 220,
   "id": "a37fab9b-2e90-464e-97e9-204671c3ebe2",
   "metadata": {},
   "outputs": [],
   "source": [
    "np.put(a,[0,1],[500,450])"
   ]
  },
  {
   "cell_type": "code",
   "execution_count": 221,
   "id": "ec9a5ca9-f487-4a9e-889e-17beb7a1413b",
   "metadata": {},
   "outputs": [
    {
     "data": {
      "text/plain": [
       "array([500, 450,   9,   1,  62,   1,  54,   6,  88,  66,  84,  28,   2,\n",
       "         9,  63])"
      ]
     },
     "execution_count": 221,
     "metadata": {},
     "output_type": "execute_result"
    }
   ],
   "source": [
    "a"
   ]
  },
  {
   "cell_type": "raw",
   "id": "ff24c645-9e37-4fdb-9b71-10d5484bcdb6",
   "metadata": {},
   "source": [
    "NOTE: np.put makes a permanent chnages -->> If permanent operation then direct result is not obtained/shows"
   ]
  },
  {
   "cell_type": "markdown",
   "id": "5d7761c6-e59f-4021-9cdf-deb4e2f17f5f",
   "metadata": {},
   "source": [
    "#### np.delete"
   ]
  },
  {
   "cell_type": "markdown",
   "id": "4808b680-c5fc-4b91-8714-571a0024894d",
   "metadata": {},
   "source": [
    "###### The numpy.delete() function returns a new array with the deletion of sub-arrays along with the mentioned axis."
   ]
  },
  {
   "cell_type": "code",
   "execution_count": 222,
   "id": "05433805-2247-4b82-8553-403f9f92cc10",
   "metadata": {},
   "outputs": [
    {
     "data": {
      "text/plain": [
       "array([500, 450,   9,   1,  62,   1,  54,   6,  88,  66,  84,  28,   2,\n",
       "         9,  63])"
      ]
     },
     "execution_count": 222,
     "metadata": {},
     "output_type": "execute_result"
    }
   ],
   "source": [
    "a"
   ]
  },
  {
   "cell_type": "code",
   "execution_count": 225,
   "id": "4df2c0a5-5fb6-470b-bbf0-b73cef1822a9",
   "metadata": {},
   "outputs": [
    {
     "data": {
      "text/plain": [
       "array([450,   9,   1,  62,   1,  54,   6,  88,  66,  84,  28,   2,   9,\n",
       "        63])"
      ]
     },
     "execution_count": 225,
     "metadata": {},
     "output_type": "execute_result"
    }
   ],
   "source": [
    "# You've to provide the index no at which you want to delete the element\n",
    "np.delete(a,0)"
   ]
  },
  {
   "cell_type": "code",
   "execution_count": 226,
   "id": "b5201e9c-41ae-4965-bdce-1acd24ef87f9",
   "metadata": {},
   "outputs": [
    {
     "data": {
      "text/plain": [
       "array([450,   9,   1,  54,   6,  88,  66,  84,  28,   2,   9,  63])"
      ]
     },
     "execution_count": 226,
     "metadata": {},
     "output_type": "execute_result"
    }
   ],
   "source": [
    "# you can delete multiple items at a time\n",
    "np.delete(a,[0,3,4])"
   ]
  },
  {
   "cell_type": "code",
   "execution_count": null,
   "id": "6cd3f6c2-2e49-4d34-ae66-f746bf6875b2",
   "metadata": {},
   "outputs": [],
   "source": []
  },
  {
   "cell_type": "markdown",
   "id": "f55ed196-fb06-4fe2-be82-da4bbf1c51aa",
   "metadata": {},
   "source": [
    "#### Set Functions"
   ]
  },
  {
   "cell_type": "markdown",
   "id": "b5b547b7-60c9-4935-a4a9-cecac3f98192",
   "metadata": {},
   "source": [
    "###### . np.union1d\n",
    "###### . np.intersect1d\n",
    "###### . np.setdiff1d\n",
    "###### . np.setxor1d\n",
    "###### . np.in1d"
   ]
  },
  {
   "cell_type": "code",
   "execution_count": 227,
   "id": "b879a409-f6d3-42f2-9c4a-ad34a4f3e1bd",
   "metadata": {},
   "outputs": [],
   "source": [
    "m = np.array([1,2,3,4,5])\n",
    "n = np.array([3,4,5,6,7])"
   ]
  },
  {
   "cell_type": "code",
   "execution_count": 228,
   "id": "e2dfe5e4-e9c7-443d-9d5e-07f3ecc270cc",
   "metadata": {},
   "outputs": [
    {
     "data": {
      "text/plain": [
       "array([1, 2, 3, 4, 5, 6, 7])"
      ]
     },
     "execution_count": 228,
     "metadata": {},
     "output_type": "execute_result"
    }
   ],
   "source": [
    "np.union1d(m,n)"
   ]
  },
  {
   "cell_type": "code",
   "execution_count": 229,
   "id": "b2219e11-5e56-4b70-96cf-189e1657c65d",
   "metadata": {},
   "outputs": [
    {
     "data": {
      "text/plain": [
       "array([3, 4, 5])"
      ]
     },
     "execution_count": 229,
     "metadata": {},
     "output_type": "execute_result"
    }
   ],
   "source": [
    "np.intersect1d(m,n)"
   ]
  },
  {
   "cell_type": "code",
   "execution_count": 231,
   "id": "fc5577c2-ffb7-4e24-9f32-c615267bf070",
   "metadata": {},
   "outputs": [
    {
     "data": {
      "text/plain": [
       "array([1, 2])"
      ]
     },
     "execution_count": 231,
     "metadata": {},
     "output_type": "execute_result"
    }
   ],
   "source": [
    "# settdiff1d(m,n) -->> items present in m but not in n\n",
    "np.setdiff1d(m,n)"
   ]
  },
  {
   "cell_type": "code",
   "execution_count": 232,
   "id": "ea658341-654d-4791-bc6e-594c4e33da5a",
   "metadata": {},
   "outputs": [
    {
     "data": {
      "text/plain": [
       "array([6, 7])"
      ]
     },
     "execution_count": 232,
     "metadata": {},
     "output_type": "execute_result"
    }
   ],
   "source": [
    "# settdiff1d(n,m) -->> items present in n but not in m\n",
    "np.setdiff1d(n,m)"
   ]
  },
  {
   "cell_type": "code",
   "execution_count": 234,
   "id": "86cc2428-7e96-437f-8913-cc90bcab4016",
   "metadata": {},
   "outputs": [
    {
     "data": {
      "text/plain": [
       "array([1, 2, 6, 7])"
      ]
     },
     "execution_count": 234,
     "metadata": {},
     "output_type": "execute_result"
    }
   ],
   "source": [
    "np.setxor1d(m,n)"
   ]
  },
  {
   "cell_type": "code",
   "execution_count": 235,
   "id": "99444adb-44f1-47fd-b17b-8702b28cffa8",
   "metadata": {},
   "outputs": [
    {
     "data": {
      "text/plain": [
       "array([ True, False, False, False, False])"
      ]
     },
     "execution_count": 235,
     "metadata": {},
     "output_type": "execute_result"
    }
   ],
   "source": [
    "# checks whether element is present in the set or not ?? \n",
    "np.in1d(m,1)"
   ]
  },
  {
   "cell_type": "code",
   "execution_count": 236,
   "id": "c5b9acbc-90d0-459c-b8af-ea3859cb41ba",
   "metadata": {},
   "outputs": [
    {
     "data": {
      "text/plain": [
       "array([1])"
      ]
     },
     "execution_count": 236,
     "metadata": {},
     "output_type": "execute_result"
    }
   ],
   "source": [
    "m[np.in1d(m,1)]"
   ]
  },
  {
   "cell_type": "markdown",
   "id": "65e473ac-18d4-4b31-b1f2-89a0dbc52ce3",
   "metadata": {},
   "source": [
    "#### np.clip"
   ]
  },
  {
   "cell_type": "markdown",
   "id": "cf0faa03-2e61-400f-b3ef-e944f360660c",
   "metadata": {},
   "source": [
    "###### numpy.clip() function is used to Clip(limit) the values in an array "
   ]
  },
  {
   "cell_type": "markdown",
   "id": "7892afb8-7411-43f2-aa72-2bd40e9e1815",
   "metadata": {},
   "source": [
    "###### NOTE: By using np.clip(a,a_min=x,a_max=y) we set a limit of values i.e a_min=x and a_max= y so all values greater than y are replaced with y and values less than x are replaced with x and others are same."
   ]
  },
  {
   "cell_type": "code",
   "execution_count": 240,
   "id": "7d427b73-6e65-4759-8a39-dace936f4425",
   "metadata": {},
   "outputs": [
    {
     "data": {
      "text/plain": [
       "array([500, 450,   9,   1,  62,   1,  54,   6,  88,  66,  84,  28,   2,\n",
       "         9,  63])"
      ]
     },
     "execution_count": 240,
     "metadata": {},
     "output_type": "execute_result"
    }
   ],
   "source": [
    "a"
   ]
  },
  {
   "cell_type": "code",
   "execution_count": 241,
   "id": "269c06f0-993c-41ca-80e6-fc47a2855652",
   "metadata": {},
   "outputs": [
    {
     "data": {
      "text/plain": [
       "array([75, 75, 25, 25, 62, 25, 54, 25, 75, 66, 75, 28, 25, 25, 63])"
      ]
     },
     "execution_count": 241,
     "metadata": {},
     "output_type": "execute_result"
    }
   ],
   "source": [
    "np.clip(a,a_min=25,a_max=75)\n",
    "# here values greater than 75 are replaced with 75 and values less than 25 are replaced with 25 and others are same as"
   ]
  },
  {
   "cell_type": "code",
   "execution_count": null,
   "id": "82889da6-c8bf-4435-b1a6-bfe1db9331a5",
   "metadata": {},
   "outputs": [],
   "source": []
  },
  {
   "cell_type": "code",
   "execution_count": null,
   "id": "de8d8506-9d82-4fae-b81b-6e8b14880993",
   "metadata": {},
   "outputs": [],
   "source": []
  }
 ],
 "metadata": {
  "kernelspec": {
   "display_name": "Python 3 (ipykernel)",
   "language": "python",
   "name": "python3"
  },
  "language_info": {
   "codemirror_mode": {
    "name": "ipython",
    "version": 3
   },
   "file_extension": ".py",
   "mimetype": "text/x-python",
   "name": "python",
   "nbconvert_exporter": "python",
   "pygments_lexer": "ipython3",
   "version": "3.12.7"
  }
 },
 "nbformat": 4,
 "nbformat_minor": 5
}
